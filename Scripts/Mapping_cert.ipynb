{
 "cells": [
  {
   "cell_type": "code",
   "execution_count": 2,
   "metadata": {
    "ExecuteTime": {
     "end_time": "2019-11-29T18:49:42.144065Z",
     "start_time": "2019-11-29T18:49:40.946789Z"
    }
   },
   "outputs": [],
   "source": [
    "import numpy as np\n",
    "import pandas as pd\n",
    "import imdb"
   ]
  },
  {
   "cell_type": "code",
   "execution_count": 3,
   "metadata": {
    "ExecuteTime": {
     "end_time": "2019-11-29T18:49:42.174812Z",
     "start_time": "2019-11-29T18:49:42.146882Z"
    }
   },
   "outputs": [],
   "source": [
    "Movies_ = pd.read_csv('/Users/bader/Desktop/Movies_2000_fixedCast.csv')"
   ]
  },
  {
   "cell_type": "markdown",
   "metadata": {},
   "source": [
    "## Fixing certificates"
   ]
  },
  {
   "cell_type": "code",
   "execution_count": 4,
   "metadata": {
    "ExecuteTime": {
     "end_time": "2019-11-29T18:49:43.705455Z",
     "start_time": "2019-11-29T18:49:43.692215Z"
    }
   },
   "outputs": [
    {
     "data": {
      "text/plain": [
       "Index(['year', 'name', 'Movie_ID', 'runtime', 'cast', 'genre', 'country_codes',\n",
       "       'language_codes', 'certificates', 'Budget', 'OWUS', 'CWG', 'rating',\n",
       "       'votes', 'original_air_date', 'title', 'director', 'writer1', 'writer2',\n",
       "       'producer1', 'producer2', 'production_company1', 'production_company2',\n",
       "       'composers', 'editors', 'cinematographers', 'set_decorators',\n",
       "       'assistant_directors', 'visual_effects'],\n",
       "      dtype='object')"
      ]
     },
     "execution_count": 4,
     "metadata": {},
     "output_type": "execute_result"
    }
   ],
   "source": [
    "Movies_.columns"
   ]
  },
  {
   "cell_type": "markdown",
   "metadata": {},
   "source": [
    "A G rating stands for “General Audiences,” and means the film contains nothing that should offend parents or children. A PG rating stands for “Parental Guidance,” and is a gentle warning that there may be some content that parents might not want younger kids to see. PG-13 is a stronger caution, warning parents that children under 13 may be too young to deal with some of the content, and strongly advising parents to use their discretion. An “R” rating stands for “Restricted,” and participating movie theaters will not admit children under the age of 17 without a parent or guardian. “R” movies tend to contain more graphic violence, adult situations, and graphic language, and the MPAA's rating is intended to strongly urge parents to avoid bringing children to see this movie given its mature content. Finally, an “NC-17” rating stands for “No Children Under 17,” and is the strongest warning the MPAA currently issues. Participating theaters will not admit anyone under 17, regardless of whether accompanied by a parent or not. These films are considered far too graphic for children and, in fact, may offend some adults, as well.\n",
    "\n",
    "\n",
    "- **R — R is a film rating level (from the MPAA). It is below NC-17, and above PG-13. ... R and TV-MA are fairly similar to how they're rated. The elements include language, violence, substance abuse, nudity, and sexual content.**\n",
    "\n",
    "\n",
    "- **unrated — In new movies, a DVD that says \"unrated\" means scenes have been added to the film that were not seen in the \"rated\" version. The new scenes, having not been rated, could contain anything from violence to nudity to language to boring dialogue that was cut from the theatrical version.**\n",
    "\n",
    "\n",
    "- **TV–G — Suitable for all ages; little or no violence, strong language. or sexual situations.**\n",
    "\n",
    "\n",
    "- **TV–PG — Parental guidance suggested; may be unsuitable for younger children.**\n",
    "\n",
    "\n",
    "- **TV–14 — Parents strongly cautioned; may be unsuitable for children under 14.**\n",
    "\n",
    "- **TV-Y — This rating means that programming is appropriate for children of all ages. TV-Y7 indicates that programming is designed for chil- dren ages 7 and older.**\n",
    "\n",
    "- **The definition of N-17 is a movie or film rating indicating that the movie contains adult content and should not be seen by people under the age of 17.**\n",
    "\n",
    "\n",
    "\n",
    "#### ( R  [TV-MA ,  ]\n",
    "#### (G, [TV–G , TV-Y ,  \n",
    "#### (PG , [TV-Y7]\n",
    "#### (PG-13, [TV-14 , ]\n",
    "#### (Unrated [Not Rated\n",
    "#### (Approved\n"
   ]
  },
  {
   "cell_type": "code",
   "execution_count": 5,
   "metadata": {
    "ExecuteTime": {
     "end_time": "2019-11-29T18:49:48.192763Z",
     "start_time": "2019-11-29T18:49:48.180626Z"
    }
   },
   "outputs": [
    {
     "name": "stdout",
     "output_type": "stream",
     "text": [
      "418\n"
     ]
    },
    {
     "data": {
      "text/plain": [
       "131"
      ]
     },
     "execution_count": 5,
     "metadata": {},
     "output_type": "execute_result"
    }
   ],
   "source": [
    "print(Movies_['certificates'].shape[0])\n",
    "Movies_['certificates'].isnull().sum()"
   ]
  },
  {
   "cell_type": "code",
   "execution_count": 6,
   "metadata": {
    "ExecuteTime": {
     "end_time": "2019-11-29T18:49:49.228521Z",
     "start_time": "2019-11-29T18:49:49.217381Z"
    }
   },
   "outputs": [
    {
     "data": {
      "text/plain": [
       "R                             114\n",
       "PG-13                          58\n",
       "Not Rated                      32\n",
       "PG                             17\n",
       "G                              10\n",
       "Unrated                         7\n",
       "TV-14                           7\n",
       "TV-14::(DLSV, TV Rating.)       4\n",
       "TV-PG                           4\n",
       "TV-14::(TV rating)              4\n",
       "TV-MA::(cable rating)           3\n",
       "TV-14::(DLS, TV Rating.)        2\n",
       "Approved                        2\n",
       "TV-MA::(TV rating)              2\n",
       "TV-PG::(DL, TV Rating.)         2\n",
       "R::(certificate # 37343)        1\n",
       "TV-PG::(DLS, TV rating)         1\n",
       "R::(Approved No. 37152)         1\n",
       "TV-G::(Nickelodeon)             1\n",
       "R::(certificate no. 37918)      1\n",
       "R::(NO. 37533)                  1\n",
       "PG::(No. 37187)                 1\n",
       "R::(No. 37609)                  1\n",
       "R::(#37352)                     1\n",
       "TV-MA::(cable television)       1\n",
       "TV-14::(LSV, TV Rating.)        1\n",
       "TV-MA                           1\n",
       "TV-PG::(LV)                     1\n",
       "TV-PG::(Cartoon Network)        1\n",
       "TV-Y                            1\n",
       "PG-13::(No. 37869)              1\n",
       "R::(certificate #*1174*)        1\n",
       "TV-Y7                           1\n",
       "PG::(NO. 37274)                 1\n",
       "Name: certificates, dtype: int64"
      ]
     },
     "execution_count": 6,
     "metadata": {},
     "output_type": "execute_result"
    }
   ],
   "source": [
    "Movies_['certificates'].value_counts()"
   ]
  },
  {
   "cell_type": "code",
   "execution_count": 7,
   "metadata": {
    "ExecuteTime": {
     "end_time": "2019-11-29T18:49:51.792249Z",
     "start_time": "2019-11-29T18:49:51.781641Z"
    }
   },
   "outputs": [],
   "source": [
    "Movies_['certificates'].value_counts()\n",
    "\n",
    "# R,PG-13,Unrated,PG,G,\n",
    "\n",
    "Movies_['Rating'] = Movies_['certificates'].apply(lambda x: x.split(':')[0] if len(str(x)) > 10 else x)\n"
   ]
  },
  {
   "cell_type": "code",
   "execution_count": 8,
   "metadata": {
    "ExecuteTime": {
     "end_time": "2019-11-29T18:49:53.885236Z",
     "start_time": "2019-11-29T18:49:53.876940Z"
    }
   },
   "outputs": [
    {
     "data": {
      "text/plain": [
       "R            121\n",
       "PG-13         59\n",
       "Not Rated     32\n",
       "PG            19\n",
       "TV-14         18\n",
       "G             10\n",
       "TV-PG          9\n",
       "TV-MA          7\n",
       "Unrated        7\n",
       "Approved       2\n",
       "TV-Y7          1\n",
       "TV-Y           1\n",
       "TV-G           1\n",
       "Name: Rating, dtype: int64"
      ]
     },
     "execution_count": 8,
     "metadata": {},
     "output_type": "execute_result"
    }
   ],
   "source": [
    "Movies_['Rating'].value_counts()"
   ]
  },
  {
   "cell_type": "code",
   "execution_count": 9,
   "metadata": {
    "ExecuteTime": {
     "end_time": "2019-11-29T18:49:55.684788Z",
     "start_time": "2019-11-29T18:49:55.672602Z"
    }
   },
   "outputs": [],
   "source": [
    "#main_features = ['R','G','PG','PG-13','Unrated']\n",
    "cert_map = {'R':'R','TV-MA':'R','G':'G','TV–G':'G','TV-Y':'G','PG':'PG',\n",
    "            'TV-Y7':'PG','PG-13':'PG-13','TV-14':'PG-13','Unrated':'Unrated','Not Rated':'Unrated'}\n",
    "\n",
    "Movies_['Rating'] = Movies_['Rating'].map(cert_map)"
   ]
  },
  {
   "cell_type": "code",
   "execution_count": 10,
   "metadata": {
    "ExecuteTime": {
     "end_time": "2019-11-29T18:49:57.313014Z",
     "start_time": "2019-11-29T18:49:57.303775Z"
    }
   },
   "outputs": [
    {
     "data": {
      "text/plain": [
       "R          128\n",
       "PG-13       77\n",
       "Unrated     39\n",
       "PG          20\n",
       "G           11\n",
       "Name: Rating, dtype: int64"
      ]
     },
     "execution_count": 10,
     "metadata": {},
     "output_type": "execute_result"
    }
   ],
   "source": [
    "Movies_['Rating'].value_counts()"
   ]
  },
  {
   "cell_type": "code",
   "execution_count": 11,
   "metadata": {
    "ExecuteTime": {
     "end_time": "2019-11-29T18:49:59.348170Z",
     "start_time": "2019-11-29T18:49:59.312729Z"
    }
   },
   "outputs": [
    {
     "data": {
      "text/html": [
       "<div>\n",
       "<style scoped>\n",
       "    .dataframe tbody tr th:only-of-type {\n",
       "        vertical-align: middle;\n",
       "    }\n",
       "\n",
       "    .dataframe tbody tr th {\n",
       "        vertical-align: top;\n",
       "    }\n",
       "\n",
       "    .dataframe thead th {\n",
       "        text-align: right;\n",
       "    }\n",
       "</style>\n",
       "<table border=\"1\" class=\"dataframe\">\n",
       "  <thead>\n",
       "    <tr style=\"text-align: right;\">\n",
       "      <th></th>\n",
       "      <th>year</th>\n",
       "      <th>name</th>\n",
       "      <th>Movie_ID</th>\n",
       "      <th>runtime</th>\n",
       "      <th>cast</th>\n",
       "      <th>genre</th>\n",
       "      <th>country_codes</th>\n",
       "      <th>language_codes</th>\n",
       "      <th>certificates</th>\n",
       "      <th>Budget</th>\n",
       "      <th>...</th>\n",
       "      <th>producer2</th>\n",
       "      <th>production_company1</th>\n",
       "      <th>production_company2</th>\n",
       "      <th>composers</th>\n",
       "      <th>editors</th>\n",
       "      <th>cinematographers</th>\n",
       "      <th>set_decorators</th>\n",
       "      <th>assistant_directors</th>\n",
       "      <th>visual_effects</th>\n",
       "      <th>Rating</th>\n",
       "    </tr>\n",
       "  </thead>\n",
       "  <tbody>\n",
       "    <tr>\n",
       "      <td>0</td>\n",
       "      <td>2000</td>\n",
       "      <td>Charlie's Angels</td>\n",
       "      <td>5033998</td>\n",
       "      <td>118.0</td>\n",
       "      <td>['Kristen Stewart', 'Naomi Scott', 'Ella Balin...</td>\n",
       "      <td>['Action', 'Adventure', 'Comedy']</td>\n",
       "      <td>['us']</td>\n",
       "      <td>['en']</td>\n",
       "      <td>PG-13</td>\n",
       "      <td>48000000.0</td>\n",
       "      <td>...</td>\n",
       "      <td>Drew Barrymore</td>\n",
       "      <td>Columbia Pictures</td>\n",
       "      <td>2.0 Entertainment</td>\n",
       "      <td>Brian Tyler</td>\n",
       "      <td>Alan Baumgarten</td>\n",
       "      <td>Bill Pope</td>\n",
       "      <td>Mark Rosinski</td>\n",
       "      <td>Simon Adegbenro</td>\n",
       "      <td>Lukas Abraham</td>\n",
       "      <td>PG-13</td>\n",
       "    </tr>\n",
       "    <tr>\n",
       "      <td>1</td>\n",
       "      <td>2000</td>\n",
       "      <td>Gladiator</td>\n",
       "      <td>172495</td>\n",
       "      <td>155.0</td>\n",
       "      <td>['Russell Crowe', 'Joaquin Phoenix', 'Connie N...</td>\n",
       "      <td>['Action', 'Adventure', 'Drama']</td>\n",
       "      <td>['us', 'gb', 'mt', 'ma']</td>\n",
       "      <td>['en']</td>\n",
       "      <td>TV-14</td>\n",
       "      <td>103000000.0</td>\n",
       "      <td>...</td>\n",
       "      <td>Branko Lustig</td>\n",
       "      <td>DreamWorks</td>\n",
       "      <td>Universal Pictures</td>\n",
       "      <td>Lisa Gerrard</td>\n",
       "      <td>Pietro Scalia</td>\n",
       "      <td>John Mathieson</td>\n",
       "      <td>Crispian Sallis</td>\n",
       "      <td>Ali Cherkaoui</td>\n",
       "      <td>Rob Allman</td>\n",
       "      <td>PG-13</td>\n",
       "    </tr>\n",
       "    <tr>\n",
       "      <td>2</td>\n",
       "      <td>2000</td>\n",
       "      <td>How the Grinch Stole Christmas</td>\n",
       "      <td>2709692</td>\n",
       "      <td>85.0</td>\n",
       "      <td>['Benedict Cumberbatch', 'Cameron Seely', 'Ras...</td>\n",
       "      <td>['Animation', 'Family', 'Fantasy']</td>\n",
       "      <td>['fr', 'jp', 'us']</td>\n",
       "      <td>['en']</td>\n",
       "      <td>PG</td>\n",
       "      <td>75000000.0</td>\n",
       "      <td>...</td>\n",
       "      <td>Janet Healy</td>\n",
       "      <td>Universal Pictures</td>\n",
       "      <td>Universal Animation Studios</td>\n",
       "      <td>Danny Elfman</td>\n",
       "      <td>Chris Cartagena</td>\n",
       "      <td>NaN</td>\n",
       "      <td>NaN</td>\n",
       "      <td>NaN</td>\n",
       "      <td>Richard Adenot</td>\n",
       "      <td>PG</td>\n",
       "    </tr>\n",
       "    <tr>\n",
       "      <td>3</td>\n",
       "      <td>2000</td>\n",
       "      <td>Requiem for a Dream</td>\n",
       "      <td>180093</td>\n",
       "      <td>102.0</td>\n",
       "      <td>['Ellen Burstyn', 'Jared Leto', 'Jennifer Conn...</td>\n",
       "      <td>['Drama']</td>\n",
       "      <td>['us']</td>\n",
       "      <td>['en']</td>\n",
       "      <td>Unrated</td>\n",
       "      <td>4500000.0</td>\n",
       "      <td>...</td>\n",
       "      <td>Beau Flynn</td>\n",
       "      <td>Artisan Entertainment</td>\n",
       "      <td>Thousand Words</td>\n",
       "      <td>Clint Mansell</td>\n",
       "      <td>Jay Rabinowitz</td>\n",
       "      <td>Matthew Libatique</td>\n",
       "      <td>Ondine Karady</td>\n",
       "      <td>Timothy Bird</td>\n",
       "      <td>Jeremy Dawson</td>\n",
       "      <td>Unrated</td>\n",
       "    </tr>\n",
       "    <tr>\n",
       "      <td>4</td>\n",
       "      <td>2000</td>\n",
       "      <td>Remember the Titans</td>\n",
       "      <td>210945</td>\n",
       "      <td>113.0</td>\n",
       "      <td>['Denzel Washington', 'Will Patton', 'Wood Har...</td>\n",
       "      <td>['Biography', 'Drama', 'Sport']</td>\n",
       "      <td>['us']</td>\n",
       "      <td>['en']</td>\n",
       "      <td>PG</td>\n",
       "      <td>30000000.0</td>\n",
       "      <td>...</td>\n",
       "      <td>Michael Flynn</td>\n",
       "      <td>Jerry Bruckheimer Films</td>\n",
       "      <td>Run It Up Productions Inc.</td>\n",
       "      <td>Trevor Rabin</td>\n",
       "      <td>Michael Tronick</td>\n",
       "      <td>Philippe Rousselot</td>\n",
       "      <td>Anne Kuljian</td>\n",
       "      <td>Matthew Feitshans</td>\n",
       "      <td>Andy Davis</td>\n",
       "      <td>PG</td>\n",
       "    </tr>\n",
       "  </tbody>\n",
       "</table>\n",
       "<p>5 rows × 30 columns</p>\n",
       "</div>"
      ],
      "text/plain": [
       "   year                            name  Movie_ID  runtime  \\\n",
       "0  2000                Charlie's Angels   5033998    118.0   \n",
       "1  2000                       Gladiator    172495    155.0   \n",
       "2  2000  How the Grinch Stole Christmas   2709692     85.0   \n",
       "3  2000             Requiem for a Dream    180093    102.0   \n",
       "4  2000             Remember the Titans    210945    113.0   \n",
       "\n",
       "                                                cast  \\\n",
       "0  ['Kristen Stewart', 'Naomi Scott', 'Ella Balin...   \n",
       "1  ['Russell Crowe', 'Joaquin Phoenix', 'Connie N...   \n",
       "2  ['Benedict Cumberbatch', 'Cameron Seely', 'Ras...   \n",
       "3  ['Ellen Burstyn', 'Jared Leto', 'Jennifer Conn...   \n",
       "4  ['Denzel Washington', 'Will Patton', 'Wood Har...   \n",
       "\n",
       "                                genre             country_codes  \\\n",
       "0   ['Action', 'Adventure', 'Comedy']                    ['us']   \n",
       "1    ['Action', 'Adventure', 'Drama']  ['us', 'gb', 'mt', 'ma']   \n",
       "2  ['Animation', 'Family', 'Fantasy']        ['fr', 'jp', 'us']   \n",
       "3                           ['Drama']                    ['us']   \n",
       "4     ['Biography', 'Drama', 'Sport']                    ['us']   \n",
       "\n",
       "  language_codes certificates       Budget  ...       producer2  \\\n",
       "0         ['en']        PG-13   48000000.0  ...  Drew Barrymore   \n",
       "1         ['en']        TV-14  103000000.0  ...   Branko Lustig   \n",
       "2         ['en']           PG   75000000.0  ...     Janet Healy   \n",
       "3         ['en']      Unrated    4500000.0  ...      Beau Flynn   \n",
       "4         ['en']           PG   30000000.0  ...   Michael Flynn   \n",
       "\n",
       "       production_company1          production_company2      composers  \\\n",
       "0        Columbia Pictures            2.0 Entertainment    Brian Tyler   \n",
       "1               DreamWorks           Universal Pictures   Lisa Gerrard   \n",
       "2       Universal Pictures  Universal Animation Studios   Danny Elfman   \n",
       "3    Artisan Entertainment               Thousand Words  Clint Mansell   \n",
       "4  Jerry Bruckheimer Films   Run It Up Productions Inc.   Trevor Rabin   \n",
       "\n",
       "           editors    cinematographers   set_decorators assistant_directors  \\\n",
       "0  Alan Baumgarten           Bill Pope    Mark Rosinski     Simon Adegbenro   \n",
       "1    Pietro Scalia      John Mathieson  Crispian Sallis       Ali Cherkaoui   \n",
       "2  Chris Cartagena                 NaN              NaN                 NaN   \n",
       "3   Jay Rabinowitz   Matthew Libatique    Ondine Karady        Timothy Bird   \n",
       "4  Michael Tronick  Philippe Rousselot     Anne Kuljian   Matthew Feitshans   \n",
       "\n",
       "   visual_effects   Rating  \n",
       "0   Lukas Abraham    PG-13  \n",
       "1      Rob Allman    PG-13  \n",
       "2  Richard Adenot       PG  \n",
       "3   Jeremy Dawson  Unrated  \n",
       "4      Andy Davis       PG  \n",
       "\n",
       "[5 rows x 30 columns]"
      ]
     },
     "execution_count": 11,
     "metadata": {},
     "output_type": "execute_result"
    }
   ],
   "source": [
    "Movies_.head()"
   ]
  },
  {
   "cell_type": "markdown",
   "metadata": {},
   "source": [
    "## Fixing Original Air_Date"
   ]
  },
  {
   "cell_type": "code",
   "execution_count": 20,
   "metadata": {
    "ExecuteTime": {
     "end_time": "2019-11-29T18:53:55.511958Z",
     "start_time": "2019-11-29T18:53:55.507592Z"
    }
   },
   "outputs": [
    {
     "data": {
      "text/plain": [
       "Index(['year', 'name', 'Movie_ID', 'runtime', 'cast', 'genre', 'country_codes',\n",
       "       'language_codes', 'certificates', 'Budget', 'OWUS', 'CWG', 'rating',\n",
       "       'votes', 'original_air_date', 'title', 'director', 'writer1', 'writer2',\n",
       "       'producer1', 'producer2', 'production_company1', 'production_company2',\n",
       "       'composers', 'editors', 'cinematographers', 'set_decorators',\n",
       "       'assistant_directors', 'visual_effects', 'Rating'],\n",
       "      dtype='object')"
      ]
     },
     "execution_count": 20,
     "metadata": {},
     "output_type": "execute_result"
    }
   ],
   "source": [
    "Movies_.columns"
   ]
  },
  {
   "cell_type": "code",
   "execution_count": 25,
   "metadata": {
    "ExecuteTime": {
     "end_time": "2019-11-29T18:57:21.060410Z",
     "start_time": "2019-11-29T18:57:21.046844Z"
    }
   },
   "outputs": [
    {
     "data": {
      "text/html": [
       "<div>\n",
       "<style scoped>\n",
       "    .dataframe tbody tr th:only-of-type {\n",
       "        vertical-align: middle;\n",
       "    }\n",
       "\n",
       "    .dataframe tbody tr th {\n",
       "        vertical-align: top;\n",
       "    }\n",
       "\n",
       "    .dataframe thead th {\n",
       "        text-align: right;\n",
       "    }\n",
       "</style>\n",
       "<table border=\"1\" class=\"dataframe\">\n",
       "  <thead>\n",
       "    <tr style=\"text-align: right;\">\n",
       "      <th></th>\n",
       "      <th>year</th>\n",
       "      <th>original_air_date</th>\n",
       "    </tr>\n",
       "  </thead>\n",
       "  <tbody>\n",
       "    <tr>\n",
       "      <td>0</td>\n",
       "      <td>2000</td>\n",
       "      <td>14 Nov 2019 (Saudi Arabia)</td>\n",
       "    </tr>\n",
       "    <tr>\n",
       "      <td>1</td>\n",
       "      <td>2000</td>\n",
       "      <td>04 May 2000 (Australia)</td>\n",
       "    </tr>\n",
       "    <tr>\n",
       "      <td>2</td>\n",
       "      <td>2000</td>\n",
       "      <td>08 Nov 2018 (Saudi Arabia)</td>\n",
       "    </tr>\n",
       "    <tr>\n",
       "      <td>3</td>\n",
       "      <td>2000</td>\n",
       "      <td>03 Nov 2000 (Canada)</td>\n",
       "    </tr>\n",
       "    <tr>\n",
       "      <td>4</td>\n",
       "      <td>2000</td>\n",
       "      <td>29 Sep 2000 (USA)</td>\n",
       "    </tr>\n",
       "    <tr>\n",
       "      <td>...</td>\n",
       "      <td>...</td>\n",
       "      <td>...</td>\n",
       "    </tr>\n",
       "    <tr>\n",
       "      <td>413</td>\n",
       "      <td>2000</td>\n",
       "      <td>28 Sep 2000 (Japan)</td>\n",
       "    </tr>\n",
       "    <tr>\n",
       "      <td>414</td>\n",
       "      <td>2000</td>\n",
       "      <td>28 Oct 2000 (Japan)</td>\n",
       "    </tr>\n",
       "    <tr>\n",
       "      <td>415</td>\n",
       "      <td>2000</td>\n",
       "      <td>02 Feb 2015 (Iran)</td>\n",
       "    </tr>\n",
       "    <tr>\n",
       "      <td>416</td>\n",
       "      <td>2000</td>\n",
       "      <td>NaN</td>\n",
       "    </tr>\n",
       "    <tr>\n",
       "      <td>417</td>\n",
       "      <td>2000</td>\n",
       "      <td>01 Mar 2019 (India)</td>\n",
       "    </tr>\n",
       "  </tbody>\n",
       "</table>\n",
       "<p>418 rows × 2 columns</p>\n",
       "</div>"
      ],
      "text/plain": [
       "     year           original_air_date\n",
       "0    2000  14 Nov 2019 (Saudi Arabia)\n",
       "1    2000     04 May 2000 (Australia)\n",
       "2    2000  08 Nov 2018 (Saudi Arabia)\n",
       "3    2000        03 Nov 2000 (Canada)\n",
       "4    2000           29 Sep 2000 (USA)\n",
       "..    ...                         ...\n",
       "413  2000         28 Sep 2000 (Japan)\n",
       "414  2000         28 Oct 2000 (Japan)\n",
       "415  2000          02 Feb 2015 (Iran)\n",
       "416  2000                         NaN\n",
       "417  2000         01 Mar 2019 (India)\n",
       "\n",
       "[418 rows x 2 columns]"
      ]
     },
     "execution_count": 25,
     "metadata": {},
     "output_type": "execute_result"
    }
   ],
   "source": [
    "Movies_[['year','original_air_date']]"
   ]
  },
  {
   "cell_type": "code",
   "execution_count": 69,
   "metadata": {
    "ExecuteTime": {
     "end_time": "2019-11-29T19:37:51.460498Z",
     "start_time": "2019-11-29T19:37:51.407732Z"
    }
   },
   "outputs": [],
   "source": [
    "Movies_['Date'] = Movies_['original_air_date'].apply(lambda x : x.split('(')[0] if type(x) != float else x)\n",
    "Movies_['Date'] = pd.to_datetime(Movies_['Date'])\n",
    "Movies_['Air_location'] = Movies_['original_air_date'].apply(lambda x : x.split('(')[1].strip(')') if type(x) != float else x)\n"
   ]
  },
  {
   "cell_type": "code",
   "execution_count": 70,
   "metadata": {
    "ExecuteTime": {
     "end_time": "2019-11-29T19:37:52.314952Z",
     "start_time": "2019-11-29T19:37:52.306856Z"
    }
   },
   "outputs": [],
   "source": [
    "Movies_['Date'] = Movies_['Date'].apply(lambda x : x.date())"
   ]
  },
  {
   "cell_type": "code",
   "execution_count": 89,
   "metadata": {
    "ExecuteTime": {
     "end_time": "2019-11-29T19:44:39.765382Z",
     "start_time": "2019-11-29T19:44:39.759487Z"
    }
   },
   "outputs": [
    {
     "data": {
      "text/plain": [
       "\"Charlie's Angels\""
      ]
     },
     "execution_count": 89,
     "metadata": {},
     "output_type": "execute_result"
    }
   ],
   "source": [
    "Movies_['name'][0]"
   ]
  },
  {
   "cell_type": "code",
   "execution_count": 107,
   "metadata": {
    "ExecuteTime": {
     "end_time": "2019-11-29T22:40:30.564552Z",
     "start_time": "2019-11-29T22:40:30.533212Z"
    }
   },
   "outputs": [],
   "source": [
    "not_equil = []\n",
    "equil = []\n",
    "\n",
    "for i in range(0,Movies_['name'].shape[0]):\n",
    "    if Movies_['Date'][i].year == Movies_['year'][i]:\n",
    "        equil.append(Movies_['name'][i])\n",
    "    else:\n",
    "        not_equil.append(Movies_['name'][i])\n",
    "        "
   ]
  },
  {
   "cell_type": "code",
   "execution_count": 94,
   "metadata": {
    "ExecuteTime": {
     "end_time": "2019-11-29T19:54:06.728036Z",
     "start_time": "2019-11-29T19:54:06.718556Z"
    }
   },
   "outputs": [
    {
     "data": {
      "text/plain": [
       "[\"Charlie's Angels\",\n",
       " 'How the Grinch Stole Christmas',\n",
       " 'X-Men',\n",
       " 'Scary Movie',\n",
       " 'Chocolat',\n",
       " 'The Family Man',\n",
       " 'Traffic',\n",
       " 'Shaft',\n",
       " 'Sexy Beast',\n",
       " 'Ginger Snaps',\n",
       " 'The Gift',\n",
       " 'The Kid',\n",
       " 'Red Planet',\n",
       " 'Sous le sable',\n",
       " 'Rules of Engagement',\n",
       " 'Finding Forrester',\n",
       " 'The Watcher',\n",
       " 'Tigerland',\n",
       " 'Pollock',\n",
       " 'Bounce',\n",
       " 'Waking the Dead',\n",
       " 'Before Night Falls',\n",
       " 'Werckmeister harmóniák',\n",
       " 'Saving Grace',\n",
       " 'Hamlet',\n",
       " 'The Weight of Water',\n",
       " 'Bait',\n",
       " 'Psycho Beach Party',\n",
       " 'Faust: Love of the Damned',\n",
       " 'O Fantasma',\n",
       " 'Dancing at the Blue Iguana',\n",
       " 'The Claim',\n",
       " 'Cut',\n",
       " 'Citizen Toxie: The Toxic Avenger IV',\n",
       " 'State and Main',\n",
       " 'Chinese Coffee',\n",
       " \"The Monkey's Mask\",\n",
       " 'Skipped Parts',\n",
       " 'Sunset Strip',\n",
       " \"Harrison's Flowers\",\n",
       " 'Love, Honour and Obey',\n",
       " 'Screwed',\n",
       " 'Brother',\n",
       " 'New York Beat Movie',\n",
       " 'The Specials',\n",
       " 'The Rowdy Girls',\n",
       " 'Maybe Baby',\n",
       " 'Beautiful',\n",
       " 'Sordid Lives',\n",
       " 'Poor White Trash',\n",
       " 'Born Romantic',\n",
       " 'Beautiful Creatures',\n",
       " 'Gun Shy',\n",
       " 'Happy Accidents',\n",
       " 'Nostradamus',\n",
       " 'Guizi lai le',\n",
       " 'Songcatcher',\n",
       " 'Versus',\n",
       " 'The Guilty',\n",
       " 'Panic',\n",
       " 'Lockdown',\n",
       " 'Otesánek',\n",
       " 'Big Monster on Campus',\n",
       " 'George Washington',\n",
       " 'Mexico City',\n",
       " 'Committed',\n",
       " 'The Crew',\n",
       " 'Mercy',\n",
       " 'Last Resort',\n",
       " 'Daddy O, Baby O!',\n",
       " \"God's Army\",\n",
       " 'Josh',\n",
       " 'Once in the Life',\n",
       " 'Jungle',\n",
       " 'The Simian Line',\n",
       " 'Above Suspicion',\n",
       " 'Tunay na tunay: Gets mo? Gets ko!',\n",
       " 'Team Spirit',\n",
       " 'Rats',\n",
       " 'Jonni Nitro',\n",
       " 'Moskva',\n",
       " 'Old No. 587: The Great Train Robbery',\n",
       " 'Gunblast Vodka',\n",
       " 'Drive In',\n",
       " 'The Mystery of Spoon River',\n",
       " 'Big Brother Trouble',\n",
       " 'Kiss Kiss Bang Bang',\n",
       " 'Mùa oi',\n",
       " 'Tainá: Uma Aventura na Amazônia',\n",
       " 'The Pretenders',\n",
       " 'The Cheapest Movie Ever Made',\n",
       " 'The God of Day Had Gone Down Upon Him',\n",
       " 'Tolle Lage',\n",
       " 'Macbeth-Sangrador',\n",
       " 'Bienvenida al clan',\n",
       " 'Fei chang ai qing',\n",
       " 'Egoisci',\n",
       " 'Dahshat',\n",
       " 'Road to Flin Flon',\n",
       " 'La texana maldita',\n",
       " 'Par-e parvaz',\n",
       " \"Ceux d'en face\",\n",
       " 'El dormilón',\n",
       " 'Inferno',\n",
       " 'Vasilissa maimou',\n",
       " 'The Strange Case of Señor Computer',\n",
       " 'Backroads',\n",
       " 'Comedy Club',\n",
       " 'Speed Bump',\n",
       " 'Semilla de odio',\n",
       " 'Hugo',\n",
       " \"Let's Talk\",\n",
       " 'Fondali notturni',\n",
       " 'Nomu mani pon sanai',\n",
       " 'Midjachvuli raindebi',\n",
       " 'João Mata Sete',\n",
       " 'Nadir',\n",
       " 'Arresti domiciliari',\n",
       " 'Ryûsei',\n",
       " 'Chong',\n",
       " 'The Steaks',\n",
       " 'Litso frantsuzskoy natsionalnosti',\n",
       " 'Thrill Kill Jack in Hale Manor',\n",
       " 'La tarara del chapao',\n",
       " 'Shimai: Love Doll',\n",
       " \"Harrington's Notes\",\n",
       " 'Feng jing',\n",
       " 'Shinjiru shinjinai',\n",
       " 'Midachi: el regreso del humor',\n",
       " 'Kaixin dou lai mi',\n",
       " 'The Martini Shot',\n",
       " 'Gajes del oficio',\n",
       " 'Sita',\n",
       " \"Jim's Camera\",\n",
       " 'Droomjagers',\n",
       " 'Fast nackt',\n",
       " 'Leben in Dunkelheit',\n",
       " 'Again and Again',\n",
       " 'Baba de wanju',\n",
       " 'Stories About Love',\n",
       " 'Ghosthunter!',\n",
       " \"Barbeau, libre comme l'art\",\n",
       " 'Maguna',\n",
       " 'Timeless',\n",
       " 'Wars and Treasure',\n",
       " 'National Japanese American Memorial: Groundbreaking Ceremony, October 1999',\n",
       " 'Yajamana']"
      ]
     },
     "execution_count": 94,
     "metadata": {},
     "output_type": "execute_result"
    }
   ],
   "source": [
    "not_equil"
   ]
  },
  {
   "cell_type": "code",
   "execution_count": 99,
   "metadata": {
    "ExecuteTime": {
     "end_time": "2019-11-29T20:10:40.496377Z",
     "start_time": "2019-11-29T20:10:40.465455Z"
    }
   },
   "outputs": [
    {
     "name": "stderr",
     "output_type": "stream",
     "text": [
      "/opt/anaconda3/lib/python3.7/site-packages/ipykernel_launcher.py:3: SettingWithCopyWarning: \n",
      "A value is trying to be set on a copy of a slice from a DataFrame.\n",
      "Try using .loc[row_indexer,col_indexer] = value instead\n",
      "\n",
      "See the caveats in the documentation: http://pandas.pydata.org/pandas-docs/stable/user_guide/indexing.html#returning-a-view-versus-a-copy\n",
      "  This is separate from the ipykernel package so we can avoid doing imports until\n"
     ]
    }
   ],
   "source": [
    "test = Movies_[['Date','name','year','Movie_ID']]\n",
    "test['Time_Equal'] = test['name'].apply(lambda x: 0 if x in not_equil else 1)\n",
    "\n",
    "\n"
   ]
  },
  {
   "cell_type": "code",
   "execution_count": 105,
   "metadata": {
    "ExecuteTime": {
     "end_time": "2019-11-29T20:14:11.081022Z",
     "start_time": "2019-11-29T20:14:11.065775Z"
    }
   },
   "outputs": [
    {
     "data": {
      "text/html": [
       "<div>\n",
       "<style scoped>\n",
       "    .dataframe tbody tr th:only-of-type {\n",
       "        vertical-align: middle;\n",
       "    }\n",
       "\n",
       "    .dataframe tbody tr th {\n",
       "        vertical-align: top;\n",
       "    }\n",
       "\n",
       "    .dataframe thead th {\n",
       "        text-align: right;\n",
       "    }\n",
       "</style>\n",
       "<table border=\"1\" class=\"dataframe\">\n",
       "  <thead>\n",
       "    <tr style=\"text-align: right;\">\n",
       "      <th></th>\n",
       "      <th>Date</th>\n",
       "      <th>name</th>\n",
       "      <th>year</th>\n",
       "      <th>Movie_ID</th>\n",
       "      <th>Time_Equal</th>\n",
       "    </tr>\n",
       "  </thead>\n",
       "  <tbody>\n",
       "    <tr>\n",
       "      <td>0</td>\n",
       "      <td>2019-11-14</td>\n",
       "      <td>Charlie's Angels</td>\n",
       "      <td>2000</td>\n",
       "      <td>5033998</td>\n",
       "      <td>0</td>\n",
       "    </tr>\n",
       "    <tr>\n",
       "      <td>2</td>\n",
       "      <td>2018-11-08</td>\n",
       "      <td>How the Grinch Stole Christmas</td>\n",
       "      <td>2000</td>\n",
       "      <td>2709692</td>\n",
       "      <td>0</td>\n",
       "    </tr>\n",
       "    <tr>\n",
       "      <td>10</td>\n",
       "      <td>NaT</td>\n",
       "      <td>X-Men</td>\n",
       "      <td>2000</td>\n",
       "      <td>103584</td>\n",
       "      <td>0</td>\n",
       "    </tr>\n",
       "    <tr>\n",
       "      <td>12</td>\n",
       "      <td>1996-12-20</td>\n",
       "      <td>Scary Movie</td>\n",
       "      <td>2000</td>\n",
       "      <td>117571</td>\n",
       "      <td>0</td>\n",
       "    </tr>\n",
       "    <tr>\n",
       "      <td>22</td>\n",
       "      <td>2001-01-19</td>\n",
       "      <td>Chocolat</td>\n",
       "      <td>2000</td>\n",
       "      <td>241303</td>\n",
       "      <td>0</td>\n",
       "    </tr>\n",
       "    <tr>\n",
       "      <td>...</td>\n",
       "      <td>...</td>\n",
       "      <td>...</td>\n",
       "      <td>...</td>\n",
       "      <td>...</td>\n",
       "      <td>...</td>\n",
       "    </tr>\n",
       "    <tr>\n",
       "      <td>411</td>\n",
       "      <td>NaT</td>\n",
       "      <td>Maguna</td>\n",
       "      <td>2000</td>\n",
       "      <td>2083257</td>\n",
       "      <td>0</td>\n",
       "    </tr>\n",
       "    <tr>\n",
       "      <td>412</td>\n",
       "      <td>NaT</td>\n",
       "      <td>Timeless</td>\n",
       "      <td>2000</td>\n",
       "      <td>5511582</td>\n",
       "      <td>0</td>\n",
       "    </tr>\n",
       "    <tr>\n",
       "      <td>415</td>\n",
       "      <td>2015-02-02</td>\n",
       "      <td>Wars and Treasure</td>\n",
       "      <td>2000</td>\n",
       "      <td>7201596</td>\n",
       "      <td>0</td>\n",
       "    </tr>\n",
       "    <tr>\n",
       "      <td>416</td>\n",
       "      <td>NaT</td>\n",
       "      <td>National Japanese American Memorial: Groundbre...</td>\n",
       "      <td>2000</td>\n",
       "      <td>8290150</td>\n",
       "      <td>0</td>\n",
       "    </tr>\n",
       "    <tr>\n",
       "      <td>417</td>\n",
       "      <td>2019-03-01</td>\n",
       "      <td>Yajamana</td>\n",
       "      <td>2000</td>\n",
       "      <td>9315438</td>\n",
       "      <td>0</td>\n",
       "    </tr>\n",
       "  </tbody>\n",
       "</table>\n",
       "<p>147 rows × 5 columns</p>\n",
       "</div>"
      ],
      "text/plain": [
       "           Date                                               name  year  \\\n",
       "0    2019-11-14                                   Charlie's Angels  2000   \n",
       "2    2018-11-08                     How the Grinch Stole Christmas  2000   \n",
       "10          NaT                                              X-Men  2000   \n",
       "12   1996-12-20                                        Scary Movie  2000   \n",
       "22   2001-01-19                                           Chocolat  2000   \n",
       "..          ...                                                ...   ...   \n",
       "411         NaT                                             Maguna  2000   \n",
       "412         NaT                                           Timeless  2000   \n",
       "415  2015-02-02                                  Wars and Treasure  2000   \n",
       "416         NaT  National Japanese American Memorial: Groundbre...  2000   \n",
       "417  2019-03-01                                           Yajamana  2000   \n",
       "\n",
       "     Movie_ID  Time_Equal  \n",
       "0     5033998           0  \n",
       "2     2709692           0  \n",
       "10     103584           0  \n",
       "12     117571           0  \n",
       "22     241303           0  \n",
       "..        ...         ...  \n",
       "411   2083257           0  \n",
       "412   5511582           0  \n",
       "415   7201596           0  \n",
       "416   8290150           0  \n",
       "417   9315438           0  \n",
       "\n",
       "[147 rows x 5 columns]"
      ]
     },
     "execution_count": 105,
     "metadata": {},
     "output_type": "execute_result"
    }
   ],
   "source": [
    "test[test['Time_Equal'] == 0]"
   ]
  },
  {
   "cell_type": "code",
   "execution_count": 93,
   "metadata": {
    "ExecuteTime": {
     "end_time": "2019-11-29T19:52:21.695096Z",
     "start_time": "2019-11-29T19:52:21.689327Z"
    }
   },
   "outputs": [
    {
     "data": {
      "text/plain": [
       "271"
      ]
     },
     "execution_count": 93,
     "metadata": {},
     "output_type": "execute_result"
    }
   ],
   "source": [
    "len(equil)"
   ]
  },
  {
   "cell_type": "code",
   "execution_count": 45,
   "metadata": {
    "ExecuteTime": {
     "end_time": "2019-11-29T19:12:09.482192Z",
     "start_time": "2019-11-29T19:12:09.474656Z"
    }
   },
   "outputs": [
    {
     "data": {
      "text/plain": [
       "0      Saudi Arabia\n",
       "1         Australia\n",
       "2      Saudi Arabia\n",
       "3            Canada\n",
       "4               USA\n",
       "           ...     \n",
       "413           Japan\n",
       "414           Japan\n",
       "415            Iran\n",
       "416             NaN\n",
       "417           India\n",
       "Name: Air_location, Length: 418, dtype: object"
      ]
     },
     "execution_count": 45,
     "metadata": {},
     "output_type": "execute_result"
    }
   ],
   "source": [
    "Movies_['Air_location']"
   ]
  },
  {
   "cell_type": "code",
   "execution_count": 47,
   "metadata": {
    "ExecuteTime": {
     "end_time": "2019-11-29T19:12:33.414076Z",
     "start_time": "2019-11-29T19:12:33.375373Z"
    }
   },
   "outputs": [
    {
     "name": "stdout",
     "output_type": "stream",
     "text": [
      "Saudi Arabia\n",
      "Australia\n",
      "Saudi Arabia\n",
      "Canada\n",
      "USA\n",
      "USA\n",
      "UK\n",
      "USA\n",
      "France\n",
      "USA\n",
      "nan\n",
      "USA\n",
      "USA\n",
      "Italy\n",
      "USA\n",
      "Canada\n",
      "Malta\n",
      "USA\n",
      "Romania\n",
      "UK\n",
      "France\n",
      "China\n",
      "USA\n",
      "nan\n",
      "USA\n",
      "USA\n",
      "Canada\n",
      "New Zealand\n",
      "USA\n",
      "Hong Kong\n",
      "USA\n",
      "Canada\n",
      "Hong Kong\n",
      "Canada\n",
      "Italy\n",
      "Canada\n",
      "USA\n",
      "Malaysia\n",
      "USA\n",
      "USA\n",
      "Canada\n",
      "USA\n",
      "Japan\n",
      "Denmark\n",
      "Canada\n",
      "Romania\n",
      "USA\n",
      "Malaysia\n",
      "Brazil\n",
      "USA\n",
      "Canada\n",
      "USA\n",
      "Malaysia\n",
      "UK\n",
      "Australia\n",
      "USA\n",
      "Canada\n",
      "Lithuania\n",
      "Mexico\n",
      "USA\n",
      "USA\n",
      "USA\n",
      "USA\n",
      "USA\n",
      "USA\n",
      "USA\n",
      "USA\n",
      "USA\n",
      "USA\n",
      "USA\n",
      "USA\n",
      "USA\n",
      "Japan\n",
      "USA\n",
      "USA\n",
      "USA\n",
      "USA\n",
      "Canada\n",
      "Italy\n",
      "USA\n",
      "Australia\n",
      "USA\n",
      "Malaysia\n",
      "Romania\n",
      "Germany\n",
      "USA\n",
      "nan\n",
      "Denmark\n",
      "USA\n",
      "France\n",
      "USA\n",
      "Belgium\n",
      "Belgium\n",
      "USA\n",
      "USA\n",
      "India\n",
      "USA\n",
      "Canada\n",
      "USA\n",
      "USA\n",
      "nan\n",
      "USA\n",
      "USA\n",
      "Singapore\n",
      "Sweden\n",
      "South Korea\n",
      "USA\n",
      "Australia\n",
      "USA\n",
      "Slovenia\n",
      "USA\n",
      "USA\n",
      "USA\n",
      "USA\n",
      "USA\n",
      "Spain\n",
      "USA\n",
      "UK\n",
      "France\n",
      "USA\n",
      "France\n",
      "Sweden\n",
      "USA\n",
      "France\n",
      "Italy\n",
      "USA\n",
      "India\n",
      "nan\n",
      "Puerto Rico\n",
      "USA\n",
      "nan\n",
      "Sweden\n",
      "Canada\n",
      "Hungary\n",
      "Italy\n",
      "nan\n",
      "South Korea\n",
      "Greece\n",
      "USA\n",
      "USA\n",
      "Argentina\n",
      "UK\n",
      "USA\n",
      "France\n",
      "Belgium\n",
      "Italy\n",
      "Hong Kong\n",
      "USA\n",
      "USA\n",
      "France\n",
      "USA\n",
      "USA\n",
      "Italy\n",
      "France\n",
      "Italy\n",
      "USA\n",
      "Spain\n",
      "USA\n",
      "India\n",
      "USA\n",
      "Australia\n",
      "Italy\n",
      "USA\n",
      "France\n",
      "USA\n",
      "USA\n",
      "UK\n",
      "Denmark\n",
      "Aruba\n",
      "Germany\n",
      "Israel\n",
      "Portugal\n",
      "Norway\n",
      "UK\n",
      "UK\n",
      "USA\n",
      "South Korea\n",
      "Germany\n",
      "Canada\n",
      "Sweden\n",
      "Spain\n",
      "USA\n",
      "USA\n",
      "Japan\n",
      "South Korea\n",
      "USA\n",
      "USA\n",
      "USA\n",
      "Puerto Rico\n",
      "USA\n",
      "India\n",
      "nan\n",
      "Romania\n",
      "Australia\n",
      "Canada\n",
      "Philippines\n",
      "France\n",
      "nan\n",
      "Canada\n",
      "USA\n",
      "France\n",
      "Spain\n",
      "Belgium\n",
      "Germany\n",
      "Norway\n",
      "Japan\n",
      "Denmark\n",
      "Poland\n",
      "UK\n",
      "France\n",
      "Ireland\n",
      "France\n",
      "France\n",
      "nan\n",
      "USA\n",
      "France\n",
      "nan\n",
      "USA\n",
      "nan\n",
      "USA\n",
      "India\n",
      "UK\n",
      "USA\n",
      "UK\n",
      "Denmark\n",
      "Canada\n",
      "USA\n",
      "Sweden\n",
      "France\n",
      "USA\n",
      "South Korea\n",
      "France\n",
      "Norway\n",
      "France\n",
      "UK\n",
      "Australia\n",
      "France\n",
      "France\n",
      "Greece\n",
      "Italy\n",
      "USA\n",
      "Canada\n",
      "Brazil\n",
      "Denmark\n",
      "Indonesia\n",
      "USA\n",
      "France\n",
      "France\n",
      "USA\n",
      "Iceland\n",
      "USA\n",
      "Spain\n",
      "Czech Republic\n",
      "Denmark\n",
      "UK\n",
      "Germany\n",
      "Italy\n",
      "nan\n",
      "Japan\n",
      "UK\n",
      "nan\n",
      "Iceland\n",
      "Ireland\n",
      "Australia\n",
      "Ireland\n",
      "France\n",
      "USA\n",
      "USA\n",
      "Germany\n",
      "Italy\n",
      "UK\n",
      "South Korea\n",
      "Norway\n",
      "nan\n",
      "nan\n",
      "Spain\n",
      "New Zealand\n",
      "Australia\n",
      "nan\n",
      "India\n",
      "India\n",
      "nan\n",
      "USA\n",
      "Sweden\n",
      "Kuwait\n",
      "Germany\n",
      "India\n",
      "France\n",
      "Germany\n",
      "nan\n",
      "France\n",
      "USA\n",
      "nan\n",
      "Netherlands\n",
      "France\n",
      "India\n",
      "Kuwait\n",
      "Sweden\n",
      "UK\n",
      "Canada\n",
      "Mexico\n",
      "Sri Lanka\n",
      "nan\n",
      "Estonia\n",
      "Japan\n",
      "Finland\n",
      "nan\n",
      "France\n",
      "USA\n",
      "Hungary\n",
      "Japan\n",
      "Italy\n",
      "nan\n",
      "Morocco\n",
      "nan\n",
      "France\n",
      "Hong Kong\n",
      "France\n",
      "Philippines\n",
      "Egypt\n",
      "Spain\n",
      "France\n",
      "Brazil\n",
      "USA\n",
      "Mexico\n",
      "Italy\n",
      "India\n",
      "nan\n",
      "India\n",
      "Belgium\n",
      "nan\n",
      "Germany\n",
      "Denmark\n",
      "Sri Lanka\n",
      "Germany\n",
      "nan\n",
      "nan\n",
      "Hong Kong\n",
      "nan\n",
      "India\n",
      "Poland\n",
      "India\n",
      "nan\n",
      "nan\n",
      "nan\n",
      "France\n",
      "France\n",
      "USA\n",
      "France\n",
      "Indonesia\n",
      "Greece\n",
      "nan\n",
      "Spain\n",
      "nan\n",
      "nan\n",
      "India\n",
      "USA\n",
      "Canada\n",
      "Czech Republic\n",
      "Hungary\n",
      "Italy\n",
      "USA\n",
      "Philippines\n",
      "nan\n",
      "nan\n",
      "Belgium\n",
      "nan\n",
      "nan\n",
      "Spain\n",
      "nan\n",
      "nan\n",
      "nan\n",
      "Canada\n",
      "Hong Kong\n",
      "nan\n",
      "India\n",
      "India\n",
      "nan\n",
      "Russia\n",
      "nan\n",
      "Belgium\n",
      "Spain\n",
      "nan\n",
      "nan\n",
      "Japan\n",
      "Canada\n",
      "India\n",
      "France\n",
      "India\n",
      "India\n",
      "nan\n",
      "nan\n",
      "nan\n",
      "nan\n",
      "Canada\n",
      "Dominican Republic\n",
      "USA\n",
      "Sweden\n",
      "nan\n",
      "nan\n",
      "Japan\n",
      "nan\n",
      "nan\n",
      "nan\n",
      "India\n",
      "nan\n",
      "Soviet Union\n",
      "nan\n",
      "nan\n",
      "Japan\n",
      "USA\n",
      "nan\n",
      "nan\n",
      "Japan\n",
      "Japan\n",
      "Iran\n",
      "nan\n",
      "India\n"
     ]
    }
   ],
   "source": [
    "for i in Movies_['Air_location']:\n",
    "    print(i)"
   ]
  },
  {
   "cell_type": "code",
   "execution_count": 59,
   "metadata": {
    "ExecuteTime": {
     "end_time": "2019-11-29T19:26:03.913796Z",
     "start_time": "2019-11-29T19:26:03.908371Z"
    }
   },
   "outputs": [],
   "source": [
    "Movies_['Date'] = pd.to_datetime(Movies_['Date'])"
   ]
  },
  {
   "cell_type": "code",
   "execution_count": 60,
   "metadata": {
    "ExecuteTime": {
     "end_time": "2019-11-29T19:26:18.922689Z",
     "start_time": "2019-11-29T19:26:18.908652Z"
    }
   },
   "outputs": [
    {
     "name": "stdout",
     "output_type": "stream",
     "text": [
      "<class 'pandas.core.frame.DataFrame'>\n",
      "RangeIndex: 418 entries, 0 to 417\n",
      "Data columns (total 32 columns):\n",
      "year                   418 non-null int64\n",
      "name                   418 non-null object\n",
      "Movie_ID               418 non-null int64\n",
      "runtime                388 non-null float64\n",
      "cast                   408 non-null object\n",
      "genre                  418 non-null object\n",
      "country_codes          418 non-null object\n",
      "language_codes         407 non-null object\n",
      "certificates           287 non-null object\n",
      "Budget                 184 non-null float64\n",
      "OWUS                   138 non-null object\n",
      "CWG                    81 non-null float64\n",
      "rating                 376 non-null float64\n",
      "votes                  376 non-null float64\n",
      "original_air_date      356 non-null object\n",
      "title                  418 non-null object\n",
      "director               398 non-null object\n",
      "writer1                380 non-null object\n",
      "writer2                74 non-null object\n",
      "producer1              372 non-null object\n",
      "producer2              340 non-null object\n",
      "production_company1    379 non-null object\n",
      "production_company2    299 non-null object\n",
      "composers              349 non-null object\n",
      "editors                357 non-null object\n",
      "cinematographers       363 non-null object\n",
      "set_decorators         213 non-null object\n",
      "assistant_directors    327 non-null object\n",
      "visual_effects         237 non-null object\n",
      "Rating                 275 non-null object\n",
      "Date                   356 non-null datetime64[ns]\n",
      "Air_location           356 non-null object\n",
      "dtypes: datetime64[ns](1), float64(5), int64(2), object(24)\n",
      "memory usage: 104.6+ KB\n"
     ]
    }
   ],
   "source": [
    "Movies_.info()"
   ]
  },
  {
   "cell_type": "code",
   "execution_count": null,
   "metadata": {},
   "outputs": [],
   "source": []
  }
 ],
 "metadata": {
  "kernelspec": {
   "display_name": "Python 3",
   "language": "python",
   "name": "python3"
  },
  "language_info": {
   "codemirror_mode": {
    "name": "ipython",
    "version": 3
   },
   "file_extension": ".py",
   "mimetype": "text/x-python",
   "name": "python",
   "nbconvert_exporter": "python",
   "pygments_lexer": "ipython3",
   "version": "3.7.4"
  }
 },
 "nbformat": 4,
 "nbformat_minor": 2
}
