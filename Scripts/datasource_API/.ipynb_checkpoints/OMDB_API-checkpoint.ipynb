{
 "cells": [
  {
   "cell_type": "code",
   "execution_count": 1,
   "metadata": {
    "ExecuteTime": {
     "end_time": "2019-12-01T07:14:58.890734Z",
     "start_time": "2019-12-01T07:14:57.628894Z"
    }
   },
   "outputs": [],
   "source": [
    "import requests\n",
    "import numpy as np\n",
    "import pandas as pd"
   ]
  },
  {
   "cell_type": "code",
   "execution_count": 2,
   "metadata": {
    "ExecuteTime": {
     "end_time": "2019-12-01T07:14:59.260282Z",
     "start_time": "2019-12-01T07:14:58.892659Z"
    },
    "scrolled": true
   },
   "outputs": [
    {
     "data": {
      "text/plain": [
       "{'Title': 'Gladiator',\n",
       " 'Year': '2000',\n",
       " 'Rated': 'R',\n",
       " 'Released': '05 May 2000',\n",
       " 'Runtime': '155 min',\n",
       " 'Genre': 'Action, Adventure, Drama',\n",
       " 'Director': 'Ridley Scott',\n",
       " 'Writer': 'David Franzoni (story), David Franzoni (screenplay), John Logan (screenplay), William Nicholson (screenplay)',\n",
       " 'Actors': 'Russell Crowe, Joaquin Phoenix, Connie Nielsen, Oliver Reed',\n",
       " 'Plot': 'A former Roman General sets out to exact vengeance against the corrupt emperor who murdered his family and sent him into slavery.',\n",
       " 'Language': 'English',\n",
       " 'Country': 'USA, UK, Malta, Morocco',\n",
       " 'Awards': 'Won 5 Oscars. Another 53 wins & 101 nominations.',\n",
       " 'Poster': 'https://m.media-amazon.com/images/M/MV5BMDliMmNhNDEtODUyOS00MjNlLTgxODEtN2U3NzIxMGVkZTA1L2ltYWdlXkEyXkFqcGdeQXVyNjU0OTQ0OTY@._V1_SX300.jpg',\n",
       " 'Ratings': [{'Source': 'Internet Movie Database', 'Value': '8.5/10'},\n",
       "  {'Source': 'Rotten Tomatoes', 'Value': '76%'},\n",
       "  {'Source': 'Metacritic', 'Value': '67/100'}],\n",
       " 'Metascore': '67',\n",
       " 'imdbRating': '8.5',\n",
       " 'imdbVotes': '1,244,066',\n",
       " 'imdbID': 'tt0172495',\n",
       " 'Type': 'movie',\n",
       " 'DVD': '21 Nov 2000',\n",
       " 'BoxOffice': 'N/A',\n",
       " 'Production': 'Dreamworks Distribution LLC',\n",
       " 'Website': 'N/A',\n",
       " 'Response': 'True'}"
      ]
     },
     "execution_count": 2,
     "metadata": {},
     "output_type": "execute_result"
    }
   ],
   "source": [
    "data = requests.get('http://www.omdbapi.com/?t=Gladiator+&y=2000&apikey=559f8f7f').json()\n",
    "#data = requests.get(\" http://www.omdbapi.com/?i=tt3896198&apikey=559f8f7f\").json() \n",
    "data #Check the API Data"
   ]
  },
  {
   "cell_type": "code",
   "execution_count": 3,
   "metadata": {
    "ExecuteTime": {
     "end_time": "2019-12-01T07:14:59.267534Z",
     "start_time": "2019-12-01T07:14:59.263065Z"
    }
   },
   "outputs": [
    {
     "data": {
      "text/plain": [
       "dict_keys(['Title', 'Year', 'Rated', 'Released', 'Runtime', 'Genre', 'Director', 'Writer', 'Actors', 'Plot', 'Language', 'Country', 'Awards', 'Poster', 'Ratings', 'Metascore', 'imdbRating', 'imdbVotes', 'imdbID', 'Type', 'DVD', 'BoxOffice', 'Production', 'Website', 'Response'])"
      ]
     },
     "execution_count": 3,
     "metadata": {},
     "output_type": "execute_result"
    }
   ],
   "source": [
    "data.keys()"
   ]
  },
  {
   "cell_type": "code",
   "execution_count": 4,
   "metadata": {
    "ExecuteTime": {
     "end_time": "2019-12-01T07:14:59.274456Z",
     "start_time": "2019-12-01T07:14:59.269684Z"
    }
   },
   "outputs": [],
   "source": [
    "# for i in data:\n",
    "#     try:\n",
    "#         i.append(data[i])\n",
    "#     except KeyError:\n",
    "#         i.append(None)"
   ]
  },
  {
   "cell_type": "code",
   "execution_count": 5,
   "metadata": {
    "ExecuteTime": {
     "end_time": "2019-12-01T07:14:59.282074Z",
     "start_time": "2019-12-01T07:14:59.276251Z"
    }
   },
   "outputs": [
    {
     "name": "stdout",
     "output_type": "stream",
     "text": [
      "Gladiator\n",
      "2000\n",
      "R\n",
      "05 May 2000\n",
      "155 min\n",
      "Action, Adventure, Drama\n",
      "Ridley Scott\n",
      "David Franzoni (story), David Franzoni (screenplay), John Logan (screenplay), William Nicholson (screenplay)\n",
      "Russell Crowe, Joaquin Phoenix, Connie Nielsen, Oliver Reed\n",
      "A former Roman General sets out to exact vengeance against the corrupt emperor who murdered his family and sent him into slavery.\n",
      "English\n",
      "USA, UK, Malta, Morocco\n",
      "Won 5 Oscars. Another 53 wins & 101 nominations.\n",
      "https://m.media-amazon.com/images/M/MV5BMDliMmNhNDEtODUyOS00MjNlLTgxODEtN2U3NzIxMGVkZTA1L2ltYWdlXkEyXkFqcGdeQXVyNjU0OTQ0OTY@._V1_SX300.jpg\n",
      "[{'Source': 'Internet Movie Database', 'Value': '8.5/10'}, {'Source': 'Rotten Tomatoes', 'Value': '76%'}, {'Source': 'Metacritic', 'Value': '67/100'}]\n",
      "67\n",
      "8.5\n",
      "1,244,066\n",
      "tt0172495\n",
      "movie\n",
      "21 Nov 2000\n",
      "N/A\n",
      "Dreamworks Distribution LLC\n",
      "N/A\n",
      "True\n"
     ]
    }
   ],
   "source": [
    "for i in data:\n",
    "    print(data[i])"
   ]
  },
  {
   "cell_type": "code",
   "execution_count": 6,
   "metadata": {
    "ExecuteTime": {
     "end_time": "2019-12-01T07:14:59.295522Z",
     "start_time": "2019-12-01T07:14:59.283727Z"
    }
   },
   "outputs": [],
   "source": [
    "Movie_names = pd.read_csv('/Users/bader/Dropbox/DSI_GA_Capstone/Code/Names/names_2005_.csv')"
   ]
  },
  {
   "cell_type": "code",
   "execution_count": null,
   "metadata": {},
   "outputs": [],
   "source": []
  },
  {
   "cell_type": "code",
   "execution_count": null,
   "metadata": {
    "ExecuteTime": {
     "start_time": "2019-12-01T07:14:57.642Z"
    },
    "scrolled": false
   },
   "outputs": [
    {
     "name": "stdout",
     "output_type": "stream",
     "text": [
      "1234567891011121314151617181920212223242526272829303132333435363738394041424344454647484950515253545556575859606162636465666768697071727374757677787980818283848586878889909192939495"
     ]
    }
   ],
   "source": [
    "Title_ = []\n",
    "Year_ = []\n",
    "Rated_ = []\n",
    "Released_ = []\n",
    "Runtime_ = []\n",
    "Genre_ = []\n",
    "Director_ = []\n",
    "Writer_ = []\n",
    "Actors_ = []\n",
    "Plot_ = []\n",
    "Language_ = []\n",
    "Country_ = []\n",
    "Awards_ = []\n",
    "Ratings_ = []\n",
    "Metascore_ = []\n",
    "imdbRating_ = []\n",
    "imdbVotes_ = []\n",
    "imdbID_ = []\n",
    "Type_ = []\n",
    "DVD_ = []\n",
    "BoxOffice_ = []\n",
    "Production_ = []\n",
    "Website_ = []\n",
    "Response_ = []\n",
    "\n",
    "\n",
    "count = 0\n",
    "for name in Movie_names['name']:\n",
    "    \n",
    "    try:\n",
    "    \n",
    "        data = requests.get('http://www.omdbapi.com/?t={}+&y=2005&apikey=b892805a'.format(name)).json()\n",
    "\n",
    "        try:\n",
    "            Title_.append(data['Title'])\n",
    "        except KeyError:\n",
    "            Title_.append(None)\n",
    "\n",
    "        try:\n",
    "            Year_.append(data['Year'])\n",
    "        except KeyError:\n",
    "            Year_.append(None)\n",
    "\n",
    "        try:\n",
    "            Rated_.append(data['Rated'])\n",
    "        except KeyError:\n",
    "            Rated_.append(None)\n",
    "\n",
    "        try:\n",
    "            Released_.append(data['Released'])\n",
    "        except KeyError:\n",
    "            Released_.append(None)\n",
    "\n",
    "        try:\n",
    "            Runtime_.append(data['Runtime'])\n",
    "        except KeyError:\n",
    "            Runtime_.append(None)\n",
    "\n",
    "        try:\n",
    "            Genre_.append(data['Genre'])\n",
    "        except KeyError:\n",
    "            Genre_.append(None)\n",
    "\n",
    "        try:\n",
    "            Director_.append(data['Director'])\n",
    "        except KeyError:\n",
    "            Director_.append(None)\n",
    "\n",
    "        try:\n",
    "            Writer_.append(data['Writer'])\n",
    "        except KeyError:\n",
    "            Writer_.append(None)\n",
    "\n",
    "        try:\n",
    "            Actors_.append(data['Actors'])\n",
    "        except KeyError:\n",
    "            Actors_.append(None)\n",
    "\n",
    "        try:\n",
    "            Plot_.append(data['Plot'])\n",
    "        except KeyError:\n",
    "            Plot_.append(None)\n",
    "\n",
    "        try:\n",
    "            Language_.append(data['Language'])\n",
    "        except KeyError:\n",
    "            Language_.append(None)\n",
    "\n",
    "        try:\n",
    "            Country_.append(data['Country'])\n",
    "        except KeyError:\n",
    "            Country_.append(None)\n",
    "\n",
    "        try:\n",
    "            Awards_.append(data['Awards'])\n",
    "        except KeyError:\n",
    "            Awards_.append(None)\n",
    "\n",
    "        try:\n",
    "            Ratings_.append(data['Ratings'])\n",
    "        except KeyError:\n",
    "            Ratings_.append(None)\n",
    "\n",
    "        try:\n",
    "            Metascore_.append(data['Metascore'])\n",
    "        except KeyError:\n",
    "            Metascore_.append(None)\n",
    "\n",
    "        try:\n",
    "            imdbRating_.append(data['imdbRating'])\n",
    "        except KeyError:\n",
    "            imdbRating_.append(None)\n",
    "\n",
    "        try:\n",
    "            imdbVotes_.append(data['imdbVotes'])\n",
    "        except KeyError:\n",
    "            imdbVotes_.append(None)\n",
    "\n",
    "        try:\n",
    "            imdbID_.append(data['imdbID'])\n",
    "        except KeyError:\n",
    "            imdbID_.append(None)\n",
    "\n",
    "        try:\n",
    "            Type_.append(data['Type'])\n",
    "        except KeyError:\n",
    "            Type_.append(None)\n",
    "\n",
    "        try:\n",
    "            DVD_.append(data['DVD'])\n",
    "        except KeyError:\n",
    "            DVD_.append(None) \n",
    "\n",
    "        try:\n",
    "            BoxOffice_.append(data['BoxOffice'])\n",
    "        except KeyError:\n",
    "            BoxOffice_.append(None) \n",
    "\n",
    "        try:\n",
    "            Production_.append(data['Production'])\n",
    "        except KeyError:\n",
    "            Production_.append(None) \n",
    "\n",
    "        try:\n",
    "            Website_.append(data['Website'])\n",
    "        except KeyError:\n",
    "            Website_.append(None) \n",
    "\n",
    "        try:\n",
    "            Response_.append(data['Response'])\n",
    "        except KeyError:\n",
    "            Response_.append(None) \n",
    "            \n",
    "    except:\n",
    "        Title_.append(None)\n",
    "        Year_.append(None)\n",
    "        Rated_.append(None)\n",
    "        Released_.append(None)\n",
    "        Runtime_.append(None)\n",
    "        Genre_.append(None)\n",
    "        Director_.append(None)\n",
    "        Writer_.append(None)\n",
    "        Actors_.append(None)\n",
    "        Plot_.append(None)\n",
    "        Language_.append(None)\n",
    "        Country_.append(None)\n",
    "        Awards_.append(None)\n",
    "        Ratings_.append(None)\n",
    "        Metascore_.append(None)\n",
    "        imdbRating_.append(None)\n",
    "        imdbVotes_.append(None)\n",
    "        imdbID_.append(None)\n",
    "        Type_.append(None)\n",
    "        DVD_.append(None)\n",
    "        BoxOffice_.append(None)\n",
    "        Production_.append(None)\n",
    "        Website_.append(None)\n",
    "        Response_.append(None)\n",
    "\n",
    "    count= count +1\n",
    "    print(count,end='')"
   ]
  },
  {
   "cell_type": "code",
   "execution_count": null,
   "metadata": {
    "ExecuteTime": {
     "end_time": "2019-12-01T06:24:38.052450Z",
     "start_time": "2019-12-01T06:24:38.047420Z"
    }
   },
   "outputs": [],
   "source": []
  },
  {
   "cell_type": "code",
   "execution_count": null,
   "metadata": {
    "ExecuteTime": {
     "end_time": "2019-12-01T06:28:32.460773Z",
     "start_time": "2019-12-01T06:28:32.457113Z"
    }
   },
   "outputs": [],
   "source": []
  },
  {
   "cell_type": "code",
   "execution_count": null,
   "metadata": {
    "ExecuteTime": {
     "start_time": "2019-12-01T07:14:57.647Z"
    }
   },
   "outputs": [],
   "source": [
    "print(len(Title_))\n",
    "print(len(Year_))\n",
    "print(len(Rated_))\n",
    "print(len(Released_))\n",
    "print(len(Runtime_))\n",
    "print(len(Genre_))\n",
    "print(len(Writer_))\n",
    "print(len(Actors_))\n",
    "print(len(Plot_))\n",
    "print(len(Language_))\n",
    "print(len(Country_))\n",
    "print(len(Awards_))\n",
    "print(len(Ratings_))\n",
    "print(len(Metascore_))\n",
    "print(len(imdbRating_))\n",
    "print(len(imdbVotes_))\n",
    "print(len(imdbID_))\n",
    "print(len(Type_))\n",
    "print(len(DVD_))\n",
    "print(len(BoxOffice_))\n",
    "print(len(Production_))\n",
    "print(len(Website_))\n",
    "print(len(Response_))\n"
   ]
  },
  {
   "cell_type": "code",
   "execution_count": null,
   "metadata": {
    "ExecuteTime": {
     "start_time": "2019-12-01T07:14:57.649Z"
    }
   },
   "outputs": [],
   "source": [
    "type(Year_[0])"
   ]
  },
  {
   "cell_type": "code",
   "execution_count": null,
   "metadata": {
    "ExecuteTime": {
     "end_time": "2019-12-01T06:38:07.642817Z",
     "start_time": "2019-12-01T06:38:07.639323Z"
    }
   },
   "outputs": [],
   "source": []
  },
  {
   "cell_type": "code",
   "execution_count": null,
   "metadata": {
    "ExecuteTime": {
     "start_time": "2019-12-01T07:14:57.652Z"
    }
   },
   "outputs": [],
   "source": [
    "movie_data = {'Title':Title_,\n",
    "              'Year':Year_,\n",
    "              'Rated':Rated_,\n",
    "              'Released':Released_,\n",
    "              'Runtime':Runtime_,\n",
    "              'Genre':Genre_,\n",
    "              'Director':Director_,\n",
    "              'Writer':Writer_,\n",
    "              'Actors':Actors_,\n",
    "              'Plot':Plot_,\n",
    "              'Language':Language_,\n",
    "              'Country':Country_,\n",
    "              'Awards':Awards_,\n",
    "              'Ratings':Ratings_,\n",
    "              'Metascore':Metascore_,\n",
    "              'imdbRating':imdbRating_,\n",
    "              'imdbVotes':imdbVotes_,\n",
    "              'imdbID':imdbID_,\n",
    "              'Type':Type_,\n",
    "              'DVD':DVD_,\n",
    "              'BoxOffice':BoxOffice_,\n",
    "              'Production':Production_,\n",
    "              'Website':Website_,\n",
    "              'Response':Response_}\n",
    "\n",
    "movies = pd.DataFrame(movie_data)\n",
    "\n",
    "\n",
    "\n"
   ]
  },
  {
   "cell_type": "code",
   "execution_count": null,
   "metadata": {
    "ExecuteTime": {
     "start_time": "2019-12-01T07:14:57.654Z"
    }
   },
   "outputs": [],
   "source": [
    "movies.info()"
   ]
  },
  {
   "cell_type": "code",
   "execution_count": null,
   "metadata": {
    "ExecuteTime": {
     "start_time": "2019-12-01T07:14:57.656Z"
    }
   },
   "outputs": [],
   "source": [
    "movies.to_csv('movies_2005_new.csv',index = False,header=True) "
   ]
  },
  {
   "cell_type": "code",
   "execution_count": null,
   "metadata": {
    "ExecuteTime": {
     "start_time": "2019-12-01T07:14:57.658Z"
    }
   },
   "outputs": [],
   "source": [
    "# for i in data:\n",
    "    \n",
    "#     try:\n",
    "#         list('{}_'.format(i)).append(data[i])\n",
    "#     except KeyError:\n",
    "#         list('{}_'.format(i)).append(None)"
   ]
  }
 ],
 "metadata": {
  "kernelspec": {
   "display_name": "Python 3",
   "language": "python",
   "name": "python3"
  },
  "language_info": {
   "codemirror_mode": {
    "name": "ipython",
    "version": 3
   },
   "file_extension": ".py",
   "mimetype": "text/x-python",
   "name": "python",
   "nbconvert_exporter": "python",
   "pygments_lexer": "ipython3",
   "version": "3.7.4"
  }
 },
 "nbformat": 4,
 "nbformat_minor": 2
}
