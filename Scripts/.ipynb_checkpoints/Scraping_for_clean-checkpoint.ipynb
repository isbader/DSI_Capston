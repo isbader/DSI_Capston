{
 "cells": [
  {
   "cell_type": "code",
   "execution_count": 62,
   "metadata": {
    "ExecuteTime": {
     "end_time": "2019-12-03T07:50:49.449619Z",
     "start_time": "2019-12-03T07:50:49.436686Z"
    }
   },
   "outputs": [],
   "source": [
    "import requests\n",
    "import random\n",
    "import re\n",
    "import pandas as pd\n",
    "from bs4 import BeautifulSoup"
   ]
  },
  {
   "cell_type": "code",
   "execution_count": 63,
   "metadata": {
    "ExecuteTime": {
     "end_time": "2019-12-03T07:50:51.814784Z",
     "start_time": "2019-12-03T07:50:49.451391Z"
    }
   },
   "outputs": [
    {
     "name": "stdout",
     "output_type": "stream",
     "text": [
      "https://pro.imdb.com/title/tt0170016/details\n",
      "200\n"
     ]
    },
    {
     "data": {
      "text/plain": [
       "'How the Grinch Stole Christmas (2000)'"
      ]
     },
     "execution_count": 63,
     "metadata": {},
     "output_type": "execute_result"
    }
   ],
   "source": [
    "n=[]\n",
    "link = 'https://pro.imdb.com/title/tt0170016/details'\n",
    "print(link)\n",
    "response = requests.get(link)\n",
    "print(response.status_code)\n",
    "soup = BeautifulSoup(response.text, 'html.parser')\n",
    "movieName = soup.find('h1')\n",
    "movieName.text"
   ]
  },
  {
   "cell_type": "code",
   "execution_count": 64,
   "metadata": {
    "ExecuteTime": {
     "end_time": "2019-12-03T07:50:51.846166Z",
     "start_time": "2019-12-03T07:50:51.816380Z"
    }
   },
   "outputs": [
    {
     "data": {
      "text/plain": [
       "' 104 min\\n'"
      ]
     },
     "execution_count": 64,
     "metadata": {},
     "output_type": "execute_result"
    }
   ],
   "source": [
    "#rate = soup.select(id_=\"running_time\")\n",
    "rate = soup.select('span[id^=\"running_time\"]')\n",
    "rate[0].text"
   ]
  },
  {
   "cell_type": "code",
   "execution_count": 65,
   "metadata": {
    "ExecuteTime": {
     "end_time": "2019-12-03T07:50:51.889328Z",
     "start_time": "2019-12-03T07:50:51.849873Z"
    }
   },
   "outputs": [
    {
     "data": {
      "text/plain": [
       "'Comedy, Family, Fantasy'"
      ]
     },
     "execution_count": 65,
     "metadata": {},
     "output_type": "execute_result"
    }
   ],
   "source": [
    "genres = soup.select('span[id^=\"genres\"]')\n",
    "genres[0].text"
   ]
  },
  {
   "cell_type": "code",
   "execution_count": 66,
   "metadata": {
    "ExecuteTime": {
     "end_time": "2019-12-03T07:50:51.916350Z",
     "start_time": "2019-12-03T07:50:51.890720Z"
    }
   },
   "outputs": [],
   "source": [
    "plot = soup.select('div[id^=\"title_summary\"]')"
   ]
  },
  {
   "cell_type": "code",
   "execution_count": 67,
   "metadata": {
    "ExecuteTime": {
     "end_time": "2019-12-03T07:50:51.921866Z",
     "start_time": "2019-12-03T07:50:51.917866Z"
    }
   },
   "outputs": [
    {
     "data": {
      "text/plain": [
       "'On the outskirts of Whoville lives a green, revenge-seeking Grinch (Jim Carrey), who plans to ruin Christmas for all of the citizens of the town.'"
      ]
     },
     "execution_count": 67,
     "metadata": {},
     "output_type": "execute_result"
    }
   ],
   "source": [
    "plot[0].text.split('\\n')[1]"
   ]
  },
  {
   "cell_type": "code",
   "execution_count": 68,
   "metadata": {
    "ExecuteTime": {
     "end_time": "2019-12-03T07:50:51.924938Z",
     "start_time": "2019-12-03T07:50:51.923170Z"
    }
   },
   "outputs": [],
   "source": [
    "#director = soup.select('a',class_=\"a-size- a-align- a-link- ttip\")"
   ]
  },
  {
   "cell_type": "code",
   "execution_count": 69,
   "metadata": {
    "ExecuteTime": {
     "end_time": "2019-12-03T07:50:51.929077Z",
     "start_time": "2019-12-03T07:50:51.927068Z"
    }
   },
   "outputs": [],
   "source": [
    "#director"
   ]
  },
  {
   "cell_type": "code",
   "execution_count": 70,
   "metadata": {
    "ExecuteTime": {
     "end_time": "2019-12-03T07:50:51.958951Z",
     "start_time": "2019-12-03T07:50:51.930551Z"
    }
   },
   "outputs": [
    {
     "data": {
      "text/plain": [
       "' Box Office\\n\\n\\nBecome a member to see Box Office information about How the Grinch Stole Christmas.\\n Start your 30-Day free trial\\n\\n'"
      ]
     },
     "execution_count": 70,
     "metadata": {},
     "output_type": "execute_result"
    }
   ],
   "source": [
    "soup.select('div[id^=\"box_office_summary\"]')[0].text"
   ]
  },
  {
   "cell_type": "code",
   "execution_count": 71,
   "metadata": {
    "ExecuteTime": {
     "end_time": "2019-12-03T07:50:51.963370Z",
     "start_time": "2019-12-03T07:50:51.960648Z"
    }
   },
   "outputs": [],
   "source": [
    "# budget = soup.findall('div',class_=\"a-fixed-right-grid-col a-col-right\")"
   ]
  },
  {
   "cell_type": "code",
   "execution_count": 72,
   "metadata": {
    "ExecuteTime": {
     "end_time": "2019-12-03T07:50:51.996131Z",
     "start_time": "2019-12-03T07:50:51.964889Z"
    }
   },
   "outputs": [],
   "source": [
    "movies = pd.read_csv('/Users/bader/Dropbox/DSI_GA_Capstone/Code/New_Data_OMDB/movies_2000_new.csv')"
   ]
  },
  {
   "cell_type": "code",
   "execution_count": null,
   "metadata": {},
   "outputs": [],
   "source": []
  },
  {
   "cell_type": "code",
   "execution_count": 73,
   "metadata": {
    "ExecuteTime": {
     "end_time": "2019-12-03T07:50:52.009312Z",
     "start_time": "2019-12-03T07:50:51.997313Z"
    }
   },
   "outputs": [
    {
     "data": {
      "text/plain": [
       "0      tt0160127\n",
       "1      tt0172495\n",
       "2      tt0170016\n",
       "3      tt0180093\n",
       "4      tt0210945\n",
       "         ...    \n",
       "642    tt4135936\n",
       "643    tt4138432\n",
       "644    tt7201596\n",
       "645          NaN\n",
       "646    tt3180664\n",
       "Name: imdbID, Length: 647, dtype: object"
      ]
     },
     "execution_count": 73,
     "metadata": {},
     "output_type": "execute_result"
    }
   ],
   "source": [
    "movies['imdbID']"
   ]
  },
  {
   "cell_type": "code",
   "execution_count": 74,
   "metadata": {
    "ExecuteTime": {
     "end_time": "2019-12-03T07:51:10.897054Z",
     "start_time": "2019-12-03T07:50:52.010796Z"
    }
   },
   "outputs": [
    {
     "name": "stdout",
     "output_type": "stream",
     "text": [
      "https://pro.imdb.com/title/tt0160127/details\n",
      "200\n",
      "https://pro.imdb.com/title/tt0172495/details\n",
      "200\n",
      "https://pro.imdb.com/title/tt0170016/details\n",
      "200\n",
      "https://pro.imdb.com/title/tt0180093/details\n",
      "200\n",
      "https://pro.imdb.com/title/tt0210945/details\n",
      "200\n",
      "https://pro.imdb.com/title/tt0144084/details\n",
      "200\n",
      "https://pro.imdb.com/title/tt0208092/details\n",
      "200\n",
      "https://pro.imdb.com/title/tt0191397/details\n",
      "200\n",
      "https://pro.imdb.com/title/tt0209144/details\n",
      "200\n",
      "https://pro.imdb.com/title/tt0187393/details\n",
      "200\n"
     ]
    }
   ],
   "source": [
    "ID = movies['imdbID'][0:10]\n",
    "name = []\n",
    "runtime = []\n",
    "genres = []\n",
    "plot = []\n",
    "\n",
    "for i in ID:\n",
    "    try:\n",
    "        if type(i) == str:\n",
    "            link = 'https://pro.imdb.com/title/{}/details'.format(i)\n",
    "            print(link)\n",
    "            response = requests.get(link)\n",
    "            print(response.status_code)\n",
    "            soup = BeautifulSoup(response.text, 'html.parser')\n",
    "            try:\n",
    "                name.append(soup.find('h1').text)\n",
    "            except:\n",
    "                name.append(None)\n",
    "            try:\n",
    "                runtime.append(soup.select('span[id^=\"running_time\"]')[0].text)\n",
    "            except:\n",
    "                runtime.append(None)\n",
    "            try:\n",
    "                genres.append(soup.select('span[id^=\"genres\"]'))\n",
    "            except:\n",
    "                genres.append(None)\n",
    "            try:\n",
    "                plot.append(soup.select('div[id^=\"title_summary\"]')[0].text.split('\\n')[1])\n",
    "            except:\n",
    "                plot.append(None)\n",
    "                \n",
    "    except:\n",
    "        name.append(None)\n",
    "        runtime.append(None)"
   ]
  },
  {
   "cell_type": "code",
   "execution_count": 80,
   "metadata": {
    "ExecuteTime": {
     "end_time": "2019-12-03T07:54:38.206511Z",
     "start_time": "2019-12-03T07:54:38.198850Z"
    }
   },
   "outputs": [
    {
     "name": "stdout",
     "output_type": "stream",
     "text": [
      "10\n",
      "10\n",
      "10\n",
      "10\n",
      "10\n"
     ]
    }
   ],
   "source": [
    "print(len(ID))\n",
    "print(len(name))\n",
    "print(len(runtime))\n",
    "print(len(genres))\n",
    "print(len(plot))"
   ]
  },
  {
   "cell_type": "code",
   "execution_count": 76,
   "metadata": {
    "ExecuteTime": {
     "end_time": "2019-12-03T07:51:10.908439Z",
     "start_time": "2019-12-03T07:51:10.904584Z"
    }
   },
   "outputs": [],
   "source": [
    "ID_ = ID.dropna()"
   ]
  },
  {
   "cell_type": "code",
   "execution_count": 81,
   "metadata": {
    "ExecuteTime": {
     "end_time": "2019-12-03T07:54:40.507371Z",
     "start_time": "2019-12-03T07:54:40.500710Z"
    }
   },
   "outputs": [
    {
     "name": "stdout",
     "output_type": "stream",
     "text": [
      "10\n",
      "10\n",
      "10\n",
      "10\n",
      "10\n"
     ]
    }
   ],
   "source": [
    "print(len(ID_))\n",
    "print(len(name))\n",
    "print(len(runtime))\n",
    "print(len(genres))\n",
    "print(len(plot))"
   ]
  },
  {
   "cell_type": "code",
   "execution_count": 78,
   "metadata": {
    "ExecuteTime": {
     "end_time": "2019-12-03T07:51:10.925240Z",
     "start_time": "2019-12-03T07:51:10.916918Z"
    }
   },
   "outputs": [],
   "source": [
    "df_ = pd.DataFrame({'ID':ID_,'name':name,'runtime':runtime,'genres':genres,'plot':plot})"
   ]
  },
  {
   "cell_type": "code",
   "execution_count": 79,
   "metadata": {
    "ExecuteTime": {
     "end_time": "2019-12-03T07:51:10.948133Z",
     "start_time": "2019-12-03T07:51:10.928417Z"
    }
   },
   "outputs": [
    {
     "data": {
      "text/html": [
       "<div>\n",
       "<style scoped>\n",
       "    .dataframe tbody tr th:only-of-type {\n",
       "        vertical-align: middle;\n",
       "    }\n",
       "\n",
       "    .dataframe tbody tr th {\n",
       "        vertical-align: top;\n",
       "    }\n",
       "\n",
       "    .dataframe thead th {\n",
       "        text-align: right;\n",
       "    }\n",
       "</style>\n",
       "<table border=\"1\" class=\"dataframe\">\n",
       "  <thead>\n",
       "    <tr style=\"text-align: right;\">\n",
       "      <th></th>\n",
       "      <th>ID</th>\n",
       "      <th>name</th>\n",
       "      <th>runtime</th>\n",
       "      <th>genres</th>\n",
       "      <th>plot</th>\n",
       "    </tr>\n",
       "  </thead>\n",
       "  <tbody>\n",
       "    <tr>\n",
       "      <td>0</td>\n",
       "      <td>tt0160127</td>\n",
       "      <td>Charlie's Angels (2000)</td>\n",
       "      <td>98 min\\n</td>\n",
       "      <td>[[Action, Adventure, Comedy]]</td>\n",
       "      <td>Three women, detectives with a mysterious boss...</td>\n",
       "    </tr>\n",
       "    <tr>\n",
       "      <td>1</td>\n",
       "      <td>tt0172495</td>\n",
       "      <td>Gladiator (2000)</td>\n",
       "      <td>155 min\\n</td>\n",
       "      <td>[[Action, Adventure, Drama]]</td>\n",
       "      <td>A former Roman General sets out to exact venge...</td>\n",
       "    </tr>\n",
       "    <tr>\n",
       "      <td>2</td>\n",
       "      <td>tt0170016</td>\n",
       "      <td>How the Grinch Stole Christmas (2000)</td>\n",
       "      <td>104 min\\n</td>\n",
       "      <td>[[Comedy, Family, Fantasy]]</td>\n",
       "      <td>On the outskirts of Whoville lives a green, re...</td>\n",
       "    </tr>\n",
       "    <tr>\n",
       "      <td>3</td>\n",
       "      <td>tt0180093</td>\n",
       "      <td>Requiem for a Dream (2000)</td>\n",
       "      <td>102 min\\n</td>\n",
       "      <td>[[Drama]]</td>\n",
       "      <td>The drug-induced utopias of four Coney Island ...</td>\n",
       "    </tr>\n",
       "    <tr>\n",
       "      <td>4</td>\n",
       "      <td>tt0210945</td>\n",
       "      <td>Remember the Titans (2000)</td>\n",
       "      <td>113 min\\n</td>\n",
       "      <td>[[Biography, Drama, Sport]]</td>\n",
       "      <td>The true story of a newly appointed African-Am...</td>\n",
       "    </tr>\n",
       "  </tbody>\n",
       "</table>\n",
       "</div>"
      ],
      "text/plain": [
       "          ID                                   name     runtime  \\\n",
       "0  tt0160127                Charlie's Angels (2000)    98 min\\n   \n",
       "1  tt0172495                       Gladiator (2000)   155 min\\n   \n",
       "2  tt0170016  How the Grinch Stole Christmas (2000)   104 min\\n   \n",
       "3  tt0180093             Requiem for a Dream (2000)   102 min\\n   \n",
       "4  tt0210945             Remember the Titans (2000)   113 min\\n   \n",
       "\n",
       "                          genres  \\\n",
       "0  [[Action, Adventure, Comedy]]   \n",
       "1   [[Action, Adventure, Drama]]   \n",
       "2    [[Comedy, Family, Fantasy]]   \n",
       "3                      [[Drama]]   \n",
       "4    [[Biography, Drama, Sport]]   \n",
       "\n",
       "                                                plot  \n",
       "0  Three women, detectives with a mysterious boss...  \n",
       "1  A former Roman General sets out to exact venge...  \n",
       "2  On the outskirts of Whoville lives a green, re...  \n",
       "3  The drug-induced utopias of four Coney Island ...  \n",
       "4  The true story of a newly appointed African-Am...  "
      ]
     },
     "execution_count": 79,
     "metadata": {},
     "output_type": "execute_result"
    }
   ],
   "source": [
    "df_.head()"
   ]
  },
  {
   "cell_type": "code",
   "execution_count": null,
   "metadata": {},
   "outputs": [],
   "source": []
  }
 ],
 "metadata": {
  "kernelspec": {
   "display_name": "Python 3",
   "language": "python",
   "name": "python3"
  },
  "language_info": {
   "codemirror_mode": {
    "name": "ipython",
    "version": 3
   },
   "file_extension": ".py",
   "mimetype": "text/x-python",
   "name": "python",
   "nbconvert_exporter": "python",
   "pygments_lexer": "ipython3",
   "version": "3.7.4"
  }
 },
 "nbformat": 4,
 "nbformat_minor": 2
}
