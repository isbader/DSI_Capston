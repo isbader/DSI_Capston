{
 "cells": [
  {
   "cell_type": "code",
   "execution_count": 1,
   "metadata": {
    "ExecuteTime": {
     "end_time": "2019-12-02T17:36:57.014137Z",
     "start_time": "2019-12-02T17:36:55.382982Z"
    }
   },
   "outputs": [],
   "source": [
    "import numpy as np\n",
    "import pandas as pd\n",
    "\n",
    "import seaborn as sns\n",
    "import matplotlib.pyplot as plt\n",
    "sns.set_style('whitegrid')\n",
    "%matplotlib inline\n",
    "\n",
    "import imdb"
   ]
  },
  {
   "cell_type": "code",
   "execution_count": 2,
   "metadata": {
    "ExecuteTime": {
     "end_time": "2019-12-02T17:36:57.422765Z",
     "start_time": "2019-12-02T17:36:57.016178Z"
    }
   },
   "outputs": [],
   "source": [
    "data2000 = pd.read_csv('../Files/Movies_2000_fixedCast.csv')\n",
    "data2001 = pd.read_csv('../Files/Movies_2001_fixedCast.csv')\n",
    "data2002 = pd.read_csv('../Files/Movies_2002_fixedCast.csv')\n",
    "data2003 = pd.read_csv('../Files/Movies_2003_fixedCast.csv')\n",
    "data2004 = pd.read_csv('../Files/Movies_2004_fixedCast.csv')\n",
    "data2005 = pd.read_csv('../Files/Movies_2005_fixedCast.csv')\n",
    "data2006 = pd.read_csv('../Files/Movies_2006_fixedCast.csv')\n",
    "data2007 = pd.read_csv('../Files/Movies_2007_fixedCast.csv')\n",
    "data2008 = pd.read_csv('../Files/Movies_2008_fixedCast.csv')\n",
    "data2009 = pd.read_csv('../Files/Movies_2009_fixedCast.csv')\n",
    "data2010 = pd.read_csv('../Files/Movies_2010_fixedCast.csv')\n",
    "data2011 = pd.read_csv('../Files/Movies_2011_fixedCast.csv')\n",
    "data2012 = pd.read_csv('../Files/Movies_2012_fixedCast.csv')\n",
    "data2013 = pd.read_csv('../Files/Movies_2013_fixedCast.csv')\n",
    "data2014 = pd.read_csv('../Files/Movies_2014_fixedCast.csv')\n",
    "data2015 = pd.read_csv('../Files/Movies_2015_fixedCast.csv')\n",
    "data2016 = pd.read_csv('../Files/Movies_2016_fixedCast.csv')\n",
    "data2017 = pd.read_csv('../Files/Movies_2017_fixedCast.csv')\n",
    "\n",
    "#Concat the data into one dataframe\n",
    "Movies_ = pd.concat([data2000,data2001,data2002,data2003,data2004,data2005,\\\n",
    "                    data2006,data2007,data2008,data2009,data2010,data2011,\\\n",
    "                    data2012,data2013,data2014,data2015,data2016,data2017],ignore_index=True) "
   ]
  },
  {
   "cell_type": "markdown",
   "metadata": {},
   "source": [
    "### UnderStanding the data"
   ]
  },
  {
   "cell_type": "code",
   "execution_count": 3,
   "metadata": {
    "ExecuteTime": {
     "end_time": "2019-12-02T17:36:57.429180Z",
     "start_time": "2019-12-02T17:36:57.424459Z"
    }
   },
   "outputs": [
    {
     "data": {
      "text/plain": [
       "(10330, 29)"
      ]
     },
     "execution_count": 3,
     "metadata": {},
     "output_type": "execute_result"
    }
   ],
   "source": [
    "Movies_.shape"
   ]
  },
  {
   "cell_type": "code",
   "execution_count": 4,
   "metadata": {
    "ExecuteTime": {
     "end_time": "2019-12-02T17:36:57.466662Z",
     "start_time": "2019-12-02T17:36:57.430866Z"
    }
   },
   "outputs": [
    {
     "name": "stdout",
     "output_type": "stream",
     "text": [
      "<class 'pandas.core.frame.DataFrame'>\n",
      "RangeIndex: 10330 entries, 0 to 10329\n",
      "Data columns (total 29 columns):\n",
      "year                   10330 non-null int64\n",
      "name                   10330 non-null object\n",
      "Movie_ID               10330 non-null int64\n",
      "runtime                9391 non-null float64\n",
      "cast                   10044 non-null object\n",
      "genre                  10330 non-null object\n",
      "country_codes          10225 non-null object\n",
      "language_codes         10105 non-null object\n",
      "certificates           6750 non-null object\n",
      "Budget                 4567 non-null float64\n",
      "OWUS                   3142 non-null object\n",
      "CWG                    1894 non-null float64\n",
      "rating                 8990 non-null float64\n",
      "votes                  8990 non-null float64\n",
      "original_air_date      8548 non-null object\n",
      "title                  10329 non-null object\n",
      "director               9838 non-null object\n",
      "writer1                9415 non-null object\n",
      "writer2                2083 non-null object\n",
      "producer1              9347 non-null object\n",
      "producer2              8319 non-null object\n",
      "production_company1    9293 non-null object\n",
      "production_company2    6895 non-null object\n",
      "composers              8169 non-null object\n",
      "editors                8857 non-null object\n",
      "cinematographers       8922 non-null object\n",
      "set_decorators         5015 non-null object\n",
      "assistant_directors    7411 non-null object\n",
      "visual_effects         6537 non-null object\n",
      "dtypes: float64(5), int64(2), object(22)\n",
      "memory usage: 2.3+ MB\n"
     ]
    }
   ],
   "source": [
    "Movies_.info()"
   ]
  },
  {
   "cell_type": "code",
   "execution_count": 5,
   "metadata": {
    "ExecuteTime": {
     "end_time": "2019-12-02T17:36:57.532661Z",
     "start_time": "2019-12-02T17:36:57.468659Z"
    }
   },
   "outputs": [],
   "source": [
    "Movies_.drop_duplicates(keep='first',inplace=True)\n",
    "Movies_.reset_index(drop=True,inplace=True)"
   ]
  },
  {
   "cell_type": "code",
   "execution_count": 6,
   "metadata": {
    "ExecuteTime": {
     "end_time": "2019-12-02T17:36:57.539138Z",
     "start_time": "2019-12-02T17:36:57.534655Z"
    }
   },
   "outputs": [
    {
     "data": {
      "text/plain": [
       "(9654, 29)"
      ]
     },
     "execution_count": 6,
     "metadata": {},
     "output_type": "execute_result"
    }
   ],
   "source": [
    "Movies_.shape"
   ]
  },
  {
   "cell_type": "code",
   "execution_count": 7,
   "metadata": {
    "ExecuteTime": {
     "end_time": "2019-12-02T17:36:57.570960Z",
     "start_time": "2019-12-02T17:36:57.540984Z"
    }
   },
   "outputs": [
    {
     "data": {
      "text/html": [
       "<div>\n",
       "<style scoped>\n",
       "    .dataframe tbody tr th:only-of-type {\n",
       "        vertical-align: middle;\n",
       "    }\n",
       "\n",
       "    .dataframe tbody tr th {\n",
       "        vertical-align: top;\n",
       "    }\n",
       "\n",
       "    .dataframe thead th {\n",
       "        text-align: right;\n",
       "    }\n",
       "</style>\n",
       "<table border=\"1\" class=\"dataframe\">\n",
       "  <thead>\n",
       "    <tr style=\"text-align: right;\">\n",
       "      <th></th>\n",
       "      <th>year</th>\n",
       "      <th>name</th>\n",
       "      <th>Movie_ID</th>\n",
       "      <th>runtime</th>\n",
       "      <th>cast</th>\n",
       "      <th>genre</th>\n",
       "      <th>country_codes</th>\n",
       "      <th>language_codes</th>\n",
       "      <th>certificates</th>\n",
       "      <th>Budget</th>\n",
       "      <th>...</th>\n",
       "      <th>producer1</th>\n",
       "      <th>producer2</th>\n",
       "      <th>production_company1</th>\n",
       "      <th>production_company2</th>\n",
       "      <th>composers</th>\n",
       "      <th>editors</th>\n",
       "      <th>cinematographers</th>\n",
       "      <th>set_decorators</th>\n",
       "      <th>assistant_directors</th>\n",
       "      <th>visual_effects</th>\n",
       "    </tr>\n",
       "  </thead>\n",
       "  <tbody>\n",
       "    <tr>\n",
       "      <td>0</td>\n",
       "      <td>2000</td>\n",
       "      <td>Charlie's Angels</td>\n",
       "      <td>5033998</td>\n",
       "      <td>118.0</td>\n",
       "      <td>['Kristen Stewart', 'Naomi Scott', 'Ella Balin...</td>\n",
       "      <td>['Action', 'Adventure', 'Comedy']</td>\n",
       "      <td>['us']</td>\n",
       "      <td>['en']</td>\n",
       "      <td>PG-13</td>\n",
       "      <td>48000000.0</td>\n",
       "      <td>...</td>\n",
       "      <td>Elizabeth Banks</td>\n",
       "      <td>Drew Barrymore</td>\n",
       "      <td>Columbia Pictures</td>\n",
       "      <td>2.0 Entertainment</td>\n",
       "      <td>Brian Tyler</td>\n",
       "      <td>Alan Baumgarten</td>\n",
       "      <td>Bill Pope</td>\n",
       "      <td>Mark Rosinski</td>\n",
       "      <td>Simon Adegbenro</td>\n",
       "      <td>Lukas Abraham</td>\n",
       "    </tr>\n",
       "    <tr>\n",
       "      <td>1</td>\n",
       "      <td>2000</td>\n",
       "      <td>Gladiator</td>\n",
       "      <td>172495</td>\n",
       "      <td>155.0</td>\n",
       "      <td>['Russell Crowe', 'Joaquin Phoenix', 'Connie N...</td>\n",
       "      <td>['Action', 'Adventure', 'Drama']</td>\n",
       "      <td>['us', 'gb', 'mt', 'ma']</td>\n",
       "      <td>['en']</td>\n",
       "      <td>TV-14</td>\n",
       "      <td>103000000.0</td>\n",
       "      <td>...</td>\n",
       "      <td>David Franzoni</td>\n",
       "      <td>Branko Lustig</td>\n",
       "      <td>DreamWorks</td>\n",
       "      <td>Universal Pictures</td>\n",
       "      <td>Lisa Gerrard</td>\n",
       "      <td>Pietro Scalia</td>\n",
       "      <td>John Mathieson</td>\n",
       "      <td>Crispian Sallis</td>\n",
       "      <td>Ali Cherkaoui</td>\n",
       "      <td>Rob Allman</td>\n",
       "    </tr>\n",
       "    <tr>\n",
       "      <td>2</td>\n",
       "      <td>2000</td>\n",
       "      <td>How the Grinch Stole Christmas</td>\n",
       "      <td>2709692</td>\n",
       "      <td>85.0</td>\n",
       "      <td>['Benedict Cumberbatch', 'Cameron Seely', 'Ras...</td>\n",
       "      <td>['Animation', 'Family', 'Fantasy']</td>\n",
       "      <td>['fr', 'jp', 'us']</td>\n",
       "      <td>['en']</td>\n",
       "      <td>PG</td>\n",
       "      <td>75000000.0</td>\n",
       "      <td>...</td>\n",
       "      <td>Audrey Geisel</td>\n",
       "      <td>Janet Healy</td>\n",
       "      <td>Universal Pictures</td>\n",
       "      <td>Universal Animation Studios</td>\n",
       "      <td>Danny Elfman</td>\n",
       "      <td>Chris Cartagena</td>\n",
       "      <td>NaN</td>\n",
       "      <td>NaN</td>\n",
       "      <td>NaN</td>\n",
       "      <td>Richard Adenot</td>\n",
       "    </tr>\n",
       "    <tr>\n",
       "      <td>3</td>\n",
       "      <td>2000</td>\n",
       "      <td>Requiem for a Dream</td>\n",
       "      <td>180093</td>\n",
       "      <td>102.0</td>\n",
       "      <td>['Ellen Burstyn', 'Jared Leto', 'Jennifer Conn...</td>\n",
       "      <td>['Drama']</td>\n",
       "      <td>['us']</td>\n",
       "      <td>['en']</td>\n",
       "      <td>Unrated</td>\n",
       "      <td>4500000.0</td>\n",
       "      <td>...</td>\n",
       "      <td>Ben Barenholtz</td>\n",
       "      <td>Beau Flynn</td>\n",
       "      <td>Artisan Entertainment</td>\n",
       "      <td>Thousand Words</td>\n",
       "      <td>Clint Mansell</td>\n",
       "      <td>Jay Rabinowitz</td>\n",
       "      <td>Matthew Libatique</td>\n",
       "      <td>Ondine Karady</td>\n",
       "      <td>Timothy Bird</td>\n",
       "      <td>Jeremy Dawson</td>\n",
       "    </tr>\n",
       "    <tr>\n",
       "      <td>4</td>\n",
       "      <td>2000</td>\n",
       "      <td>Remember the Titans</td>\n",
       "      <td>210945</td>\n",
       "      <td>113.0</td>\n",
       "      <td>['Denzel Washington', 'Will Patton', 'Wood Har...</td>\n",
       "      <td>['Biography', 'Drama', 'Sport']</td>\n",
       "      <td>['us']</td>\n",
       "      <td>['en']</td>\n",
       "      <td>PG</td>\n",
       "      <td>30000000.0</td>\n",
       "      <td>...</td>\n",
       "      <td>Jerry Bruckheimer</td>\n",
       "      <td>Michael Flynn</td>\n",
       "      <td>Jerry Bruckheimer Films</td>\n",
       "      <td>Run It Up Productions Inc.</td>\n",
       "      <td>Trevor Rabin</td>\n",
       "      <td>Michael Tronick</td>\n",
       "      <td>Philippe Rousselot</td>\n",
       "      <td>Anne Kuljian</td>\n",
       "      <td>Matthew Feitshans</td>\n",
       "      <td>Andy Davis</td>\n",
       "    </tr>\n",
       "  </tbody>\n",
       "</table>\n",
       "<p>5 rows × 29 columns</p>\n",
       "</div>"
      ],
      "text/plain": [
       "   year                            name  Movie_ID  runtime  \\\n",
       "0  2000                Charlie's Angels   5033998    118.0   \n",
       "1  2000                       Gladiator    172495    155.0   \n",
       "2  2000  How the Grinch Stole Christmas   2709692     85.0   \n",
       "3  2000             Requiem for a Dream    180093    102.0   \n",
       "4  2000             Remember the Titans    210945    113.0   \n",
       "\n",
       "                                                cast  \\\n",
       "0  ['Kristen Stewart', 'Naomi Scott', 'Ella Balin...   \n",
       "1  ['Russell Crowe', 'Joaquin Phoenix', 'Connie N...   \n",
       "2  ['Benedict Cumberbatch', 'Cameron Seely', 'Ras...   \n",
       "3  ['Ellen Burstyn', 'Jared Leto', 'Jennifer Conn...   \n",
       "4  ['Denzel Washington', 'Will Patton', 'Wood Har...   \n",
       "\n",
       "                                genre             country_codes  \\\n",
       "0   ['Action', 'Adventure', 'Comedy']                    ['us']   \n",
       "1    ['Action', 'Adventure', 'Drama']  ['us', 'gb', 'mt', 'ma']   \n",
       "2  ['Animation', 'Family', 'Fantasy']        ['fr', 'jp', 'us']   \n",
       "3                           ['Drama']                    ['us']   \n",
       "4     ['Biography', 'Drama', 'Sport']                    ['us']   \n",
       "\n",
       "  language_codes certificates       Budget  ...          producer1  \\\n",
       "0         ['en']        PG-13   48000000.0  ...    Elizabeth Banks   \n",
       "1         ['en']        TV-14  103000000.0  ...     David Franzoni   \n",
       "2         ['en']           PG   75000000.0  ...      Audrey Geisel   \n",
       "3         ['en']      Unrated    4500000.0  ...     Ben Barenholtz   \n",
       "4         ['en']           PG   30000000.0  ...  Jerry Bruckheimer   \n",
       "\n",
       "        producer2      production_company1          production_company2  \\\n",
       "0  Drew Barrymore        Columbia Pictures            2.0 Entertainment   \n",
       "1   Branko Lustig               DreamWorks           Universal Pictures   \n",
       "2     Janet Healy       Universal Pictures  Universal Animation Studios   \n",
       "3      Beau Flynn    Artisan Entertainment               Thousand Words   \n",
       "4   Michael Flynn  Jerry Bruckheimer Films   Run It Up Productions Inc.   \n",
       "\n",
       "       composers          editors    cinematographers   set_decorators  \\\n",
       "0    Brian Tyler  Alan Baumgarten           Bill Pope    Mark Rosinski   \n",
       "1   Lisa Gerrard    Pietro Scalia      John Mathieson  Crispian Sallis   \n",
       "2   Danny Elfman  Chris Cartagena                 NaN              NaN   \n",
       "3  Clint Mansell   Jay Rabinowitz   Matthew Libatique    Ondine Karady   \n",
       "4   Trevor Rabin  Michael Tronick  Philippe Rousselot     Anne Kuljian   \n",
       "\n",
       "  assistant_directors  visual_effects  \n",
       "0     Simon Adegbenro   Lukas Abraham  \n",
       "1       Ali Cherkaoui      Rob Allman  \n",
       "2                 NaN  Richard Adenot  \n",
       "3        Timothy Bird   Jeremy Dawson  \n",
       "4   Matthew Feitshans      Andy Davis  \n",
       "\n",
       "[5 rows x 29 columns]"
      ]
     },
     "execution_count": 7,
     "metadata": {},
     "output_type": "execute_result"
    }
   ],
   "source": [
    "Movies_.head(5)"
   ]
  },
  {
   "cell_type": "code",
   "execution_count": 8,
   "metadata": {
    "ExecuteTime": {
     "end_time": "2019-12-02T17:36:58.373422Z",
     "start_time": "2019-12-02T17:36:57.576393Z"
    }
   },
   "outputs": [
    {
     "data": {
      "image/png": "[encoded data removed]",
      "text/plain": [
       "<Figure size 1296x432 with 1 Axes>"
      ]
     },
     "metadata": {
      "needs_background": "light"
     },
     "output_type": "display_data"
    },
    {
     "name": "stdout",
     "output_type": "stream",
     "text": [
      "year : % 0 With 0 missing values\n",
      "name : % 0 With 0 missing values\n",
      "Movie_ID : % 0 With 0 missing values\n",
      "runtime : % 9 With 933 missing values\n",
      "cast : % 2 With 286 missing values\n",
      "genre : % 0 With 0 missing values\n",
      "country_codes : % 1 With 104 missing values\n",
      "language_codes : % 2 With 222 missing values\n",
      "certificates : % 36 With 3555 missing values\n",
      "Budget : % 57 With 5548 missing values\n",
      "OWUS : % 71 With 6889 missing values\n",
      "CWG : % 82 With 7995 missing values\n",
      "rating : % 13 With 1332 missing values\n",
      "votes : % 13 With 1332 missing values\n",
      "original_air_date : % 18 With 1758 missing values\n",
      "title : % 0 With 1 missing values\n",
      "director : % 4 With 476 missing values\n",
      "writer1 : % 9 With 898 missing values\n",
      "writer2 : % 80 With 7793 missing values\n",
      "producer1 : % 9 With 965 missing values\n",
      "producer2 : % 20 With 1985 missing values\n",
      "production_company1 : % 10 With 1032 missing values\n",
      "production_company2 : % 35 With 3383 missing values\n",
      "composers : % 21 With 2105 missing values\n",
      "editors : % 15 With 1451 missing values\n",
      "cinematographers : % 14 With 1372 missing values\n",
      "set_decorators : % 53 With 5150 missing values\n",
      "assistant_directors : % 29 With 2859 missing values\n",
      "visual_effects : % 38 With 3727 missing values\n"
     ]
    }
   ],
   "source": [
    "#Plot a heat map of the missing varibles\n",
    "def missing_heat_map(DataFrame):\n",
    "    fig, ax = plt.subplots(nrows = 1, ncols = 1, figsize = (18, 6))\n",
    "    sns.heatmap(DataFrame.isnull(), yticklabels=False, ax = ax, cbar=False, cmap='viridis')\n",
    "    ax.set_title('Movies_')\n",
    "    plt.show()\n",
    "    \n",
    "    for i in DataFrame:\n",
    "        print(i,': %',int((DataFrame[i].isnull().sum()/len(DataFrame[i]))*100),\\\n",
    "              'With {} missing values'.format((DataFrame[i].isnull().sum())))\n",
    "missing_heat_map(Movies_)"
   ]
  },
  {
   "cell_type": "markdown",
   "metadata": {
    "ExecuteTime": {
     "end_time": "2019-11-29T21:06:29.312742Z",
     "start_time": "2019-11-29T21:06:29.304160Z"
    }
   },
   "source": [
    "### Mapping certificates"
   ]
  },
  {
   "cell_type": "code",
   "execution_count": 9,
   "metadata": {
    "ExecuteTime": {
     "end_time": "2019-12-02T17:36:58.378830Z",
     "start_time": "2019-12-02T17:36:58.375099Z"
    }
   },
   "outputs": [
    {
     "data": {
      "text/plain": [
       "Index(['year', 'name', 'Movie_ID', 'runtime', 'cast', 'genre', 'country_codes',\n",
       "       'language_codes', 'certificates', 'Budget', 'OWUS', 'CWG', 'rating',\n",
       "       'votes', 'original_air_date', 'title', 'director', 'writer1', 'writer2',\n",
       "       'producer1', 'producer2', 'production_company1', 'production_company2',\n",
       "       'composers', 'editors', 'cinematographers', 'set_decorators',\n",
       "       'assistant_directors', 'visual_effects'],\n",
       "      dtype='object')"
      ]
     },
     "execution_count": 9,
     "metadata": {},
     "output_type": "execute_result"
    }
   ],
   "source": [
    "Movies_.columns"
   ]
  },
  {
   "cell_type": "code",
   "execution_count": 10,
   "metadata": {
    "ExecuteTime": {
     "end_time": "2019-12-02T17:36:58.385140Z",
     "start_time": "2019-12-02T17:36:58.380348Z"
    }
   },
   "outputs": [
    {
     "data": {
      "text/plain": [
       "(9654,)"
      ]
     },
     "execution_count": 10,
     "metadata": {},
     "output_type": "execute_result"
    }
   ],
   "source": [
    "Movies_['certificates'].shape"
   ]
  },
  {
   "cell_type": "code",
   "execution_count": 11,
   "metadata": {
    "ExecuteTime": {
     "end_time": "2019-12-02T17:36:58.396420Z",
     "start_time": "2019-12-02T17:36:58.386764Z"
    }
   },
   "outputs": [
    {
     "data": {
      "text/plain": [
       "R                              2288\n",
       "PG-13                          1292\n",
       "Not Rated                       977\n",
       "PG                              392\n",
       "TV-14                           133\n",
       "                               ... \n",
       "R::(No. 37899)                    1\n",
       "PG-13::(Approved No. 37977)       1\n",
       "TV-PG::(D)                        1\n",
       "PG-13::(No. 39296)                1\n",
       "R::(Approved No. 42045)           1\n",
       "Name: certificates, Length: 232, dtype: int64"
      ]
     },
     "execution_count": 11,
     "metadata": {},
     "output_type": "execute_result"
    }
   ],
   "source": [
    "Movies_['certificates'].value_counts()"
   ]
  },
  {
   "cell_type": "code",
   "execution_count": 12,
   "metadata": {
    "ExecuteTime": {
     "end_time": "2019-12-02T17:36:58.406774Z",
     "start_time": "2019-12-02T17:36:58.397870Z"
    }
   },
   "outputs": [],
   "source": [
    "#Split the string and take the portion needed\n",
    "Movies_['certificates'] = Movies_['certificates'].apply(lambda x: x.split(':')[0] if type(x) != float else x)"
   ]
  },
  {
   "cell_type": "code",
   "execution_count": 13,
   "metadata": {
    "ExecuteTime": {
     "end_time": "2019-12-02T17:36:58.418210Z",
     "start_time": "2019-12-02T17:36:58.408381Z"
    }
   },
   "outputs": [
    {
     "name": "stdout",
     "output_type": "stream",
     "text": [
      "6099\n"
     ]
    },
    {
     "data": {
      "text/plain": [
       "R            2354\n",
       "PG-13        1348\n",
       "Not Rated     983\n",
       "PG            409\n",
       "TV-14         308\n",
       "TV-MA         200\n",
       "Unrated       139\n",
       "TV-PG         137\n",
       "TV-G          101\n",
       "G              63\n",
       "Approved       25\n",
       "TV-Y7           9\n",
       "NC-17           7\n",
       "Passed          7\n",
       "TV-Y            4\n",
       "M               2\n",
       "GP              1\n",
       "12              1\n",
       "TV-Y7-FV        1\n",
       "Name: certificates, dtype: int64"
      ]
     },
     "execution_count": 13,
     "metadata": {},
     "output_type": "execute_result"
    }
   ],
   "source": [
    "print(Movies_['certificates'].value_counts().sum())\n",
    "Movies_['certificates'].value_counts()"
   ]
  },
  {
   "cell_type": "code",
   "execution_count": 14,
   "metadata": {
    "ExecuteTime": {
     "end_time": "2019-12-02T17:36:58.471437Z",
     "start_time": "2019-12-02T17:36:58.419672Z"
    }
   },
   "outputs": [],
   "source": [
    "# Map the values to the desired rating system\n",
    "main_cert = ['R','PG-13','Unrated','PG','G','Approved']\n",
    "\n",
    "cert_map = {'TV-MA':'R','TV–G':'G','TV-Y':'G','TV-Y7':'PG','TV-14':'PG-13','Not Rated':'Unrated','Passed':'Approved',\\\n",
    "            'TV-PG':'PG','G7':'PG','M':'R','G7-FV':'PG','NC-17':'R','12':'PG','PG-FV':'PG','GP':'PG'}\n",
    "\n",
    "for old, new in cert_map.items():\n",
    "    Movies_['certificates'] = Movies_['certificates'].apply(lambda x : x.replace(old, new) if x not in main_cert and type(x) != float else x )\n"
   ]
  },
  {
   "cell_type": "code",
   "execution_count": 15,
   "metadata": {
    "ExecuteTime": {
     "end_time": "2019-12-02T17:36:58.480455Z",
     "start_time": "2019-12-02T17:36:58.472710Z"
    },
    "scrolled": true
   },
   "outputs": [
    {
     "name": "stdout",
     "output_type": "stream",
     "text": [
      "6099\n"
     ]
    },
    {
     "data": {
      "text/plain": [
       "R           2563\n",
       "PG-13       1656\n",
       "Unrated     1122\n",
       "PG           558\n",
       "TV-G         101\n",
       "G             67\n",
       "Approved      32\n",
       "Name: certificates, dtype: int64"
      ]
     },
     "execution_count": 15,
     "metadata": {},
     "output_type": "execute_result"
    }
   ],
   "source": [
    "print(Movies_['certificates'].value_counts().sum())\n",
    "Movies_['certificates'].value_counts()"
   ]
  },
  {
   "cell_type": "markdown",
   "metadata": {},
   "source": [
    "|Main_Rating|Ratings_Under|Description|\n",
    "|---|---|---|\n",
    "|`R`|`TV-MA`, `TV-Y`, `TV-G`, `M`, `NC-17`|The elements include language, violence, substance abuse, nudity, and sexual content.|\n",
    "|`PG-13`|`TV-14`|Children under 13 may be too young to deal with some of the content|\n",
    "|`PG`|`TV-PG`, `G7`, `G7-FV`, `PG-FV`, `GP`, `TV-Y7`, `12`|There may be some content that parents might not want younger kids to see|\n",
    "|`G`|`TV–G`, `TV-Y`|The film contains nothing that should offend parents or children|\n",
    "|`Approved`|`Passed`||\n",
    "|`Unrated`|`Not Rated`|Scenes have been added to the film that were not seen in the \"rated\" version|"
   ]
  },
  {
   "cell_type": "markdown",
   "metadata": {},
   "source": [
    "### Fixing Original Air_Date"
   ]
  },
  {
   "cell_type": "code",
   "execution_count": 16,
   "metadata": {
    "ExecuteTime": {
     "end_time": "2019-12-02T17:36:58.485508Z",
     "start_time": "2019-12-02T17:36:58.481950Z"
    }
   },
   "outputs": [
    {
     "data": {
      "text/plain": [
       "Index(['year', 'name', 'Movie_ID', 'runtime', 'cast', 'genre', 'country_codes',\n",
       "       'language_codes', 'certificates', 'Budget', 'OWUS', 'CWG', 'rating',\n",
       "       'votes', 'original_air_date', 'title', 'director', 'writer1', 'writer2',\n",
       "       'producer1', 'producer2', 'production_company1', 'production_company2',\n",
       "       'composers', 'editors', 'cinematographers', 'set_decorators',\n",
       "       'assistant_directors', 'visual_effects'],\n",
       "      dtype='object')"
      ]
     },
     "execution_count": 16,
     "metadata": {},
     "output_type": "execute_result"
    }
   ],
   "source": [
    "Movies_.columns"
   ]
  },
  {
   "cell_type": "code",
   "execution_count": 17,
   "metadata": {
    "ExecuteTime": {
     "end_time": "2019-12-02T17:36:58.496289Z",
     "start_time": "2019-12-02T17:36:58.486586Z"
    }
   },
   "outputs": [
    {
     "data": {
      "text/html": [
       "<div>\n",
       "<style scoped>\n",
       "    .dataframe tbody tr th:only-of-type {\n",
       "        vertical-align: middle;\n",
       "    }\n",
       "\n",
       "    .dataframe tbody tr th {\n",
       "        vertical-align: top;\n",
       "    }\n",
       "\n",
       "    .dataframe thead th {\n",
       "        text-align: right;\n",
       "    }\n",
       "</style>\n",
       "<table border=\"1\" class=\"dataframe\">\n",
       "  <thead>\n",
       "    <tr style=\"text-align: right;\">\n",
       "      <th></th>\n",
       "      <th>year</th>\n",
       "      <th>original_air_date</th>\n",
       "    </tr>\n",
       "  </thead>\n",
       "  <tbody>\n",
       "    <tr>\n",
       "      <td>0</td>\n",
       "      <td>2000</td>\n",
       "      <td>14 Nov 2019 (Saudi Arabia)</td>\n",
       "    </tr>\n",
       "    <tr>\n",
       "      <td>1</td>\n",
       "      <td>2000</td>\n",
       "      <td>04 May 2000 (Australia)</td>\n",
       "    </tr>\n",
       "    <tr>\n",
       "      <td>2</td>\n",
       "      <td>2000</td>\n",
       "      <td>08 Nov 2018 (Saudi Arabia)</td>\n",
       "    </tr>\n",
       "    <tr>\n",
       "      <td>3</td>\n",
       "      <td>2000</td>\n",
       "      <td>03 Nov 2000 (Canada)</td>\n",
       "    </tr>\n",
       "    <tr>\n",
       "      <td>4</td>\n",
       "      <td>2000</td>\n",
       "      <td>29 Sep 2000 (USA)</td>\n",
       "    </tr>\n",
       "    <tr>\n",
       "      <td>...</td>\n",
       "      <td>...</td>\n",
       "      <td>...</td>\n",
       "    </tr>\n",
       "    <tr>\n",
       "      <td>9649</td>\n",
       "      <td>2017</td>\n",
       "      <td>26 Aug 2017 (Japan)</td>\n",
       "    </tr>\n",
       "    <tr>\n",
       "      <td>9650</td>\n",
       "      <td>2017</td>\n",
       "      <td>NaN</td>\n",
       "    </tr>\n",
       "    <tr>\n",
       "      <td>9651</td>\n",
       "      <td>2017</td>\n",
       "      <td>21 Feb 2017 (USA)</td>\n",
       "    </tr>\n",
       "    <tr>\n",
       "      <td>9652</td>\n",
       "      <td>2017</td>\n",
       "      <td>2017 (UK)</td>\n",
       "    </tr>\n",
       "    <tr>\n",
       "      <td>9653</td>\n",
       "      <td>2017</td>\n",
       "      <td>31 Mar 2017 (Japan)</td>\n",
       "    </tr>\n",
       "  </tbody>\n",
       "</table>\n",
       "<p>9654 rows × 2 columns</p>\n",
       "</div>"
      ],
      "text/plain": [
       "      year           original_air_date\n",
       "0     2000  14 Nov 2019 (Saudi Arabia)\n",
       "1     2000     04 May 2000 (Australia)\n",
       "2     2000  08 Nov 2018 (Saudi Arabia)\n",
       "3     2000        03 Nov 2000 (Canada)\n",
       "4     2000           29 Sep 2000 (USA)\n",
       "...    ...                         ...\n",
       "9649  2017         26 Aug 2017 (Japan)\n",
       "9650  2017                         NaN\n",
       "9651  2017           21 Feb 2017 (USA)\n",
       "9652  2017                   2017 (UK)\n",
       "9653  2017         31 Mar 2017 (Japan)\n",
       "\n",
       "[9654 rows x 2 columns]"
      ]
     },
     "execution_count": 17,
     "metadata": {},
     "output_type": "execute_result"
    }
   ],
   "source": [
    "Movies_[['year','original_air_date']]"
   ]
  },
  {
   "cell_type": "code",
   "execution_count": 18,
   "metadata": {
    "ExecuteTime": {
     "end_time": "2019-12-02T17:36:58.803787Z",
     "start_time": "2019-12-02T17:36:58.497611Z"
    }
   },
   "outputs": [],
   "source": [
    "#Split the data to isolate the date\n",
    "Movies_['date'] = Movies_['original_air_date'].apply(lambda x : x.split('(')[0] if type(x) != float else x)\n",
    "#Change the date to date format\n",
    "Movies_['date'] = pd.to_datetime(Movies_['date'])\n",
    "#Create a new column with first_air location\n",
    "Movies_['Air_location'] = Movies_['original_air_date'].apply(lambda x : x.split('(')[1].strip(')') if type(x) != float else x)"
   ]
  },
  {
   "cell_type": "code",
   "execution_count": 19,
   "metadata": {
    "ExecuteTime": {
     "end_time": "2019-12-02T17:36:58.840149Z",
     "start_time": "2019-12-02T17:36:58.805635Z"
    }
   },
   "outputs": [],
   "source": [
    "#Isolate the date from time-date\n",
    "Movies_['date'] = Movies_['date'].apply(lambda x : x.date())\n"
   ]
  },
  {
   "cell_type": "code",
   "execution_count": 20,
   "metadata": {
    "ExecuteTime": {
     "end_time": "2019-12-02T17:36:59.160474Z",
     "start_time": "2019-12-02T17:36:58.841820Z"
    }
   },
   "outputs": [],
   "source": [
    "#Check if the Date(Previously Original-Air-Date) matches the wanted date (The obtained date)\n",
    "not_matched = []\n",
    "matched = []\n",
    "\n",
    "for i in range(0,Movies_['name'].shape[0]):\n",
    "    if Movies_['date'][i].year == Movies_['year'][i]:\n",
    "        matched.append(Movies_['name'][i])\n",
    "    else:\n",
    "        not_matched.append(Movies_['name'][i])"
   ]
  },
  {
   "cell_type": "markdown",
   "metadata": {},
   "source": [
    "### <span style=\"color:red\">LOOK AT This Basmah (What should we do?)<span>"
   ]
  },
  {
   "cell_type": "code",
   "execution_count": 21,
   "metadata": {
    "ExecuteTime": {
     "end_time": "2019-12-02T17:36:59.164830Z",
     "start_time": "2019-12-02T17:36:59.161740Z"
    }
   },
   "outputs": [
    {
     "name": "stdout",
     "output_type": "stream",
     "text": [
      "3615  Did not match the desired date\n",
      "6039  matched the desired date\n"
     ]
    }
   ],
   "source": [
    "print(len(not_matched),' Did not match the desired date')\n",
    "print(len(matched),' matched the desired date')"
   ]
  },
  {
   "cell_type": "code",
   "execution_count": 22,
   "metadata": {
    "ExecuteTime": {
     "end_time": "2019-12-02T17:36:59.449323Z",
     "start_time": "2019-12-02T17:36:59.166572Z"
    }
   },
   "outputs": [],
   "source": [
    "#Check if columns match or not (By creating a new column with the value of the test)\n",
    "Movies_['date_Match'] = Movies_['name'].apply(lambda x: 0 if x in not_matched else 1)"
   ]
  },
  {
   "cell_type": "code",
   "execution_count": 23,
   "metadata": {
    "ExecuteTime": {
     "end_time": "2019-12-02T17:36:59.477591Z",
     "start_time": "2019-12-02T17:36:59.452654Z"
    }
   },
   "outputs": [
    {
     "data": {
      "text/html": [
       "<div>\n",
       "<style scoped>\n",
       "    .dataframe tbody tr th:only-of-type {\n",
       "        vertical-align: middle;\n",
       "    }\n",
       "\n",
       "    .dataframe tbody tr th {\n",
       "        vertical-align: top;\n",
       "    }\n",
       "\n",
       "    .dataframe thead th {\n",
       "        text-align: right;\n",
       "    }\n",
       "</style>\n",
       "<table border=\"1\" class=\"dataframe\">\n",
       "  <thead>\n",
       "    <tr style=\"text-align: right;\">\n",
       "      <th></th>\n",
       "      <th>name</th>\n",
       "      <th>title</th>\n",
       "      <th>year</th>\n",
       "      <th>date</th>\n",
       "      <th>Air_location</th>\n",
       "      <th>date_Match</th>\n",
       "    </tr>\n",
       "  </thead>\n",
       "  <tbody>\n",
       "    <tr>\n",
       "      <td>0</td>\n",
       "      <td>Charlie's Angels</td>\n",
       "      <td>Charlie's Angels</td>\n",
       "      <td>2000</td>\n",
       "      <td>2019-11-14</td>\n",
       "      <td>Saudi Arabia</td>\n",
       "      <td>0</td>\n",
       "    </tr>\n",
       "    <tr>\n",
       "      <td>1</td>\n",
       "      <td>Gladiator</td>\n",
       "      <td>Gladiator</td>\n",
       "      <td>2000</td>\n",
       "      <td>2000-05-04</td>\n",
       "      <td>Australia</td>\n",
       "      <td>1</td>\n",
       "    </tr>\n",
       "    <tr>\n",
       "      <td>2</td>\n",
       "      <td>How the Grinch Stole Christmas</td>\n",
       "      <td>Dr. Seuss' The Grinch</td>\n",
       "      <td>2000</td>\n",
       "      <td>2018-11-08</td>\n",
       "      <td>Saudi Arabia</td>\n",
       "      <td>0</td>\n",
       "    </tr>\n",
       "    <tr>\n",
       "      <td>3</td>\n",
       "      <td>Requiem for a Dream</td>\n",
       "      <td>Requiem for a Dream</td>\n",
       "      <td>2000</td>\n",
       "      <td>2000-11-03</td>\n",
       "      <td>Canada</td>\n",
       "      <td>1</td>\n",
       "    </tr>\n",
       "    <tr>\n",
       "      <td>4</td>\n",
       "      <td>Remember the Titans</td>\n",
       "      <td>Remember the Titans</td>\n",
       "      <td>2000</td>\n",
       "      <td>2000-09-29</td>\n",
       "      <td>USA</td>\n",
       "      <td>1</td>\n",
       "    </tr>\n",
       "    <tr>\n",
       "      <td>...</td>\n",
       "      <td>...</td>\n",
       "      <td>...</td>\n",
       "      <td>...</td>\n",
       "      <td>...</td>\n",
       "      <td>...</td>\n",
       "      <td>...</td>\n",
       "    </tr>\n",
       "    <tr>\n",
       "      <td>9649</td>\n",
       "      <td>Binan koukou chikyuu boueibu Love! Love! Love!</td>\n",
       "      <td>Binan koukou chikyuu boueibu Love! Love! Love!</td>\n",
       "      <td>2017</td>\n",
       "      <td>2017-08-26</td>\n",
       "      <td>Japan</td>\n",
       "      <td>1</td>\n",
       "    </tr>\n",
       "    <tr>\n",
       "      <td>9650</td>\n",
       "      <td>Reap</td>\n",
       "      <td>Reap - IMDb</td>\n",
       "      <td>2017</td>\n",
       "      <td>NaT</td>\n",
       "      <td>NaN</td>\n",
       "      <td>0</td>\n",
       "    </tr>\n",
       "    <tr>\n",
       "      <td>9651</td>\n",
       "      <td>Smoking Tar</td>\n",
       "      <td>Smoking Tar</td>\n",
       "      <td>2017</td>\n",
       "      <td>2017-02-21</td>\n",
       "      <td>USA</td>\n",
       "      <td>1</td>\n",
       "    </tr>\n",
       "    <tr>\n",
       "      <td>9652</td>\n",
       "      <td>Zombe</td>\n",
       "      <td>Zombe</td>\n",
       "      <td>2017</td>\n",
       "      <td>2017-01-01</td>\n",
       "      <td>UK</td>\n",
       "      <td>1</td>\n",
       "    </tr>\n",
       "    <tr>\n",
       "      <td>9653</td>\n",
       "      <td>Royal Opera House Live Cinema Season 2016/17: ...</td>\n",
       "      <td>Royal Opera House Live Cinema Season 2016/17: ...</td>\n",
       "      <td>2017</td>\n",
       "      <td>2017-03-31</td>\n",
       "      <td>Japan</td>\n",
       "      <td>1</td>\n",
       "    </tr>\n",
       "  </tbody>\n",
       "</table>\n",
       "<p>9654 rows × 6 columns</p>\n",
       "</div>"
      ],
      "text/plain": [
       "                                                   name  \\\n",
       "0                                      Charlie's Angels   \n",
       "1                                             Gladiator   \n",
       "2                        How the Grinch Stole Christmas   \n",
       "3                                   Requiem for a Dream   \n",
       "4                                   Remember the Titans   \n",
       "...                                                 ...   \n",
       "9649     Binan koukou chikyuu boueibu Love! Love! Love!   \n",
       "9650                                               Reap   \n",
       "9651                                        Smoking Tar   \n",
       "9652                                              Zombe   \n",
       "9653  Royal Opera House Live Cinema Season 2016/17: ...   \n",
       "\n",
       "                                                  title  year        date  \\\n",
       "0                                      Charlie's Angels  2000  2019-11-14   \n",
       "1                                             Gladiator  2000  2000-05-04   \n",
       "2                                 Dr. Seuss' The Grinch  2000  2018-11-08   \n",
       "3                                   Requiem for a Dream  2000  2000-11-03   \n",
       "4                                   Remember the Titans  2000  2000-09-29   \n",
       "...                                                 ...   ...         ...   \n",
       "9649     Binan koukou chikyuu boueibu Love! Love! Love!  2017  2017-08-26   \n",
       "9650                                        Reap - IMDb  2017         NaT   \n",
       "9651                                        Smoking Tar  2017  2017-02-21   \n",
       "9652                                              Zombe  2017  2017-01-01   \n",
       "9653  Royal Opera House Live Cinema Season 2016/17: ...  2017  2017-03-31   \n",
       "\n",
       "      Air_location  date_Match  \n",
       "0     Saudi Arabia           0  \n",
       "1        Australia           1  \n",
       "2     Saudi Arabia           0  \n",
       "3           Canada           1  \n",
       "4              USA           1  \n",
       "...            ...         ...  \n",
       "9649         Japan           1  \n",
       "9650           NaN           0  \n",
       "9651           USA           1  \n",
       "9652            UK           1  \n",
       "9653         Japan           1  \n",
       "\n",
       "[9654 rows x 6 columns]"
      ]
     },
     "execution_count": 23,
     "metadata": {},
     "output_type": "execute_result"
    }
   ],
   "source": [
    "double_check = Movies_[['name','title','year','date','Air_location','date_Match']]\n",
    "double_check"
   ]
  },
  {
   "cell_type": "code",
   "execution_count": 24,
   "metadata": {
    "ExecuteTime": {
     "end_time": "2019-12-02T17:36:59.493092Z",
     "start_time": "2019-12-02T17:36:59.479925Z"
    }
   },
   "outputs": [
    {
     "data": {
      "text/html": [
       "<div>\n",
       "<style scoped>\n",
       "    .dataframe tbody tr th:only-of-type {\n",
       "        vertical-align: middle;\n",
       "    }\n",
       "\n",
       "    .dataframe tbody tr th {\n",
       "        vertical-align: top;\n",
       "    }\n",
       "\n",
       "    .dataframe thead th {\n",
       "        text-align: right;\n",
       "    }\n",
       "</style>\n",
       "<table border=\"1\" class=\"dataframe\">\n",
       "  <thead>\n",
       "    <tr style=\"text-align: right;\">\n",
       "      <th></th>\n",
       "      <th>name</th>\n",
       "      <th>title</th>\n",
       "      <th>year</th>\n",
       "      <th>date</th>\n",
       "      <th>Air_location</th>\n",
       "      <th>date_Match</th>\n",
       "    </tr>\n",
       "  </thead>\n",
       "  <tbody>\n",
       "    <tr>\n",
       "      <td>0</td>\n",
       "      <td>Charlie's Angels</td>\n",
       "      <td>Charlie's Angels</td>\n",
       "      <td>2000</td>\n",
       "      <td>2019-11-14</td>\n",
       "      <td>Saudi Arabia</td>\n",
       "      <td>0</td>\n",
       "    </tr>\n",
       "    <tr>\n",
       "      <td>2</td>\n",
       "      <td>How the Grinch Stole Christmas</td>\n",
       "      <td>Dr. Seuss' The Grinch</td>\n",
       "      <td>2000</td>\n",
       "      <td>2018-11-08</td>\n",
       "      <td>Saudi Arabia</td>\n",
       "      <td>0</td>\n",
       "    </tr>\n",
       "    <tr>\n",
       "      <td>10</td>\n",
       "      <td>X-Men</td>\n",
       "      <td>X-Men: The Animated Series</td>\n",
       "      <td>2000</td>\n",
       "      <td>NaT</td>\n",
       "      <td>NaN</td>\n",
       "      <td>0</td>\n",
       "    </tr>\n",
       "    <tr>\n",
       "      <td>12</td>\n",
       "      <td>Scary Movie</td>\n",
       "      <td>Scream</td>\n",
       "      <td>2000</td>\n",
       "      <td>1996-12-20</td>\n",
       "      <td>USA</td>\n",
       "      <td>0</td>\n",
       "    </tr>\n",
       "    <tr>\n",
       "      <td>22</td>\n",
       "      <td>Chocolat</td>\n",
       "      <td>Chocolat</td>\n",
       "      <td>2000</td>\n",
       "      <td>2001-01-19</td>\n",
       "      <td>USA</td>\n",
       "      <td>0</td>\n",
       "    </tr>\n",
       "    <tr>\n",
       "      <td>...</td>\n",
       "      <td>...</td>\n",
       "      <td>...</td>\n",
       "      <td>...</td>\n",
       "      <td>...</td>\n",
       "      <td>...</td>\n",
       "      <td>...</td>\n",
       "    </tr>\n",
       "    <tr>\n",
       "      <td>9637</td>\n",
       "      <td>Breach of Trust</td>\n",
       "      <td>Crash</td>\n",
       "      <td>2017</td>\n",
       "      <td>NaT</td>\n",
       "      <td>NaN</td>\n",
       "      <td>0</td>\n",
       "    </tr>\n",
       "    <tr>\n",
       "      <td>9638</td>\n",
       "      <td>L'isola: coma profondo</td>\n",
       "      <td>L'isola: coma profondo</td>\n",
       "      <td>2017</td>\n",
       "      <td>NaT</td>\n",
       "      <td>NaN</td>\n",
       "      <td>0</td>\n",
       "    </tr>\n",
       "    <tr>\n",
       "      <td>9640</td>\n",
       "      <td>Four Bottles</td>\n",
       "      <td>Four Bottles</td>\n",
       "      <td>2017</td>\n",
       "      <td>NaT</td>\n",
       "      <td>NaN</td>\n",
       "      <td>0</td>\n",
       "    </tr>\n",
       "    <tr>\n",
       "      <td>9647</td>\n",
       "      <td>Dognapped</td>\n",
       "      <td>Dognapped</td>\n",
       "      <td>2017</td>\n",
       "      <td>2014-05-15</td>\n",
       "      <td>USA</td>\n",
       "      <td>0</td>\n",
       "    </tr>\n",
       "    <tr>\n",
       "      <td>9650</td>\n",
       "      <td>Reap</td>\n",
       "      <td>Reap - IMDb</td>\n",
       "      <td>2017</td>\n",
       "      <td>NaT</td>\n",
       "      <td>NaN</td>\n",
       "      <td>0</td>\n",
       "    </tr>\n",
       "  </tbody>\n",
       "</table>\n",
       "<p>3669 rows × 6 columns</p>\n",
       "</div>"
      ],
      "text/plain": [
       "                                name                       title  year  \\\n",
       "0                   Charlie's Angels            Charlie's Angels  2000   \n",
       "2     How the Grinch Stole Christmas       Dr. Seuss' The Grinch  2000   \n",
       "10                             X-Men  X-Men: The Animated Series  2000   \n",
       "12                       Scary Movie                      Scream  2000   \n",
       "22                          Chocolat                    Chocolat  2000   \n",
       "...                              ...                         ...   ...   \n",
       "9637                 Breach of Trust                       Crash  2017   \n",
       "9638          L'isola: coma profondo      L'isola: coma profondo  2017   \n",
       "9640                    Four Bottles                Four Bottles  2017   \n",
       "9647                       Dognapped                   Dognapped  2017   \n",
       "9650                            Reap                 Reap - IMDb  2017   \n",
       "\n",
       "            date  Air_location  date_Match  \n",
       "0     2019-11-14  Saudi Arabia           0  \n",
       "2     2018-11-08  Saudi Arabia           0  \n",
       "10           NaT           NaN           0  \n",
       "12    1996-12-20           USA           0  \n",
       "22    2001-01-19           USA           0  \n",
       "...          ...           ...         ...  \n",
       "9637         NaT           NaN           0  \n",
       "9638         NaT           NaN           0  \n",
       "9640         NaT           NaN           0  \n",
       "9647  2014-05-15           USA           0  \n",
       "9650         NaT           NaN           0  \n",
       "\n",
       "[3669 rows x 6 columns]"
      ]
     },
     "execution_count": 24,
     "metadata": {},
     "output_type": "execute_result"
    }
   ],
   "source": [
    "double_check[double_check['date_Match']== 0]"
   ]
  },
  {
   "cell_type": "code",
   "execution_count": 25,
   "metadata": {
    "ExecuteTime": {
     "end_time": "2019-12-02T17:36:59.501884Z",
     "start_time": "2019-12-02T17:36:59.494687Z"
    }
   },
   "outputs": [
    {
     "name": "stdout",
     "output_type": "stream",
     "text": [
      "We have 1857 movies that needs to be re-fetched and 1758 movies that needs to be double checked\n"
     ]
    }
   ],
   "source": [
    "print('We have {} movies that needs to be re-fetched and {} movies that needs to be double checked'\\\n",
    "      .format((len(not_matched) - double_check[double_check['date_Match']== 0]['date'].isnull().sum()),\\\n",
    "             double_check[double_check['date_Match']== 0]['date'].isnull().sum()))"
   ]
  },
  {
   "cell_type": "code",
   "execution_count": 26,
   "metadata": {
    "ExecuteTime": {
     "end_time": "2019-12-02T17:36:59.516491Z",
     "start_time": "2019-12-02T17:36:59.503235Z"
    }
   },
   "outputs": [
    {
     "data": {
      "text/html": [
       "<div>\n",
       "<style scoped>\n",
       "    .dataframe tbody tr th:only-of-type {\n",
       "        vertical-align: middle;\n",
       "    }\n",
       "\n",
       "    .dataframe tbody tr th {\n",
       "        vertical-align: top;\n",
       "    }\n",
       "\n",
       "    .dataframe thead th {\n",
       "        text-align: right;\n",
       "    }\n",
       "</style>\n",
       "<table border=\"1\" class=\"dataframe\">\n",
       "  <thead>\n",
       "    <tr style=\"text-align: right;\">\n",
       "      <th></th>\n",
       "      <th>name</th>\n",
       "      <th>title</th>\n",
       "      <th>year</th>\n",
       "      <th>date</th>\n",
       "      <th>Air_location</th>\n",
       "      <th>date_Match</th>\n",
       "    </tr>\n",
       "  </thead>\n",
       "  <tbody>\n",
       "    <tr>\n",
       "      <td>1</td>\n",
       "      <td>Gladiator</td>\n",
       "      <td>Gladiator</td>\n",
       "      <td>2000</td>\n",
       "      <td>2000-05-04</td>\n",
       "      <td>Australia</td>\n",
       "      <td>1</td>\n",
       "    </tr>\n",
       "    <tr>\n",
       "      <td>3</td>\n",
       "      <td>Requiem for a Dream</td>\n",
       "      <td>Requiem for a Dream</td>\n",
       "      <td>2000</td>\n",
       "      <td>2000-11-03</td>\n",
       "      <td>Canada</td>\n",
       "      <td>1</td>\n",
       "    </tr>\n",
       "    <tr>\n",
       "      <td>4</td>\n",
       "      <td>Remember the Titans</td>\n",
       "      <td>Remember the Titans</td>\n",
       "      <td>2000</td>\n",
       "      <td>2000-09-29</td>\n",
       "      <td>USA</td>\n",
       "      <td>1</td>\n",
       "    </tr>\n",
       "    <tr>\n",
       "      <td>5</td>\n",
       "      <td>American Psycho</td>\n",
       "      <td>American Psycho</td>\n",
       "      <td>2000</td>\n",
       "      <td>2000-04-14</td>\n",
       "      <td>USA</td>\n",
       "      <td>1</td>\n",
       "    </tr>\n",
       "    <tr>\n",
       "      <td>6</td>\n",
       "      <td>Snatch</td>\n",
       "      <td>Snatch</td>\n",
       "      <td>2000</td>\n",
       "      <td>2000-09-01</td>\n",
       "      <td>UK</td>\n",
       "      <td>1</td>\n",
       "    </tr>\n",
       "    <tr>\n",
       "      <td>...</td>\n",
       "      <td>...</td>\n",
       "      <td>...</td>\n",
       "      <td>...</td>\n",
       "      <td>...</td>\n",
       "      <td>...</td>\n",
       "      <td>...</td>\n",
       "    </tr>\n",
       "    <tr>\n",
       "      <td>9648</td>\n",
       "      <td>Cheoeumen dageurae</td>\n",
       "      <td>Cheoeumen dageurae</td>\n",
       "      <td>2017</td>\n",
       "      <td>2017-09-14</td>\n",
       "      <td>South Korea</td>\n",
       "      <td>1</td>\n",
       "    </tr>\n",
       "    <tr>\n",
       "      <td>9649</td>\n",
       "      <td>Binan koukou chikyuu boueibu Love! Love! Love!</td>\n",
       "      <td>Binan koukou chikyuu boueibu Love! Love! Love!</td>\n",
       "      <td>2017</td>\n",
       "      <td>2017-08-26</td>\n",
       "      <td>Japan</td>\n",
       "      <td>1</td>\n",
       "    </tr>\n",
       "    <tr>\n",
       "      <td>9651</td>\n",
       "      <td>Smoking Tar</td>\n",
       "      <td>Smoking Tar</td>\n",
       "      <td>2017</td>\n",
       "      <td>2017-02-21</td>\n",
       "      <td>USA</td>\n",
       "      <td>1</td>\n",
       "    </tr>\n",
       "    <tr>\n",
       "      <td>9652</td>\n",
       "      <td>Zombe</td>\n",
       "      <td>Zombe</td>\n",
       "      <td>2017</td>\n",
       "      <td>2017-01-01</td>\n",
       "      <td>UK</td>\n",
       "      <td>1</td>\n",
       "    </tr>\n",
       "    <tr>\n",
       "      <td>9653</td>\n",
       "      <td>Royal Opera House Live Cinema Season 2016/17: ...</td>\n",
       "      <td>Royal Opera House Live Cinema Season 2016/17: ...</td>\n",
       "      <td>2017</td>\n",
       "      <td>2017-03-31</td>\n",
       "      <td>Japan</td>\n",
       "      <td>1</td>\n",
       "    </tr>\n",
       "  </tbody>\n",
       "</table>\n",
       "<p>5985 rows × 6 columns</p>\n",
       "</div>"
      ],
      "text/plain": [
       "                                                   name  \\\n",
       "1                                             Gladiator   \n",
       "3                                   Requiem for a Dream   \n",
       "4                                   Remember the Titans   \n",
       "5                                       American Psycho   \n",
       "6                                                Snatch   \n",
       "...                                                 ...   \n",
       "9648                                 Cheoeumen dageurae   \n",
       "9649     Binan koukou chikyuu boueibu Love! Love! Love!   \n",
       "9651                                        Smoking Tar   \n",
       "9652                                              Zombe   \n",
       "9653  Royal Opera House Live Cinema Season 2016/17: ...   \n",
       "\n",
       "                                                  title  year        date  \\\n",
       "1                                             Gladiator  2000  2000-05-04   \n",
       "3                                   Requiem for a Dream  2000  2000-11-03   \n",
       "4                                   Remember the Titans  2000  2000-09-29   \n",
       "5                                       American Psycho  2000  2000-04-14   \n",
       "6                                                Snatch  2000  2000-09-01   \n",
       "...                                                 ...   ...         ...   \n",
       "9648                                 Cheoeumen dageurae  2017  2017-09-14   \n",
       "9649     Binan koukou chikyuu boueibu Love! Love! Love!  2017  2017-08-26   \n",
       "9651                                        Smoking Tar  2017  2017-02-21   \n",
       "9652                                              Zombe  2017  2017-01-01   \n",
       "9653  Royal Opera House Live Cinema Season 2016/17: ...  2017  2017-03-31   \n",
       "\n",
       "     Air_location  date_Match  \n",
       "1       Australia           1  \n",
       "3          Canada           1  \n",
       "4             USA           1  \n",
       "5             USA           1  \n",
       "6              UK           1  \n",
       "...           ...         ...  \n",
       "9648  South Korea           1  \n",
       "9649        Japan           1  \n",
       "9651          USA           1  \n",
       "9652           UK           1  \n",
       "9653        Japan           1  \n",
       "\n",
       "[5985 rows x 6 columns]"
      ]
     },
     "execution_count": 26,
     "metadata": {},
     "output_type": "execute_result"
    }
   ],
   "source": [
    "double_check[double_check['date_Match']== 1]"
   ]
  },
  {
   "cell_type": "markdown",
   "metadata": {},
   "source": [
    "### Language columns"
   ]
  },
  {
   "cell_type": "code",
   "execution_count": 27,
   "metadata": {
    "ExecuteTime": {
     "end_time": "2019-12-02T17:36:59.521940Z",
     "start_time": "2019-12-02T17:36:59.517999Z"
    }
   },
   "outputs": [
    {
     "data": {
      "text/plain": [
       "Index(['year', 'name', 'Movie_ID', 'runtime', 'cast', 'genre', 'country_codes',\n",
       "       'language_codes', 'certificates', 'Budget', 'OWUS', 'CWG', 'rating',\n",
       "       'votes', 'original_air_date', 'title', 'director', 'writer1', 'writer2',\n",
       "       'producer1', 'producer2', 'production_company1', 'production_company2',\n",
       "       'composers', 'editors', 'cinematographers', 'set_decorators',\n",
       "       'assistant_directors', 'visual_effects', 'date', 'Air_location',\n",
       "       'date_Match'],\n",
       "      dtype='object')"
      ]
     },
     "execution_count": 27,
     "metadata": {},
     "output_type": "execute_result"
    }
   ],
   "source": [
    "Movies_.columns"
   ]
  },
  {
   "cell_type": "code",
   "execution_count": 28,
   "metadata": {
    "ExecuteTime": {
     "end_time": "2019-12-02T17:36:59.535254Z",
     "start_time": "2019-12-02T17:36:59.523288Z"
    }
   },
   "outputs": [],
   "source": [
    "#Creating a bool column to check if english is in languages\n",
    "Movies_['english'] =  Movies_[Movies_['language_codes'].notnull()]['language_codes'].apply(lambda col: 1 if 'en' in col else 0)"
   ]
  },
  {
   "cell_type": "code",
   "execution_count": 29,
   "metadata": {
    "ExecuteTime": {
     "end_time": "2019-12-02T17:36:59.544156Z",
     "start_time": "2019-12-02T17:36:59.536542Z"
    }
   },
   "outputs": [
    {
     "data": {
      "text/html": [
       "<div>\n",
       "<style scoped>\n",
       "    .dataframe tbody tr th:only-of-type {\n",
       "        vertical-align: middle;\n",
       "    }\n",
       "\n",
       "    .dataframe tbody tr th {\n",
       "        vertical-align: top;\n",
       "    }\n",
       "\n",
       "    .dataframe thead th {\n",
       "        text-align: right;\n",
       "    }\n",
       "</style>\n",
       "<table border=\"1\" class=\"dataframe\">\n",
       "  <thead>\n",
       "    <tr style=\"text-align: right;\">\n",
       "      <th></th>\n",
       "      <th>language_codes</th>\n",
       "      <th>english</th>\n",
       "    </tr>\n",
       "  </thead>\n",
       "  <tbody>\n",
       "    <tr>\n",
       "      <td>9649</td>\n",
       "      <td>['ja']</td>\n",
       "      <td>0.0</td>\n",
       "    </tr>\n",
       "    <tr>\n",
       "      <td>9650</td>\n",
       "      <td>['en']</td>\n",
       "      <td>1.0</td>\n",
       "    </tr>\n",
       "    <tr>\n",
       "      <td>9651</td>\n",
       "      <td>['en']</td>\n",
       "      <td>1.0</td>\n",
       "    </tr>\n",
       "    <tr>\n",
       "      <td>9652</td>\n",
       "      <td>['en']</td>\n",
       "      <td>1.0</td>\n",
       "    </tr>\n",
       "    <tr>\n",
       "      <td>9653</td>\n",
       "      <td>NaN</td>\n",
       "      <td>NaN</td>\n",
       "    </tr>\n",
       "  </tbody>\n",
       "</table>\n",
       "</div>"
      ],
      "text/plain": [
       "     language_codes  english\n",
       "9649         ['ja']      0.0\n",
       "9650         ['en']      1.0\n",
       "9651         ['en']      1.0\n",
       "9652         ['en']      1.0\n",
       "9653            NaN      NaN"
      ]
     },
     "execution_count": 29,
     "metadata": {},
     "output_type": "execute_result"
    }
   ],
   "source": [
    "Movies_[['language_codes','english']].tail()"
   ]
  },
  {
   "cell_type": "code",
   "execution_count": 30,
   "metadata": {
    "ExecuteTime": {
     "end_time": "2019-12-02T17:36:59.557629Z",
     "start_time": "2019-12-02T17:36:59.545568Z"
    }
   },
   "outputs": [],
   "source": [
    "Movies_['multi_lang'] =  Movies_[Movies_['language_codes'].notnull()]['language_codes'].apply(lambda col: len(col.split(',')))"
   ]
  },
  {
   "cell_type": "code",
   "execution_count": 31,
   "metadata": {
    "ExecuteTime": {
     "end_time": "2019-12-02T17:36:59.567680Z",
     "start_time": "2019-12-02T17:36:59.559029Z"
    }
   },
   "outputs": [
    {
     "data": {
      "text/html": [
       "<div>\n",
       "<style scoped>\n",
       "    .dataframe tbody tr th:only-of-type {\n",
       "        vertical-align: middle;\n",
       "    }\n",
       "\n",
       "    .dataframe tbody tr th {\n",
       "        vertical-align: top;\n",
       "    }\n",
       "\n",
       "    .dataframe thead th {\n",
       "        text-align: right;\n",
       "    }\n",
       "</style>\n",
       "<table border=\"1\" class=\"dataframe\">\n",
       "  <thead>\n",
       "    <tr style=\"text-align: right;\">\n",
       "      <th></th>\n",
       "      <th>language_codes</th>\n",
       "      <th>multi_lang</th>\n",
       "    </tr>\n",
       "  </thead>\n",
       "  <tbody>\n",
       "    <tr>\n",
       "      <td>0</td>\n",
       "      <td>['en']</td>\n",
       "      <td>1.0</td>\n",
       "    </tr>\n",
       "    <tr>\n",
       "      <td>1</td>\n",
       "      <td>['en']</td>\n",
       "      <td>1.0</td>\n",
       "    </tr>\n",
       "    <tr>\n",
       "      <td>2</td>\n",
       "      <td>['en']</td>\n",
       "      <td>1.0</td>\n",
       "    </tr>\n",
       "    <tr>\n",
       "      <td>3</td>\n",
       "      <td>['en']</td>\n",
       "      <td>1.0</td>\n",
       "    </tr>\n",
       "    <tr>\n",
       "      <td>4</td>\n",
       "      <td>['en']</td>\n",
       "      <td>1.0</td>\n",
       "    </tr>\n",
       "    <tr>\n",
       "      <td>5</td>\n",
       "      <td>['en', 'es', 'yue']</td>\n",
       "      <td>3.0</td>\n",
       "    </tr>\n",
       "    <tr>\n",
       "      <td>6</td>\n",
       "      <td>['en', 'ru']</td>\n",
       "      <td>2.0</td>\n",
       "    </tr>\n",
       "    <tr>\n",
       "      <td>7</td>\n",
       "      <td>['en', 'ase']</td>\n",
       "      <td>2.0</td>\n",
       "    </tr>\n",
       "    <tr>\n",
       "      <td>8</td>\n",
       "      <td>['en']</td>\n",
       "      <td>1.0</td>\n",
       "    </tr>\n",
       "    <tr>\n",
       "      <td>9</td>\n",
       "      <td>['en']</td>\n",
       "      <td>1.0</td>\n",
       "    </tr>\n",
       "  </tbody>\n",
       "</table>\n",
       "</div>"
      ],
      "text/plain": [
       "        language_codes  multi_lang\n",
       "0               ['en']         1.0\n",
       "1               ['en']         1.0\n",
       "2               ['en']         1.0\n",
       "3               ['en']         1.0\n",
       "4               ['en']         1.0\n",
       "5  ['en', 'es', 'yue']         3.0\n",
       "6         ['en', 'ru']         2.0\n",
       "7        ['en', 'ase']         2.0\n",
       "8               ['en']         1.0\n",
       "9               ['en']         1.0"
      ]
     },
     "execution_count": 31,
     "metadata": {},
     "output_type": "execute_result"
    }
   ],
   "source": [
    "Movies_[['language_codes','multi_lang']].head(10)"
   ]
  },
  {
   "cell_type": "markdown",
   "metadata": {},
   "source": [
    "### Country columns"
   ]
  },
  {
   "cell_type": "code",
   "execution_count": 32,
   "metadata": {
    "ExecuteTime": {
     "end_time": "2019-12-02T17:36:59.580184Z",
     "start_time": "2019-12-02T17:36:59.569039Z"
    }
   },
   "outputs": [],
   "source": [
    "#Creating a bool column to check if US is in countries\n",
    "Movies_['US'] =  Movies_[Movies_['country_codes'].notnull()]['country_codes'].apply(lambda col: 1 if 'us' in col else 0)"
   ]
  },
  {
   "cell_type": "code",
   "execution_count": 33,
   "metadata": {
    "ExecuteTime": {
     "end_time": "2019-12-02T17:36:59.589997Z",
     "start_time": "2019-12-02T17:36:59.581523Z"
    }
   },
   "outputs": [
    {
     "data": {
      "text/html": [
       "<div>\n",
       "<style scoped>\n",
       "    .dataframe tbody tr th:only-of-type {\n",
       "        vertical-align: middle;\n",
       "    }\n",
       "\n",
       "    .dataframe tbody tr th {\n",
       "        vertical-align: top;\n",
       "    }\n",
       "\n",
       "    .dataframe thead th {\n",
       "        text-align: right;\n",
       "    }\n",
       "</style>\n",
       "<table border=\"1\" class=\"dataframe\">\n",
       "  <thead>\n",
       "    <tr style=\"text-align: right;\">\n",
       "      <th></th>\n",
       "      <th>country_codes</th>\n",
       "      <th>US</th>\n",
       "    </tr>\n",
       "  </thead>\n",
       "  <tbody>\n",
       "    <tr>\n",
       "      <td>0</td>\n",
       "      <td>['us']</td>\n",
       "      <td>1.0</td>\n",
       "    </tr>\n",
       "    <tr>\n",
       "      <td>1</td>\n",
       "      <td>['us', 'gb', 'mt', 'ma']</td>\n",
       "      <td>1.0</td>\n",
       "    </tr>\n",
       "    <tr>\n",
       "      <td>2</td>\n",
       "      <td>['fr', 'jp', 'us']</td>\n",
       "      <td>1.0</td>\n",
       "    </tr>\n",
       "    <tr>\n",
       "      <td>3</td>\n",
       "      <td>['us']</td>\n",
       "      <td>1.0</td>\n",
       "    </tr>\n",
       "    <tr>\n",
       "      <td>4</td>\n",
       "      <td>['us']</td>\n",
       "      <td>1.0</td>\n",
       "    </tr>\n",
       "  </tbody>\n",
       "</table>\n",
       "</div>"
      ],
      "text/plain": [
       "              country_codes   US\n",
       "0                    ['us']  1.0\n",
       "1  ['us', 'gb', 'mt', 'ma']  1.0\n",
       "2        ['fr', 'jp', 'us']  1.0\n",
       "3                    ['us']  1.0\n",
       "4                    ['us']  1.0"
      ]
     },
     "execution_count": 33,
     "metadata": {},
     "output_type": "execute_result"
    }
   ],
   "source": [
    "Movies_[['country_codes','US']].head(5)"
   ]
  },
  {
   "cell_type": "code",
   "execution_count": 34,
   "metadata": {
    "ExecuteTime": {
     "end_time": "2019-12-02T17:36:59.602734Z",
     "start_time": "2019-12-02T17:36:59.591444Z"
    }
   },
   "outputs": [],
   "source": [
    "Movies_['Other_countries'] =  Movies_[Movies_['country_codes'].notnull()]['country_codes'].apply(lambda col: 1 if 'us' in col else 0)"
   ]
  },
  {
   "cell_type": "markdown",
   "metadata": {},
   "source": [
    "### Split OWUS column to month and OWUS"
   ]
  },
  {
   "cell_type": "code",
   "execution_count": 35,
   "metadata": {
    "ExecuteTime": {
     "end_time": "2019-12-02T17:36:59.608034Z",
     "start_time": "2019-12-02T17:36:59.604149Z"
    }
   },
   "outputs": [
    {
     "data": {
      "text/plain": [
       "Index(['year', 'name', 'Movie_ID', 'runtime', 'cast', 'genre', 'country_codes',\n",
       "       'language_codes', 'certificates', 'Budget', 'OWUS', 'CWG', 'rating',\n",
       "       'votes', 'original_air_date', 'title', 'director', 'writer1', 'writer2',\n",
       "       'producer1', 'producer2', 'production_company1', 'production_company2',\n",
       "       'composers', 'editors', 'cinematographers', 'set_decorators',\n",
       "       'assistant_directors', 'visual_effects', 'date', 'Air_location',\n",
       "       'date_Match', 'english', 'multi_lang', 'US', 'Other_countries'],\n",
       "      dtype='object')"
      ]
     },
     "execution_count": 35,
     "metadata": {},
     "output_type": "execute_result"
    }
   ],
   "source": [
    "Movies_.columns"
   ]
  },
  {
   "cell_type": "code",
   "execution_count": 36,
   "metadata": {
    "ExecuteTime": {
     "end_time": "2019-12-02T17:36:59.615179Z",
     "start_time": "2019-12-02T17:36:59.609418Z"
    }
   },
   "outputs": [
    {
     "name": "stdout",
     "output_type": "stream",
     "text": [
      "6889\n"
     ]
    },
    {
     "data": {
      "text/plain": [
       "0                         NaN\n",
       "1    $34,819,017, 07 May 2000\n",
       "2                         NaN\n",
       "3        $64,770, 08 Oct 2000\n",
       "4    $20,905,831, 01 Oct 2000\n",
       "Name: OWUS, dtype: object"
      ]
     },
     "execution_count": 36,
     "metadata": {},
     "output_type": "execute_result"
    }
   ],
   "source": [
    "print(Movies_['OWUS'].isnull().sum())\n",
    "Movies_['OWUS'].head(5)"
   ]
  },
  {
   "cell_type": "code",
   "execution_count": 37,
   "metadata": {
    "ExecuteTime": {
     "end_time": "2019-12-02T17:36:59.628496Z",
     "start_time": "2019-12-02T17:36:59.616809Z"
    }
   },
   "outputs": [],
   "source": [
    "#Remove dollar sign and split the date from OWUS:\n",
    "Movies_['OWUS'] = Movies_[Movies_['OWUS'].notnull()]['OWUS'].apply(lambda col : col.replace(',','').replace('$','').replace(col.split(',')[-1],''))"
   ]
  },
  {
   "cell_type": "code",
   "execution_count": 38,
   "metadata": {
    "ExecuteTime": {
     "end_time": "2019-12-02T17:36:59.631705Z",
     "start_time": "2019-12-02T17:36:59.629735Z"
    }
   },
   "outputs": [],
   "source": [
    "#This code has an error we don't need to use it since we have the date as date format\n",
    "#Movies_['owus_month'] =  Movies_[Movies_['OWUS'].notnull()]['OWUS'].apply(lambda col : col.split(',')[-1].split(' ')[2] )"
   ]
  },
  {
   "cell_type": "code",
   "execution_count": 39,
   "metadata": {
    "ExecuteTime": {
     "end_time": "2019-12-02T17:36:59.637700Z",
     "start_time": "2019-12-02T17:36:59.633314Z"
    }
   },
   "outputs": [
    {
     "data": {
      "text/plain": [
       "0         NaN\n",
       "1    34819017\n",
       "2         NaN\n",
       "3       64770\n",
       "4    20905831\n",
       "Name: OWUS, dtype: object"
      ]
     },
     "execution_count": 39,
     "metadata": {},
     "output_type": "execute_result"
    }
   ],
   "source": [
    "Movies_['OWUS'].head(5)"
   ]
  },
  {
   "cell_type": "markdown",
   "metadata": {},
   "source": [
    "### Add Oscar/nominated column "
   ]
  },
  {
   "cell_type": "code",
   "execution_count": 40,
   "metadata": {
    "ExecuteTime": {
     "end_time": "2019-12-02T17:36:59.657372Z",
     "start_time": "2019-12-02T17:36:59.638978Z"
    }
   },
   "outputs": [],
   "source": [
    "#OscarList =  pd.read_csv('../RelatedWork/TheOscarAward/the_oscar_award.csv')\n",
    "OscarList =  pd.read_csv('/Users/bader/Dropbox/DSI_GA_Capstone/RelatedWork/TheOscarAward/the_oscar_award.csv')"
   ]
  },
  {
   "cell_type": "code",
   "execution_count": 41,
   "metadata": {
    "ExecuteTime": {
     "end_time": "2019-12-02T17:36:59.666747Z",
     "start_time": "2019-12-02T17:36:59.658656Z"
    }
   },
   "outputs": [
    {
     "data": {
      "text/html": [
       "<div>\n",
       "<style scoped>\n",
       "    .dataframe tbody tr th:only-of-type {\n",
       "        vertical-align: middle;\n",
       "    }\n",
       "\n",
       "    .dataframe tbody tr th {\n",
       "        vertical-align: top;\n",
       "    }\n",
       "\n",
       "    .dataframe thead th {\n",
       "        text-align: right;\n",
       "    }\n",
       "</style>\n",
       "<table border=\"1\" class=\"dataframe\">\n",
       "  <thead>\n",
       "    <tr style=\"text-align: right;\">\n",
       "      <th></th>\n",
       "      <th>year_film</th>\n",
       "      <th>year_ceremony</th>\n",
       "      <th>ceremony</th>\n",
       "      <th>category</th>\n",
       "      <th>name</th>\n",
       "      <th>film</th>\n",
       "      <th>win</th>\n",
       "    </tr>\n",
       "  </thead>\n",
       "  <tbody>\n",
       "    <tr>\n",
       "      <td>0</td>\n",
       "      <td>1927</td>\n",
       "      <td>1928</td>\n",
       "      <td>1</td>\n",
       "      <td>ACTOR</td>\n",
       "      <td>Richard Barthelmess</td>\n",
       "      <td>The Noose</td>\n",
       "      <td>False</td>\n",
       "    </tr>\n",
       "    <tr>\n",
       "      <td>1</td>\n",
       "      <td>1927</td>\n",
       "      <td>1928</td>\n",
       "      <td>1</td>\n",
       "      <td>ACTOR</td>\n",
       "      <td>Emil Jannings</td>\n",
       "      <td>The Last Command</td>\n",
       "      <td>True</td>\n",
       "    </tr>\n",
       "    <tr>\n",
       "      <td>2</td>\n",
       "      <td>1927</td>\n",
       "      <td>1928</td>\n",
       "      <td>1</td>\n",
       "      <td>ACTRESS</td>\n",
       "      <td>Louise Dresser</td>\n",
       "      <td>A Ship Comes In</td>\n",
       "      <td>False</td>\n",
       "    </tr>\n",
       "    <tr>\n",
       "      <td>3</td>\n",
       "      <td>1927</td>\n",
       "      <td>1928</td>\n",
       "      <td>1</td>\n",
       "      <td>ACTRESS</td>\n",
       "      <td>Janet Gaynor</td>\n",
       "      <td>7th Heaven</td>\n",
       "      <td>True</td>\n",
       "    </tr>\n",
       "    <tr>\n",
       "      <td>4</td>\n",
       "      <td>1927</td>\n",
       "      <td>1928</td>\n",
       "      <td>1</td>\n",
       "      <td>ACTRESS</td>\n",
       "      <td>Gloria Swanson</td>\n",
       "      <td>Sadie Thompson</td>\n",
       "      <td>False</td>\n",
       "    </tr>\n",
       "  </tbody>\n",
       "</table>\n",
       "</div>"
      ],
      "text/plain": [
       "   year_film  year_ceremony  ceremony category                 name  \\\n",
       "0       1927           1928         1    ACTOR  Richard Barthelmess   \n",
       "1       1927           1928         1    ACTOR        Emil Jannings   \n",
       "2       1927           1928         1  ACTRESS       Louise Dresser   \n",
       "3       1927           1928         1  ACTRESS         Janet Gaynor   \n",
       "4       1927           1928         1  ACTRESS       Gloria Swanson   \n",
       "\n",
       "               film    win  \n",
       "0         The Noose  False  \n",
       "1  The Last Command   True  \n",
       "2   A Ship Comes In  False  \n",
       "3        7th Heaven   True  \n",
       "4    Sadie Thompson  False  "
      ]
     },
     "execution_count": 41,
     "metadata": {},
     "output_type": "execute_result"
    }
   ],
   "source": [
    "OscarList.head()"
   ]
  },
  {
   "cell_type": "code",
   "execution_count": 42,
   "metadata": {
    "ExecuteTime": {
     "end_time": "2019-12-02T17:36:59.681380Z",
     "start_time": "2019-12-02T17:36:59.668387Z"
    }
   },
   "outputs": [
    {
     "data": {
      "text/html": [
       "<div>\n",
       "<style scoped>\n",
       "    .dataframe tbody tr th:only-of-type {\n",
       "        vertical-align: middle;\n",
       "    }\n",
       "\n",
       "    .dataframe tbody tr th {\n",
       "        vertical-align: top;\n",
       "    }\n",
       "\n",
       "    .dataframe thead th {\n",
       "        text-align: right;\n",
       "    }\n",
       "</style>\n",
       "<table border=\"1\" class=\"dataframe\">\n",
       "  <thead>\n",
       "    <tr style=\"text-align: right;\">\n",
       "      <th></th>\n",
       "      <th>year_film</th>\n",
       "      <th>year_ceremony</th>\n",
       "      <th>ceremony</th>\n",
       "      <th>category</th>\n",
       "      <th>name</th>\n",
       "      <th>film</th>\n",
       "      <th>win</th>\n",
       "    </tr>\n",
       "  </thead>\n",
       "  <tbody>\n",
       "    <tr>\n",
       "      <td>7636</td>\n",
       "      <td>2000</td>\n",
       "      <td>2001</td>\n",
       "      <td>73</td>\n",
       "      <td>ACTOR IN A LEADING ROLE</td>\n",
       "      <td>Javier Bardem</td>\n",
       "      <td>Before Night Falls</td>\n",
       "      <td>False</td>\n",
       "    </tr>\n",
       "    <tr>\n",
       "      <td>7637</td>\n",
       "      <td>2000</td>\n",
       "      <td>2001</td>\n",
       "      <td>73</td>\n",
       "      <td>ACTOR IN A LEADING ROLE</td>\n",
       "      <td>Russell Crowe</td>\n",
       "      <td>Gladiator</td>\n",
       "      <td>True</td>\n",
       "    </tr>\n",
       "    <tr>\n",
       "      <td>7638</td>\n",
       "      <td>2000</td>\n",
       "      <td>2001</td>\n",
       "      <td>73</td>\n",
       "      <td>ACTOR IN A LEADING ROLE</td>\n",
       "      <td>Tom Hanks</td>\n",
       "      <td>Cast Away</td>\n",
       "      <td>False</td>\n",
       "    </tr>\n",
       "    <tr>\n",
       "      <td>7639</td>\n",
       "      <td>2000</td>\n",
       "      <td>2001</td>\n",
       "      <td>73</td>\n",
       "      <td>ACTOR IN A LEADING ROLE</td>\n",
       "      <td>Ed Harris</td>\n",
       "      <td>Pollock</td>\n",
       "      <td>False</td>\n",
       "    </tr>\n",
       "    <tr>\n",
       "      <td>7640</td>\n",
       "      <td>2000</td>\n",
       "      <td>2001</td>\n",
       "      <td>73</td>\n",
       "      <td>ACTOR IN A LEADING ROLE</td>\n",
       "      <td>Geoffrey Rush</td>\n",
       "      <td>Quills</td>\n",
       "      <td>False</td>\n",
       "    </tr>\n",
       "    <tr>\n",
       "      <td>...</td>\n",
       "      <td>...</td>\n",
       "      <td>...</td>\n",
       "      <td>...</td>\n",
       "      <td>...</td>\n",
       "      <td>...</td>\n",
       "      <td>...</td>\n",
       "      <td>...</td>\n",
       "    </tr>\n",
       "    <tr>\n",
       "      <td>9837</td>\n",
       "      <td>2018</td>\n",
       "      <td>2019</td>\n",
       "      <td>91</td>\n",
       "      <td>WRITING (Original Screenplay)</td>\n",
       "      <td>Written by Deborah Davis and Tony McNamara</td>\n",
       "      <td>The Favourite</td>\n",
       "      <td>False</td>\n",
       "    </tr>\n",
       "    <tr>\n",
       "      <td>9838</td>\n",
       "      <td>2018</td>\n",
       "      <td>2019</td>\n",
       "      <td>91</td>\n",
       "      <td>WRITING (Original Screenplay)</td>\n",
       "      <td>Written by Paul Schrader</td>\n",
       "      <td>First Reformed</td>\n",
       "      <td>False</td>\n",
       "    </tr>\n",
       "    <tr>\n",
       "      <td>9839</td>\n",
       "      <td>2018</td>\n",
       "      <td>2019</td>\n",
       "      <td>91</td>\n",
       "      <td>WRITING (Original Screenplay)</td>\n",
       "      <td>Written by Nick Vallelonga, Brian Currie, Pete...</td>\n",
       "      <td>Green Book</td>\n",
       "      <td>True</td>\n",
       "    </tr>\n",
       "    <tr>\n",
       "      <td>9840</td>\n",
       "      <td>2018</td>\n",
       "      <td>2019</td>\n",
       "      <td>91</td>\n",
       "      <td>WRITING (Original Screenplay)</td>\n",
       "      <td>Written by Alfonso CuarÃ³n</td>\n",
       "      <td>Roma</td>\n",
       "      <td>False</td>\n",
       "    </tr>\n",
       "    <tr>\n",
       "      <td>9841</td>\n",
       "      <td>2018</td>\n",
       "      <td>2019</td>\n",
       "      <td>91</td>\n",
       "      <td>WRITING (Original Screenplay)</td>\n",
       "      <td>Written by Adam McKay</td>\n",
       "      <td>Vice</td>\n",
       "      <td>False</td>\n",
       "    </tr>\n",
       "  </tbody>\n",
       "</table>\n",
       "<p>2206 rows × 7 columns</p>\n",
       "</div>"
      ],
      "text/plain": [
       "      year_film  year_ceremony  ceremony                       category  \\\n",
       "7636       2000           2001        73        ACTOR IN A LEADING ROLE   \n",
       "7637       2000           2001        73        ACTOR IN A LEADING ROLE   \n",
       "7638       2000           2001        73        ACTOR IN A LEADING ROLE   \n",
       "7639       2000           2001        73        ACTOR IN A LEADING ROLE   \n",
       "7640       2000           2001        73        ACTOR IN A LEADING ROLE   \n",
       "...         ...            ...       ...                            ...   \n",
       "9837       2018           2019        91  WRITING (Original Screenplay)   \n",
       "9838       2018           2019        91  WRITING (Original Screenplay)   \n",
       "9839       2018           2019        91  WRITING (Original Screenplay)   \n",
       "9840       2018           2019        91  WRITING (Original Screenplay)   \n",
       "9841       2018           2019        91  WRITING (Original Screenplay)   \n",
       "\n",
       "                                                   name                film  \\\n",
       "7636                                      Javier Bardem  Before Night Falls   \n",
       "7637                                      Russell Crowe           Gladiator   \n",
       "7638                                          Tom Hanks           Cast Away   \n",
       "7639                                          Ed Harris             Pollock   \n",
       "7640                                      Geoffrey Rush              Quills   \n",
       "...                                                 ...                 ...   \n",
       "9837         Written by Deborah Davis and Tony McNamara       The Favourite   \n",
       "9838                           Written by Paul Schrader      First Reformed   \n",
       "9839  Written by Nick Vallelonga, Brian Currie, Pete...          Green Book   \n",
       "9840                         Written by Alfonso CuarÃ³n                Roma   \n",
       "9841                              Written by Adam McKay                Vice   \n",
       "\n",
       "        win  \n",
       "7636  False  \n",
       "7637   True  \n",
       "7638  False  \n",
       "7639  False  \n",
       "7640  False  \n",
       "...     ...  \n",
       "9837  False  \n",
       "9838  False  \n",
       "9839   True  \n",
       "9840  False  \n",
       "9841  False  \n",
       "\n",
       "[2206 rows x 7 columns]"
      ]
     },
     "execution_count": 42,
     "metadata": {},
     "output_type": "execute_result"
    }
   ],
   "source": [
    "OscarList[OscarList['year_film'] > 1999]"
   ]
  },
  {
   "cell_type": "code",
   "execution_count": 43,
   "metadata": {
    "ExecuteTime": {
     "end_time": "2019-12-02T17:36:59.693750Z",
     "start_time": "2019-12-02T17:36:59.682789Z"
    }
   },
   "outputs": [
    {
     "data": {
      "text/html": [
       "<div>\n",
       "<style scoped>\n",
       "    .dataframe tbody tr th:only-of-type {\n",
       "        vertical-align: middle;\n",
       "    }\n",
       "\n",
       "    .dataframe tbody tr th {\n",
       "        vertical-align: top;\n",
       "    }\n",
       "\n",
       "    .dataframe thead th {\n",
       "        text-align: right;\n",
       "    }\n",
       "</style>\n",
       "<table border=\"1\" class=\"dataframe\">\n",
       "  <thead>\n",
       "    <tr style=\"text-align: right;\">\n",
       "      <th></th>\n",
       "      <th>year_film</th>\n",
       "      <th>year_ceremony</th>\n",
       "      <th>ceremony</th>\n",
       "      <th>category</th>\n",
       "      <th>name</th>\n",
       "      <th>film</th>\n",
       "      <th>win</th>\n",
       "    </tr>\n",
       "  </thead>\n",
       "  <tbody>\n",
       "    <tr>\n",
       "      <td>7636</td>\n",
       "      <td>2000</td>\n",
       "      <td>2001</td>\n",
       "      <td>73</td>\n",
       "      <td>ACTOR IN A LEADING ROLE</td>\n",
       "      <td>Javier Bardem</td>\n",
       "      <td>Before Night Falls</td>\n",
       "      <td>False</td>\n",
       "    </tr>\n",
       "    <tr>\n",
       "      <td>7637</td>\n",
       "      <td>2000</td>\n",
       "      <td>2001</td>\n",
       "      <td>73</td>\n",
       "      <td>ACTOR IN A LEADING ROLE</td>\n",
       "      <td>Russell Crowe</td>\n",
       "      <td>Gladiator</td>\n",
       "      <td>True</td>\n",
       "    </tr>\n",
       "    <tr>\n",
       "      <td>7638</td>\n",
       "      <td>2000</td>\n",
       "      <td>2001</td>\n",
       "      <td>73</td>\n",
       "      <td>ACTOR IN A LEADING ROLE</td>\n",
       "      <td>Tom Hanks</td>\n",
       "      <td>Cast Away</td>\n",
       "      <td>False</td>\n",
       "    </tr>\n",
       "    <tr>\n",
       "      <td>7639</td>\n",
       "      <td>2000</td>\n",
       "      <td>2001</td>\n",
       "      <td>73</td>\n",
       "      <td>ACTOR IN A LEADING ROLE</td>\n",
       "      <td>Ed Harris</td>\n",
       "      <td>Pollock</td>\n",
       "      <td>False</td>\n",
       "    </tr>\n",
       "    <tr>\n",
       "      <td>7640</td>\n",
       "      <td>2000</td>\n",
       "      <td>2001</td>\n",
       "      <td>73</td>\n",
       "      <td>ACTOR IN A LEADING ROLE</td>\n",
       "      <td>Geoffrey Rush</td>\n",
       "      <td>Quills</td>\n",
       "      <td>False</td>\n",
       "    </tr>\n",
       "    <tr>\n",
       "      <td>...</td>\n",
       "      <td>...</td>\n",
       "      <td>...</td>\n",
       "      <td>...</td>\n",
       "      <td>...</td>\n",
       "      <td>...</td>\n",
       "      <td>...</td>\n",
       "      <td>...</td>\n",
       "    </tr>\n",
       "    <tr>\n",
       "      <td>9837</td>\n",
       "      <td>2018</td>\n",
       "      <td>2019</td>\n",
       "      <td>91</td>\n",
       "      <td>WRITING (Original Screenplay)</td>\n",
       "      <td>Written by Deborah Davis and Tony McNamara</td>\n",
       "      <td>The Favourite</td>\n",
       "      <td>False</td>\n",
       "    </tr>\n",
       "    <tr>\n",
       "      <td>9838</td>\n",
       "      <td>2018</td>\n",
       "      <td>2019</td>\n",
       "      <td>91</td>\n",
       "      <td>WRITING (Original Screenplay)</td>\n",
       "      <td>Written by Paul Schrader</td>\n",
       "      <td>First Reformed</td>\n",
       "      <td>False</td>\n",
       "    </tr>\n",
       "    <tr>\n",
       "      <td>9839</td>\n",
       "      <td>2018</td>\n",
       "      <td>2019</td>\n",
       "      <td>91</td>\n",
       "      <td>WRITING (Original Screenplay)</td>\n",
       "      <td>Written by Nick Vallelonga, Brian Currie, Pete...</td>\n",
       "      <td>Green Book</td>\n",
       "      <td>True</td>\n",
       "    </tr>\n",
       "    <tr>\n",
       "      <td>9840</td>\n",
       "      <td>2018</td>\n",
       "      <td>2019</td>\n",
       "      <td>91</td>\n",
       "      <td>WRITING (Original Screenplay)</td>\n",
       "      <td>Written by Alfonso CuarÃ³n</td>\n",
       "      <td>Roma</td>\n",
       "      <td>False</td>\n",
       "    </tr>\n",
       "    <tr>\n",
       "      <td>9841</td>\n",
       "      <td>2018</td>\n",
       "      <td>2019</td>\n",
       "      <td>91</td>\n",
       "      <td>WRITING (Original Screenplay)</td>\n",
       "      <td>Written by Adam McKay</td>\n",
       "      <td>Vice</td>\n",
       "      <td>False</td>\n",
       "    </tr>\n",
       "  </tbody>\n",
       "</table>\n",
       "<p>2206 rows × 7 columns</p>\n",
       "</div>"
      ],
      "text/plain": [
       "      year_film  year_ceremony  ceremony                       category  \\\n",
       "7636       2000           2001        73        ACTOR IN A LEADING ROLE   \n",
       "7637       2000           2001        73        ACTOR IN A LEADING ROLE   \n",
       "7638       2000           2001        73        ACTOR IN A LEADING ROLE   \n",
       "7639       2000           2001        73        ACTOR IN A LEADING ROLE   \n",
       "7640       2000           2001        73        ACTOR IN A LEADING ROLE   \n",
       "...         ...            ...       ...                            ...   \n",
       "9837       2018           2019        91  WRITING (Original Screenplay)   \n",
       "9838       2018           2019        91  WRITING (Original Screenplay)   \n",
       "9839       2018           2019        91  WRITING (Original Screenplay)   \n",
       "9840       2018           2019        91  WRITING (Original Screenplay)   \n",
       "9841       2018           2019        91  WRITING (Original Screenplay)   \n",
       "\n",
       "                                                   name                film  \\\n",
       "7636                                      Javier Bardem  Before Night Falls   \n",
       "7637                                      Russell Crowe           Gladiator   \n",
       "7638                                          Tom Hanks           Cast Away   \n",
       "7639                                          Ed Harris             Pollock   \n",
       "7640                                      Geoffrey Rush              Quills   \n",
       "...                                                 ...                 ...   \n",
       "9837         Written by Deborah Davis and Tony McNamara       The Favourite   \n",
       "9838                           Written by Paul Schrader      First Reformed   \n",
       "9839  Written by Nick Vallelonga, Brian Currie, Pete...          Green Book   \n",
       "9840                         Written by Alfonso CuarÃ³n                Roma   \n",
       "9841                              Written by Adam McKay                Vice   \n",
       "\n",
       "        win  \n",
       "7636  False  \n",
       "7637   True  \n",
       "7638  False  \n",
       "7639  False  \n",
       "7640  False  \n",
       "...     ...  \n",
       "9837  False  \n",
       "9838  False  \n",
       "9839   True  \n",
       "9840  False  \n",
       "9841  False  \n",
       "\n",
       "[2206 rows x 7 columns]"
      ]
     },
     "execution_count": 43,
     "metadata": {},
     "output_type": "execute_result"
    }
   ],
   "source": [
    "ll = OscarList[7636:]\n",
    "ll"
   ]
  },
  {
   "cell_type": "code",
   "execution_count": 44,
   "metadata": {
    "ExecuteTime": {
     "end_time": "2019-12-02T17:36:59.743040Z",
     "start_time": "2019-12-02T17:36:59.695366Z"
    }
   },
   "outputs": [
    {
     "data": {
      "text/html": [
       "<div>\n",
       "<style scoped>\n",
       "    .dataframe tbody tr th:only-of-type {\n",
       "        vertical-align: middle;\n",
       "    }\n",
       "\n",
       "    .dataframe tbody tr th {\n",
       "        vertical-align: top;\n",
       "    }\n",
       "\n",
       "    .dataframe thead th {\n",
       "        text-align: right;\n",
       "    }\n",
       "</style>\n",
       "<table border=\"1\" class=\"dataframe\">\n",
       "  <thead>\n",
       "    <tr style=\"text-align: right;\">\n",
       "      <th></th>\n",
       "      <th>year</th>\n",
       "      <th>name_x</th>\n",
       "      <th>Movie_ID</th>\n",
       "      <th>runtime</th>\n",
       "      <th>cast</th>\n",
       "      <th>genre</th>\n",
       "      <th>country_codes</th>\n",
       "      <th>language_codes</th>\n",
       "      <th>certificates</th>\n",
       "      <th>Budget</th>\n",
       "      <th>...</th>\n",
       "      <th>multi_lang</th>\n",
       "      <th>US</th>\n",
       "      <th>Other_countries</th>\n",
       "      <th>year_film</th>\n",
       "      <th>year_ceremony</th>\n",
       "      <th>ceremony</th>\n",
       "      <th>category</th>\n",
       "      <th>name_y</th>\n",
       "      <th>film</th>\n",
       "      <th>win</th>\n",
       "    </tr>\n",
       "  </thead>\n",
       "  <tbody>\n",
       "    <tr>\n",
       "      <td>0</td>\n",
       "      <td>2000</td>\n",
       "      <td>Charlie's Angels</td>\n",
       "      <td>5033998</td>\n",
       "      <td>118.0</td>\n",
       "      <td>['Kristen Stewart', 'Naomi Scott', 'Ella Balin...</td>\n",
       "      <td>['Action', 'Adventure', 'Comedy']</td>\n",
       "      <td>['us']</td>\n",
       "      <td>['en']</td>\n",
       "      <td>PG-13</td>\n",
       "      <td>48000000.0</td>\n",
       "      <td>...</td>\n",
       "      <td>1.0</td>\n",
       "      <td>1.0</td>\n",
       "      <td>1.0</td>\n",
       "      <td>NaN</td>\n",
       "      <td>NaN</td>\n",
       "      <td>NaN</td>\n",
       "      <td>NaN</td>\n",
       "      <td>NaN</td>\n",
       "      <td>NaN</td>\n",
       "      <td>NaN</td>\n",
       "    </tr>\n",
       "    <tr>\n",
       "      <td>1</td>\n",
       "      <td>2000</td>\n",
       "      <td>Gladiator</td>\n",
       "      <td>172495</td>\n",
       "      <td>155.0</td>\n",
       "      <td>['Russell Crowe', 'Joaquin Phoenix', 'Connie N...</td>\n",
       "      <td>['Action', 'Adventure', 'Drama']</td>\n",
       "      <td>['us', 'gb', 'mt', 'ma']</td>\n",
       "      <td>['en']</td>\n",
       "      <td>PG-13</td>\n",
       "      <td>103000000.0</td>\n",
       "      <td>...</td>\n",
       "      <td>1.0</td>\n",
       "      <td>1.0</td>\n",
       "      <td>1.0</td>\n",
       "      <td>2000.0</td>\n",
       "      <td>2001.0</td>\n",
       "      <td>73.0</td>\n",
       "      <td>ACTOR IN A LEADING ROLE</td>\n",
       "      <td>Russell Crowe</td>\n",
       "      <td>Gladiator</td>\n",
       "      <td>True</td>\n",
       "    </tr>\n",
       "    <tr>\n",
       "      <td>2</td>\n",
       "      <td>2000</td>\n",
       "      <td>Gladiator</td>\n",
       "      <td>172495</td>\n",
       "      <td>155.0</td>\n",
       "      <td>['Russell Crowe', 'Joaquin Phoenix', 'Connie N...</td>\n",
       "      <td>['Action', 'Adventure', 'Drama']</td>\n",
       "      <td>['us', 'gb', 'mt', 'ma']</td>\n",
       "      <td>['en']</td>\n",
       "      <td>PG-13</td>\n",
       "      <td>103000000.0</td>\n",
       "      <td>...</td>\n",
       "      <td>1.0</td>\n",
       "      <td>1.0</td>\n",
       "      <td>1.0</td>\n",
       "      <td>2000.0</td>\n",
       "      <td>2001.0</td>\n",
       "      <td>73.0</td>\n",
       "      <td>ACTOR IN A SUPPORTING ROLE</td>\n",
       "      <td>Joaquin Phoenix</td>\n",
       "      <td>Gladiator</td>\n",
       "      <td>False</td>\n",
       "    </tr>\n",
       "    <tr>\n",
       "      <td>3</td>\n",
       "      <td>2000</td>\n",
       "      <td>Gladiator</td>\n",
       "      <td>172495</td>\n",
       "      <td>155.0</td>\n",
       "      <td>['Russell Crowe', 'Joaquin Phoenix', 'Connie N...</td>\n",
       "      <td>['Action', 'Adventure', 'Drama']</td>\n",
       "      <td>['us', 'gb', 'mt', 'ma']</td>\n",
       "      <td>['en']</td>\n",
       "      <td>PG-13</td>\n",
       "      <td>103000000.0</td>\n",
       "      <td>...</td>\n",
       "      <td>1.0</td>\n",
       "      <td>1.0</td>\n",
       "      <td>1.0</td>\n",
       "      <td>2000.0</td>\n",
       "      <td>2001.0</td>\n",
       "      <td>73.0</td>\n",
       "      <td>ART DIRECTION</td>\n",
       "      <td>Art Direction:  Arthur Max;  Set Decoration:  ...</td>\n",
       "      <td>Gladiator</td>\n",
       "      <td>False</td>\n",
       "    </tr>\n",
       "    <tr>\n",
       "      <td>4</td>\n",
       "      <td>2000</td>\n",
       "      <td>Gladiator</td>\n",
       "      <td>172495</td>\n",
       "      <td>155.0</td>\n",
       "      <td>['Russell Crowe', 'Joaquin Phoenix', 'Connie N...</td>\n",
       "      <td>['Action', 'Adventure', 'Drama']</td>\n",
       "      <td>['us', 'gb', 'mt', 'ma']</td>\n",
       "      <td>['en']</td>\n",
       "      <td>PG-13</td>\n",
       "      <td>103000000.0</td>\n",
       "      <td>...</td>\n",
       "      <td>1.0</td>\n",
       "      <td>1.0</td>\n",
       "      <td>1.0</td>\n",
       "      <td>2000.0</td>\n",
       "      <td>2001.0</td>\n",
       "      <td>73.0</td>\n",
       "      <td>CINEMATOGRAPHY</td>\n",
       "      <td>John Mathieson</td>\n",
       "      <td>Gladiator</td>\n",
       "      <td>False</td>\n",
       "    </tr>\n",
       "  </tbody>\n",
       "</table>\n",
       "<p>5 rows × 43 columns</p>\n",
       "</div>"
      ],
      "text/plain": [
       "   year            name_x  Movie_ID  runtime  \\\n",
       "0  2000  Charlie's Angels   5033998    118.0   \n",
       "1  2000         Gladiator    172495    155.0   \n",
       "2  2000         Gladiator    172495    155.0   \n",
       "3  2000         Gladiator    172495    155.0   \n",
       "4  2000         Gladiator    172495    155.0   \n",
       "\n",
       "                                                cast  \\\n",
       "0  ['Kristen Stewart', 'Naomi Scott', 'Ella Balin...   \n",
       "1  ['Russell Crowe', 'Joaquin Phoenix', 'Connie N...   \n",
       "2  ['Russell Crowe', 'Joaquin Phoenix', 'Connie N...   \n",
       "3  ['Russell Crowe', 'Joaquin Phoenix', 'Connie N...   \n",
       "4  ['Russell Crowe', 'Joaquin Phoenix', 'Connie N...   \n",
       "\n",
       "                               genre             country_codes language_codes  \\\n",
       "0  ['Action', 'Adventure', 'Comedy']                    ['us']         ['en']   \n",
       "1   ['Action', 'Adventure', 'Drama']  ['us', 'gb', 'mt', 'ma']         ['en']   \n",
       "2   ['Action', 'Adventure', 'Drama']  ['us', 'gb', 'mt', 'ma']         ['en']   \n",
       "3   ['Action', 'Adventure', 'Drama']  ['us', 'gb', 'mt', 'ma']         ['en']   \n",
       "4   ['Action', 'Adventure', 'Drama']  ['us', 'gb', 'mt', 'ma']         ['en']   \n",
       "\n",
       "  certificates       Budget  ... multi_lang   US  Other_countries  year_film  \\\n",
       "0        PG-13   48000000.0  ...        1.0  1.0              1.0        NaN   \n",
       "1        PG-13  103000000.0  ...        1.0  1.0              1.0     2000.0   \n",
       "2        PG-13  103000000.0  ...        1.0  1.0              1.0     2000.0   \n",
       "3        PG-13  103000000.0  ...        1.0  1.0              1.0     2000.0   \n",
       "4        PG-13  103000000.0  ...        1.0  1.0              1.0     2000.0   \n",
       "\n",
       "  year_ceremony ceremony                    category  \\\n",
       "0           NaN      NaN                         NaN   \n",
       "1        2001.0     73.0     ACTOR IN A LEADING ROLE   \n",
       "2        2001.0     73.0  ACTOR IN A SUPPORTING ROLE   \n",
       "3        2001.0     73.0               ART DIRECTION   \n",
       "4        2001.0     73.0              CINEMATOGRAPHY   \n",
       "\n",
       "                                              name_y       film    win  \n",
       "0                                                NaN        NaN    NaN  \n",
       "1                                      Russell Crowe  Gladiator   True  \n",
       "2                                    Joaquin Phoenix  Gladiator  False  \n",
       "3  Art Direction:  Arthur Max;  Set Decoration:  ...  Gladiator  False  \n",
       "4                                     John Mathieson  Gladiator  False  \n",
       "\n",
       "[5 rows x 43 columns]"
      ]
     },
     "execution_count": 44,
     "metadata": {},
     "output_type": "execute_result"
    }
   ],
   "source": [
    "MoviesOscar = pd.merge(left=Movies_,right=ll, how='left', left_on='name', right_on='film')\n",
    "MoviesOscar.head(5)"
   ]
  },
  {
   "cell_type": "code",
   "execution_count": 45,
   "metadata": {
    "ExecuteTime": {
     "end_time": "2019-12-02T17:36:59.750811Z",
     "start_time": "2019-12-02T17:36:59.744677Z"
    }
   },
   "outputs": [],
   "source": [
    "del MoviesOscar['year_ceremony']\n",
    "del MoviesOscar['ceremony']\n",
    "del MoviesOscar['category']\n",
    "del MoviesOscar['name_y']\n",
    "del MoviesOscar['year_film']"
   ]
  },
  {
   "cell_type": "code",
   "execution_count": 46,
   "metadata": {
    "ExecuteTime": {
     "end_time": "2019-12-02T17:36:59.755261Z",
     "start_time": "2019-12-02T17:36:59.752024Z"
    }
   },
   "outputs": [
    {
     "data": {
      "text/plain": [
       "(10671, 38)"
      ]
     },
     "execution_count": 46,
     "metadata": {},
     "output_type": "execute_result"
    }
   ],
   "source": [
    "MoviesOscar.shape"
   ]
  },
  {
   "cell_type": "code",
   "execution_count": 47,
   "metadata": {
    "ExecuteTime": {
     "end_time": "2019-12-02T17:36:59.796960Z",
     "start_time": "2019-12-02T17:36:59.756642Z"
    }
   },
   "outputs": [
    {
     "name": "stderr",
     "output_type": "stream",
     "text": [
      "/opt/anaconda3/lib/python3.7/site-packages/pandas/core/indexing.py:205: SettingWithCopyWarning: \n",
      "A value is trying to be set on a copy of a slice from a DataFrame\n",
      "\n",
      "See the caveats in the documentation: http://pandas.pydata.org/pandas-docs/stable/user_guide/indexing.html#returning-a-view-versus-a-copy\n",
      "  self._setitem_with_indexer(indexer, value)\n"
     ]
    }
   ],
   "source": [
    "MoviesOscar['film'].loc[~MoviesOscar['film'].isnull()] = 1  # not nan\n",
    "MoviesOscar['film'].loc[MoviesOscar['film'].isnull()] = 0   # nan\n",
    "MoviesOscar['win'].loc[MoviesOscar['win'].isnull()] = 0   # nan\n",
    "\n",
    "dd = {True: 1, False: 0}\n",
    "MoviesOscar[\"win\"]= MoviesOscar[\"win\"].map(dd) "
   ]
  },
  {
   "cell_type": "code",
   "execution_count": 48,
   "metadata": {
    "ExecuteTime": {
     "end_time": "2019-12-02T17:36:59.818448Z",
     "start_time": "2019-12-02T17:36:59.798204Z"
    }
   },
   "outputs": [
    {
     "data": {
      "text/html": [
       "<div>\n",
       "<style scoped>\n",
       "    .dataframe tbody tr th:only-of-type {\n",
       "        vertical-align: middle;\n",
       "    }\n",
       "\n",
       "    .dataframe tbody tr th {\n",
       "        vertical-align: top;\n",
       "    }\n",
       "\n",
       "    .dataframe thead th {\n",
       "        text-align: right;\n",
       "    }\n",
       "</style>\n",
       "<table border=\"1\" class=\"dataframe\">\n",
       "  <thead>\n",
       "    <tr style=\"text-align: right;\">\n",
       "      <th></th>\n",
       "      <th>year</th>\n",
       "      <th>name_x</th>\n",
       "      <th>Movie_ID</th>\n",
       "      <th>runtime</th>\n",
       "      <th>cast</th>\n",
       "      <th>genre</th>\n",
       "      <th>country_codes</th>\n",
       "      <th>language_codes</th>\n",
       "      <th>certificates</th>\n",
       "      <th>Budget</th>\n",
       "      <th>...</th>\n",
       "      <th>visual_effects</th>\n",
       "      <th>date</th>\n",
       "      <th>Air_location</th>\n",
       "      <th>date_Match</th>\n",
       "      <th>english</th>\n",
       "      <th>multi_lang</th>\n",
       "      <th>US</th>\n",
       "      <th>Other_countries</th>\n",
       "      <th>film</th>\n",
       "      <th>win</th>\n",
       "    </tr>\n",
       "  </thead>\n",
       "  <tbody>\n",
       "    <tr>\n",
       "      <td>0</td>\n",
       "      <td>2000</td>\n",
       "      <td>Charlie's Angels</td>\n",
       "      <td>5033998</td>\n",
       "      <td>118.0</td>\n",
       "      <td>['Kristen Stewart', 'Naomi Scott', 'Ella Balin...</td>\n",
       "      <td>['Action', 'Adventure', 'Comedy']</td>\n",
       "      <td>['us']</td>\n",
       "      <td>['en']</td>\n",
       "      <td>PG-13</td>\n",
       "      <td>48000000.0</td>\n",
       "      <td>...</td>\n",
       "      <td>Lukas Abraham</td>\n",
       "      <td>2019-11-14</td>\n",
       "      <td>Saudi Arabia</td>\n",
       "      <td>0</td>\n",
       "      <td>1.0</td>\n",
       "      <td>1.0</td>\n",
       "      <td>1.0</td>\n",
       "      <td>1.0</td>\n",
       "      <td>0</td>\n",
       "      <td>0</td>\n",
       "    </tr>\n",
       "    <tr>\n",
       "      <td>1</td>\n",
       "      <td>2000</td>\n",
       "      <td>Gladiator</td>\n",
       "      <td>172495</td>\n",
       "      <td>155.0</td>\n",
       "      <td>['Russell Crowe', 'Joaquin Phoenix', 'Connie N...</td>\n",
       "      <td>['Action', 'Adventure', 'Drama']</td>\n",
       "      <td>['us', 'gb', 'mt', 'ma']</td>\n",
       "      <td>['en']</td>\n",
       "      <td>PG-13</td>\n",
       "      <td>103000000.0</td>\n",
       "      <td>...</td>\n",
       "      <td>Rob Allman</td>\n",
       "      <td>2000-05-04</td>\n",
       "      <td>Australia</td>\n",
       "      <td>1</td>\n",
       "      <td>1.0</td>\n",
       "      <td>1.0</td>\n",
       "      <td>1.0</td>\n",
       "      <td>1.0</td>\n",
       "      <td>1</td>\n",
       "      <td>1</td>\n",
       "    </tr>\n",
       "    <tr>\n",
       "      <td>2</td>\n",
       "      <td>2000</td>\n",
       "      <td>Gladiator</td>\n",
       "      <td>172495</td>\n",
       "      <td>155.0</td>\n",
       "      <td>['Russell Crowe', 'Joaquin Phoenix', 'Connie N...</td>\n",
       "      <td>['Action', 'Adventure', 'Drama']</td>\n",
       "      <td>['us', 'gb', 'mt', 'ma']</td>\n",
       "      <td>['en']</td>\n",
       "      <td>PG-13</td>\n",
       "      <td>103000000.0</td>\n",
       "      <td>...</td>\n",
       "      <td>Rob Allman</td>\n",
       "      <td>2000-05-04</td>\n",
       "      <td>Australia</td>\n",
       "      <td>1</td>\n",
       "      <td>1.0</td>\n",
       "      <td>1.0</td>\n",
       "      <td>1.0</td>\n",
       "      <td>1.0</td>\n",
       "      <td>1</td>\n",
       "      <td>0</td>\n",
       "    </tr>\n",
       "    <tr>\n",
       "      <td>3</td>\n",
       "      <td>2000</td>\n",
       "      <td>Gladiator</td>\n",
       "      <td>172495</td>\n",
       "      <td>155.0</td>\n",
       "      <td>['Russell Crowe', 'Joaquin Phoenix', 'Connie N...</td>\n",
       "      <td>['Action', 'Adventure', 'Drama']</td>\n",
       "      <td>['us', 'gb', 'mt', 'ma']</td>\n",
       "      <td>['en']</td>\n",
       "      <td>PG-13</td>\n",
       "      <td>103000000.0</td>\n",
       "      <td>...</td>\n",
       "      <td>Rob Allman</td>\n",
       "      <td>2000-05-04</td>\n",
       "      <td>Australia</td>\n",
       "      <td>1</td>\n",
       "      <td>1.0</td>\n",
       "      <td>1.0</td>\n",
       "      <td>1.0</td>\n",
       "      <td>1.0</td>\n",
       "      <td>1</td>\n",
       "      <td>0</td>\n",
       "    </tr>\n",
       "    <tr>\n",
       "      <td>4</td>\n",
       "      <td>2000</td>\n",
       "      <td>Gladiator</td>\n",
       "      <td>172495</td>\n",
       "      <td>155.0</td>\n",
       "      <td>['Russell Crowe', 'Joaquin Phoenix', 'Connie N...</td>\n",
       "      <td>['Action', 'Adventure', 'Drama']</td>\n",
       "      <td>['us', 'gb', 'mt', 'ma']</td>\n",
       "      <td>['en']</td>\n",
       "      <td>PG-13</td>\n",
       "      <td>103000000.0</td>\n",
       "      <td>...</td>\n",
       "      <td>Rob Allman</td>\n",
       "      <td>2000-05-04</td>\n",
       "      <td>Australia</td>\n",
       "      <td>1</td>\n",
       "      <td>1.0</td>\n",
       "      <td>1.0</td>\n",
       "      <td>1.0</td>\n",
       "      <td>1.0</td>\n",
       "      <td>1</td>\n",
       "      <td>0</td>\n",
       "    </tr>\n",
       "  </tbody>\n",
       "</table>\n",
       "<p>5 rows × 38 columns</p>\n",
       "</div>"
      ],
      "text/plain": [
       "   year            name_x  Movie_ID  runtime  \\\n",
       "0  2000  Charlie's Angels   5033998    118.0   \n",
       "1  2000         Gladiator    172495    155.0   \n",
       "2  2000         Gladiator    172495    155.0   \n",
       "3  2000         Gladiator    172495    155.0   \n",
       "4  2000         Gladiator    172495    155.0   \n",
       "\n",
       "                                                cast  \\\n",
       "0  ['Kristen Stewart', 'Naomi Scott', 'Ella Balin...   \n",
       "1  ['Russell Crowe', 'Joaquin Phoenix', 'Connie N...   \n",
       "2  ['Russell Crowe', 'Joaquin Phoenix', 'Connie N...   \n",
       "3  ['Russell Crowe', 'Joaquin Phoenix', 'Connie N...   \n",
       "4  ['Russell Crowe', 'Joaquin Phoenix', 'Connie N...   \n",
       "\n",
       "                               genre             country_codes language_codes  \\\n",
       "0  ['Action', 'Adventure', 'Comedy']                    ['us']         ['en']   \n",
       "1   ['Action', 'Adventure', 'Drama']  ['us', 'gb', 'mt', 'ma']         ['en']   \n",
       "2   ['Action', 'Adventure', 'Drama']  ['us', 'gb', 'mt', 'ma']         ['en']   \n",
       "3   ['Action', 'Adventure', 'Drama']  ['us', 'gb', 'mt', 'ma']         ['en']   \n",
       "4   ['Action', 'Adventure', 'Drama']  ['us', 'gb', 'mt', 'ma']         ['en']   \n",
       "\n",
       "  certificates       Budget  ... visual_effects        date  Air_location  \\\n",
       "0        PG-13   48000000.0  ...  Lukas Abraham  2019-11-14  Saudi Arabia   \n",
       "1        PG-13  103000000.0  ...     Rob Allman  2000-05-04     Australia   \n",
       "2        PG-13  103000000.0  ...     Rob Allman  2000-05-04     Australia   \n",
       "3        PG-13  103000000.0  ...     Rob Allman  2000-05-04     Australia   \n",
       "4        PG-13  103000000.0  ...     Rob Allman  2000-05-04     Australia   \n",
       "\n",
       "   date_Match english multi_lang   US Other_countries film win  \n",
       "0           0     1.0        1.0  1.0             1.0    0   0  \n",
       "1           1     1.0        1.0  1.0             1.0    1   1  \n",
       "2           1     1.0        1.0  1.0             1.0    1   0  \n",
       "3           1     1.0        1.0  1.0             1.0    1   0  \n",
       "4           1     1.0        1.0  1.0             1.0    1   0  \n",
       "\n",
       "[5 rows x 38 columns]"
      ]
     },
     "execution_count": 48,
     "metadata": {},
     "output_type": "execute_result"
    }
   ],
   "source": [
    "MoviesOscar.head()"
   ]
  },
  {
   "cell_type": "code",
   "execution_count": 49,
   "metadata": {
    "ExecuteTime": {
     "end_time": "2019-12-02T17:37:00.364105Z",
     "start_time": "2019-12-02T17:36:59.819758Z"
    }
   },
   "outputs": [],
   "source": [
    "MoviesOscar.to_csv('MoviesOscar.csv',index=False,header=True)"
   ]
  },
  {
   "cell_type": "markdown",
   "metadata": {},
   "source": [
    "<span style=\"color:red\">If a movie won or was nomitated to more than 1 oscar redundency occures such **Ex.** `Memento` occured 2 times because it was nominated for 2 oscars and `gladiator` occured 12 times because it was nominated for 12 oscures which is accurate but we need to find a better way <span>"
   ]
  },
  {
   "cell_type": "markdown",
   "metadata": {
    "ExecuteTime": {
     "end_time": "2019-11-30T01:10:39.005947Z",
     "start_time": "2019-11-30T01:10:39.001470Z"
    }
   },
   "source": [
    "### genre columns"
   ]
  },
  {
   "cell_type": "code",
   "execution_count": 50,
   "metadata": {
    "ExecuteTime": {
     "end_time": "2019-12-02T17:37:00.369211Z",
     "start_time": "2019-12-02T17:37:00.365680Z"
    }
   },
   "outputs": [
    {
     "data": {
      "text/plain": [
       "Index(['year', 'name', 'Movie_ID', 'runtime', 'cast', 'genre', 'country_codes',\n",
       "       'language_codes', 'certificates', 'Budget', 'OWUS', 'CWG', 'rating',\n",
       "       'votes', 'original_air_date', 'title', 'director', 'writer1', 'writer2',\n",
       "       'producer1', 'producer2', 'production_company1', 'production_company2',\n",
       "       'composers', 'editors', 'cinematographers', 'set_decorators',\n",
       "       'assistant_directors', 'visual_effects', 'date', 'Air_location',\n",
       "       'date_Match', 'english', 'multi_lang', 'US', 'Other_countries'],\n",
       "      dtype='object')"
      ]
     },
     "execution_count": 50,
     "metadata": {},
     "output_type": "execute_result"
    }
   ],
   "source": [
    "Movies_.columns"
   ]
  },
  {
   "cell_type": "code",
   "execution_count": 51,
   "metadata": {
    "ExecuteTime": {
     "end_time": "2019-12-02T17:37:00.374196Z",
     "start_time": "2019-12-02T17:37:00.370467Z"
    }
   },
   "outputs": [
    {
     "data": {
      "text/plain": [
       "dtype('O')"
      ]
     },
     "execution_count": 51,
     "metadata": {},
     "output_type": "execute_result"
    }
   ],
   "source": [
    "Movies_['genre'].dtype"
   ]
  },
  {
   "cell_type": "code",
   "execution_count": 52,
   "metadata": {
    "ExecuteTime": {
     "end_time": "2019-12-02T17:37:00.560734Z",
     "start_time": "2019-12-02T17:37:00.376367Z"
    }
   },
   "outputs": [],
   "source": [
    "# Get the unique catagories needed\n",
    "import ast\n",
    "unique_genres = set()\n",
    "\n",
    "for i in Movies_['genre']:\n",
    "    if type(ast.literal_eval(i)) == list:\n",
    "        for j in ast.literal_eval(i):\n",
    "            unique_genres.add(j) \n",
    "    else:\n",
    "        pass\n",
    "unique_genres = list(unique_genres)"
   ]
  },
  {
   "cell_type": "code",
   "execution_count": 54,
   "metadata": {
    "ExecuteTime": {
     "end_time": "2019-12-02T17:37:00.571369Z",
     "start_time": "2019-12-02T17:37:00.568232Z"
    }
   },
   "outputs": [],
   "source": [
    "# Check the value and avoid error\n",
    "def value_check(column,row):\n",
    "    try:\n",
    "        a = ast.literal_eval(row)\n",
    "        if column in a:\n",
    "            return True\n",
    "        else:\n",
    "            return False\n",
    "    except:\n",
    "        return False"
   ]
  },
  {
   "cell_type": "code",
   "execution_count": 55,
   "metadata": {
    "ExecuteTime": {
     "end_time": "2019-12-02T17:37:03.228142Z",
     "start_time": "2019-12-02T17:37:00.572950Z"
    }
   },
   "outputs": [],
   "source": [
    "#Loop to create columns with 0/1 values \n",
    "for i in unique_genres:\n",
    "    Movies_[i] = Movies_[Movies_['genre'].notnull()]['genre'].apply(lambda x: 1 if value_check(i,x)== True else 0)"
   ]
  },
  {
   "cell_type": "code",
   "execution_count": 56,
   "metadata": {
    "ExecuteTime": {
     "end_time": "2019-12-02T17:37:03.252933Z",
     "start_time": "2019-12-02T17:37:03.229759Z"
    }
   },
   "outputs": [
    {
     "data": {
      "text/html": [
       "<div>\n",
       "<style scoped>\n",
       "    .dataframe tbody tr th:only-of-type {\n",
       "        vertical-align: middle;\n",
       "    }\n",
       "\n",
       "    .dataframe tbody tr th {\n",
       "        vertical-align: top;\n",
       "    }\n",
       "\n",
       "    .dataframe thead th {\n",
       "        text-align: right;\n",
       "    }\n",
       "</style>\n",
       "<table border=\"1\" class=\"dataframe\">\n",
       "  <thead>\n",
       "    <tr style=\"text-align: right;\">\n",
       "      <th></th>\n",
       "      <th>year</th>\n",
       "      <th>name</th>\n",
       "      <th>Movie_ID</th>\n",
       "      <th>runtime</th>\n",
       "      <th>cast</th>\n",
       "      <th>genre</th>\n",
       "      <th>country_codes</th>\n",
       "      <th>language_codes</th>\n",
       "      <th>certificates</th>\n",
       "      <th>Budget</th>\n",
       "      <th>...</th>\n",
       "      <th>Biography</th>\n",
       "      <th>Action</th>\n",
       "      <th>Sport</th>\n",
       "      <th>Mystery</th>\n",
       "      <th>Drama</th>\n",
       "      <th>Crime</th>\n",
       "      <th>News</th>\n",
       "      <th>Game-Show</th>\n",
       "      <th>Musical</th>\n",
       "      <th>Thriller</th>\n",
       "    </tr>\n",
       "  </thead>\n",
       "  <tbody>\n",
       "    <tr>\n",
       "      <td>0</td>\n",
       "      <td>2000</td>\n",
       "      <td>Charlie's Angels</td>\n",
       "      <td>5033998</td>\n",
       "      <td>118.0</td>\n",
       "      <td>['Kristen Stewart', 'Naomi Scott', 'Ella Balin...</td>\n",
       "      <td>['Action', 'Adventure', 'Comedy']</td>\n",
       "      <td>['us']</td>\n",
       "      <td>['en']</td>\n",
       "      <td>PG-13</td>\n",
       "      <td>48000000.0</td>\n",
       "      <td>...</td>\n",
       "      <td>0</td>\n",
       "      <td>1</td>\n",
       "      <td>0</td>\n",
       "      <td>0</td>\n",
       "      <td>0</td>\n",
       "      <td>0</td>\n",
       "      <td>0</td>\n",
       "      <td>0</td>\n",
       "      <td>0</td>\n",
       "      <td>0</td>\n",
       "    </tr>\n",
       "    <tr>\n",
       "      <td>1</td>\n",
       "      <td>2000</td>\n",
       "      <td>Gladiator</td>\n",
       "      <td>172495</td>\n",
       "      <td>155.0</td>\n",
       "      <td>['Russell Crowe', 'Joaquin Phoenix', 'Connie N...</td>\n",
       "      <td>['Action', 'Adventure', 'Drama']</td>\n",
       "      <td>['us', 'gb', 'mt', 'ma']</td>\n",
       "      <td>['en']</td>\n",
       "      <td>PG-13</td>\n",
       "      <td>103000000.0</td>\n",
       "      <td>...</td>\n",
       "      <td>0</td>\n",
       "      <td>1</td>\n",
       "      <td>0</td>\n",
       "      <td>0</td>\n",
       "      <td>1</td>\n",
       "      <td>0</td>\n",
       "      <td>0</td>\n",
       "      <td>0</td>\n",
       "      <td>0</td>\n",
       "      <td>0</td>\n",
       "    </tr>\n",
       "    <tr>\n",
       "      <td>2</td>\n",
       "      <td>2000</td>\n",
       "      <td>How the Grinch Stole Christmas</td>\n",
       "      <td>2709692</td>\n",
       "      <td>85.0</td>\n",
       "      <td>['Benedict Cumberbatch', 'Cameron Seely', 'Ras...</td>\n",
       "      <td>['Animation', 'Family', 'Fantasy']</td>\n",
       "      <td>['fr', 'jp', 'us']</td>\n",
       "      <td>['en']</td>\n",
       "      <td>PG</td>\n",
       "      <td>75000000.0</td>\n",
       "      <td>...</td>\n",
       "      <td>0</td>\n",
       "      <td>0</td>\n",
       "      <td>0</td>\n",
       "      <td>0</td>\n",
       "      <td>0</td>\n",
       "      <td>0</td>\n",
       "      <td>0</td>\n",
       "      <td>0</td>\n",
       "      <td>0</td>\n",
       "      <td>0</td>\n",
       "    </tr>\n",
       "    <tr>\n",
       "      <td>3</td>\n",
       "      <td>2000</td>\n",
       "      <td>Requiem for a Dream</td>\n",
       "      <td>180093</td>\n",
       "      <td>102.0</td>\n",
       "      <td>['Ellen Burstyn', 'Jared Leto', 'Jennifer Conn...</td>\n",
       "      <td>['Drama']</td>\n",
       "      <td>['us']</td>\n",
       "      <td>['en']</td>\n",
       "      <td>Unrated</td>\n",
       "      <td>4500000.0</td>\n",
       "      <td>...</td>\n",
       "      <td>0</td>\n",
       "      <td>0</td>\n",
       "      <td>0</td>\n",
       "      <td>0</td>\n",
       "      <td>1</td>\n",
       "      <td>0</td>\n",
       "      <td>0</td>\n",
       "      <td>0</td>\n",
       "      <td>0</td>\n",
       "      <td>0</td>\n",
       "    </tr>\n",
       "    <tr>\n",
       "      <td>4</td>\n",
       "      <td>2000</td>\n",
       "      <td>Remember the Titans</td>\n",
       "      <td>210945</td>\n",
       "      <td>113.0</td>\n",
       "      <td>['Denzel Washington', 'Will Patton', 'Wood Har...</td>\n",
       "      <td>['Biography', 'Drama', 'Sport']</td>\n",
       "      <td>['us']</td>\n",
       "      <td>['en']</td>\n",
       "      <td>PG</td>\n",
       "      <td>30000000.0</td>\n",
       "      <td>...</td>\n",
       "      <td>1</td>\n",
       "      <td>0</td>\n",
       "      <td>1</td>\n",
       "      <td>0</td>\n",
       "      <td>1</td>\n",
       "      <td>0</td>\n",
       "      <td>0</td>\n",
       "      <td>0</td>\n",
       "      <td>0</td>\n",
       "      <td>0</td>\n",
       "    </tr>\n",
       "  </tbody>\n",
       "</table>\n",
       "<p>5 rows × 63 columns</p>\n",
       "</div>"
      ],
      "text/plain": [
       "   year                            name  Movie_ID  runtime  \\\n",
       "0  2000                Charlie's Angels   5033998    118.0   \n",
       "1  2000                       Gladiator    172495    155.0   \n",
       "2  2000  How the Grinch Stole Christmas   2709692     85.0   \n",
       "3  2000             Requiem for a Dream    180093    102.0   \n",
       "4  2000             Remember the Titans    210945    113.0   \n",
       "\n",
       "                                                cast  \\\n",
       "0  ['Kristen Stewart', 'Naomi Scott', 'Ella Balin...   \n",
       "1  ['Russell Crowe', 'Joaquin Phoenix', 'Connie N...   \n",
       "2  ['Benedict Cumberbatch', 'Cameron Seely', 'Ras...   \n",
       "3  ['Ellen Burstyn', 'Jared Leto', 'Jennifer Conn...   \n",
       "4  ['Denzel Washington', 'Will Patton', 'Wood Har...   \n",
       "\n",
       "                                genre             country_codes  \\\n",
       "0   ['Action', 'Adventure', 'Comedy']                    ['us']   \n",
       "1    ['Action', 'Adventure', 'Drama']  ['us', 'gb', 'mt', 'ma']   \n",
       "2  ['Animation', 'Family', 'Fantasy']        ['fr', 'jp', 'us']   \n",
       "3                           ['Drama']                    ['us']   \n",
       "4     ['Biography', 'Drama', 'Sport']                    ['us']   \n",
       "\n",
       "  language_codes certificates       Budget  ... Biography  Action  Sport  \\\n",
       "0         ['en']        PG-13   48000000.0  ...         0       1      0   \n",
       "1         ['en']        PG-13  103000000.0  ...         0       1      0   \n",
       "2         ['en']           PG   75000000.0  ...         0       0      0   \n",
       "3         ['en']      Unrated    4500000.0  ...         0       0      0   \n",
       "4         ['en']           PG   30000000.0  ...         1       0      1   \n",
       "\n",
       "   Mystery Drama Crime News Game-Show Musical Thriller  \n",
       "0        0     0     0    0         0       0        0  \n",
       "1        0     1     0    0         0       0        0  \n",
       "2        0     0     0    0         0       0        0  \n",
       "3        0     1     0    0         0       0        0  \n",
       "4        0     1     0    0         0       0        0  \n",
       "\n",
       "[5 rows x 63 columns]"
      ]
     },
     "execution_count": 56,
     "metadata": {},
     "output_type": "execute_result"
    }
   ],
   "source": [
    "Movies_.head()"
   ]
  },
  {
   "cell_type": "code",
   "execution_count": 57,
   "metadata": {
    "ExecuteTime": {
     "end_time": "2019-12-02T17:37:03.789838Z",
     "start_time": "2019-12-02T17:37:03.254938Z"
    }
   },
   "outputs": [],
   "source": [
    "Movies_.to_csv('Test.csv',index=False,header=True)"
   ]
  },
  {
   "cell_type": "markdown",
   "metadata": {},
   "source": [
    "# <span style=\"color:darkred\">Working With OMDB<span>"
   ]
  },
  {
   "cell_type": "code",
   "execution_count": 58,
   "metadata": {
    "ExecuteTime": {
     "end_time": "2019-12-02T17:37:03.793404Z",
     "start_time": "2019-12-02T17:37:03.791361Z"
    }
   },
   "outputs": [],
   "source": [
    "#/Users/bader/dropbox/DSI_GA_Capstone/Code/New_Data_OMDB/movies_2000_new.csv"
   ]
  },
  {
   "cell_type": "code",
   "execution_count": 59,
   "metadata": {
    "ExecuteTime": {
     "end_time": "2019-12-02T17:37:04.041332Z",
     "start_time": "2019-12-02T17:37:03.794979Z"
    }
   },
   "outputs": [],
   "source": [
    "new_data2000 = pd.read_csv('/Users/bader/dropbox/DSI_GA_Capstone/Code/New_Data_OMDB/movies_2000_new.csv')\n",
    "new_data2001 = pd.read_csv('/Users/bader/dropbox/DSI_GA_Capstone/Code/New_Data_OMDB/movies_2001_new.csv')\n",
    "new_data2002 = pd.read_csv('/Users/bader/dropbox/DSI_GA_Capstone/Code/New_Data_OMDB/movies_2002_new.csv')\n",
    "new_data2003 = pd.read_csv('/Users/bader/dropbox/DSI_GA_Capstone/Code/New_Data_OMDB/movies_2003_new.csv')\n",
    "new_data2004 = pd.read_csv('/Users/bader/dropbox/DSI_GA_Capstone/Code/New_Data_OMDB/movies_2004_new.csv')\n",
    "new_data2005 = pd.read_csv('/Users/bader/dropbox/DSI_GA_Capstone/Code/New_Data_OMDB/movies_2005_new.csv')\n",
    "new_data2006 = pd.read_csv('/Users/bader/dropbox/DSI_GA_Capstone/Code/New_Data_OMDB/movies_2006_new.csv')\n",
    "new_data2007 = pd.read_csv('/Users/bader/dropbox/DSI_GA_Capstone/Code/New_Data_OMDB/movies_2007_new.csv')\n",
    "new_data2008 = pd.read_csv('/Users/bader/dropbox/DSI_GA_Capstone/Code/New_Data_OMDB/movies_2008_new.csv')\n",
    "new_data2009 = pd.read_csv('/Users/bader/dropbox/DSI_GA_Capstone/Code/New_Data_OMDB/movies_2009_new.csv')\n",
    "new_data2010 = pd.read_csv('/Users/bader/dropbox/DSI_GA_Capstone/Code/New_Data_OMDB/movies_2010_new.csv')\n",
    "new_data2011 = pd.read_csv('/Users/bader/dropbox/DSI_GA_Capstone/Code/New_Data_OMDB/movies_2011_new.csv')\n",
    "new_data2012 = pd.read_csv('/Users/bader/dropbox/DSI_GA_Capstone/Code/New_Data_OMDB/movies_2012_new.csv')\n",
    "new_data2013 = pd.read_csv('/Users/bader/dropbox/DSI_GA_Capstone/Code/New_Data_OMDB/movies_2013_new.csv')\n",
    "new_data2014 = pd.read_csv('/Users/bader/dropbox/DSI_GA_Capstone/Code/New_Data_OMDB/movies_2014_new.csv')\n",
    "new_data2015 = pd.read_csv('/Users/bader/dropbox/DSI_GA_Capstone/Code/New_Data_OMDB/movies_2015_new.csv')\n",
    "new_data2016 = pd.read_csv('/Users/bader/dropbox/DSI_GA_Capstone/Code/New_Data_OMDB/movies_2016_new.csv')\n",
    "new_data2017 = pd.read_csv('/Users/bader/dropbox/DSI_GA_Capstone/Code/New_Data_OMDB/movies_2017_new.csv')"
   ]
  },
  {
   "cell_type": "code",
   "execution_count": 60,
   "metadata": {
    "ExecuteTime": {
     "end_time": "2019-12-02T17:37:04.074128Z",
     "start_time": "2019-12-02T17:37:04.042975Z"
    }
   },
   "outputs": [],
   "source": [
    "new_movies_ = pd.concat([new_data2000,new_data2001,new_data2002,new_data2003,new_data2004,new_data2005,\\\n",
    "                    new_data2006,new_data2007,new_data2008,new_data2009,new_data2010,new_data2011,\\\n",
    "                    new_data2012,new_data2013,new_data2014,new_data2015,new_data2016,new_data2017],ignore_index=True) "
   ]
  },
  {
   "cell_type": "code",
   "execution_count": 61,
   "metadata": {
    "ExecuteTime": {
     "end_time": "2019-12-02T17:37:04.078899Z",
     "start_time": "2019-12-02T17:37:04.075522Z"
    }
   },
   "outputs": [
    {
     "data": {
      "text/plain": [
       "(13915, 24)"
      ]
     },
     "execution_count": 61,
     "metadata": {},
     "output_type": "execute_result"
    }
   ],
   "source": [
    "new_movies_.shape"
   ]
  },
  {
   "cell_type": "code",
   "execution_count": 62,
   "metadata": {
    "ExecuteTime": {
     "end_time": "2019-12-02T17:37:04.152630Z",
     "start_time": "2019-12-02T17:37:04.080673Z"
    }
   },
   "outputs": [],
   "source": [
    "new_movies_.drop_duplicates(keep='first',inplace=True)\n",
    "new_movies_.reset_index(drop=True,inplace=True)"
   ]
  },
  {
   "cell_type": "code",
   "execution_count": 63,
   "metadata": {
    "ExecuteTime": {
     "end_time": "2019-12-02T17:37:04.158004Z",
     "start_time": "2019-12-02T17:37:04.154258Z"
    }
   },
   "outputs": [
    {
     "data": {
      "text/plain": [
       "(8191, 24)"
      ]
     },
     "execution_count": 63,
     "metadata": {},
     "output_type": "execute_result"
    }
   ],
   "source": [
    "new_movies_.shape"
   ]
  },
  {
   "cell_type": "code",
   "execution_count": 64,
   "metadata": {
    "ExecuteTime": {
     "end_time": "2019-12-02T17:37:04.661111Z",
     "start_time": "2019-12-02T17:37:04.159495Z"
    }
   },
   "outputs": [
    {
     "data": {
      "image/png": "[encoded data removed]",
      "text/plain": [
       "<Figure size 1296x432 with 1 Axes>"
      ]
     },
     "metadata": {
      "needs_background": "light"
     },
     "output_type": "display_data"
    },
    {
     "name": "stdout",
     "output_type": "stream",
     "text": [
      "Title : % 0 With 3 missing values\n",
      "Year : % 0 With 2 missing values\n",
      "Rated : % 40 With 3305 missing values\n",
      "Released : % 9 With 780 missing values\n",
      "Runtime : % 12 With 1016 missing values\n",
      "Genre : % 5 With 451 missing values\n",
      "Director : % 2 With 243 missing values\n",
      "Writer : % 8 With 679 missing values\n",
      "Actors : % 3 With 292 missing values\n",
      "Plot : % 15 With 1265 missing values\n",
      "Language : % 3 With 251 missing values\n",
      "Country : % 2 With 172 missing values\n",
      "Awards : % 45 With 3730 missing values\n",
      "Ratings : % 0 With 3 missing values\n",
      "Metascore : % 51 With 4229 missing values\n",
      "imdbRating : % 18 With 1486 missing values\n",
      "imdbVotes : % 18 With 1486 missing values\n",
      "imdbID : % 0 With 3 missing values\n",
      "Type : % 0 With 3 missing values\n",
      "DVD : % 43 With 3572 missing values\n",
      "BoxOffice : % 62 With 5138 missing values\n",
      "Production : % 42 With 3456 missing values\n",
      "Website : % 99 With 8155 missing values\n",
      "Response : % 0 With 1 missing values\n"
     ]
    }
   ],
   "source": [
    "missing_heat_map(new_movies_)"
   ]
  },
  {
   "cell_type": "code",
   "execution_count": null,
   "metadata": {},
   "outputs": [],
   "source": []
  },
  {
   "cell_type": "code",
   "execution_count": 65,
   "metadata": {
    "ExecuteTime": {
     "end_time": "2019-12-02T17:37:04.666156Z",
     "start_time": "2019-12-02T17:37:04.662355Z"
    }
   },
   "outputs": [
    {
     "data": {
      "text/plain": [
       "Index(['Title', 'Year', 'Rated', 'Released', 'Runtime', 'Genre', 'Director',\n",
       "       'Writer', 'Actors', 'Plot', 'Language', 'Country', 'Awards', 'Ratings',\n",
       "       'Metascore', 'imdbRating', 'imdbVotes', 'imdbID', 'Type', 'DVD',\n",
       "       'BoxOffice', 'Production', 'Website', 'Response'],\n",
       "      dtype='object')"
      ]
     },
     "execution_count": 65,
     "metadata": {},
     "output_type": "execute_result"
    }
   ],
   "source": [
    "new_movies_.columns"
   ]
  },
  {
   "cell_type": "code",
   "execution_count": 66,
   "metadata": {
    "ExecuteTime": {
     "end_time": "2019-12-02T17:37:04.671351Z",
     "start_time": "2019-12-02T17:37:04.667575Z"
    }
   },
   "outputs": [
    {
     "data": {
      "text/plain": [
       "Index(['year', 'name', 'Movie_ID', 'runtime', 'cast', 'genre', 'country_codes',\n",
       "       'language_codes', 'certificates', 'Budget', 'OWUS', 'CWG', 'rating',\n",
       "       'votes', 'original_air_date', 'title', 'director', 'writer1', 'writer2',\n",
       "       'producer1', 'producer2', 'production_company1', 'production_company2',\n",
       "       'composers', 'editors', 'cinematographers', 'set_decorators',\n",
       "       'assistant_directors', 'visual_effects', 'date', 'Air_location',\n",
       "       'date_Match', 'english', 'multi_lang', 'US', 'Other_countries',\n",
       "       'Family', 'Western', 'Adventure', 'History', 'Film-Noir', 'Documentary',\n",
       "       'Fantasy', 'Sci-Fi', 'War', 'Talk-Show', 'Short', 'Reality-TV',\n",
       "       'Horror', 'Animation', 'Romance', 'Comedy', 'Music', 'Biography',\n",
       "       'Action', 'Sport', 'Mystery', 'Drama', 'Crime', 'News', 'Game-Show',\n",
       "       'Musical', 'Thriller'],\n",
       "      dtype='object')"
      ]
     },
     "execution_count": 66,
     "metadata": {},
     "output_type": "execute_result"
    }
   ],
   "source": [
    "Movies_.columns"
   ]
  },
  {
   "cell_type": "code",
   "execution_count": 67,
   "metadata": {
    "ExecuteTime": {
     "end_time": "2019-12-02T17:37:04.677417Z",
     "start_time": "2019-12-02T17:37:04.672767Z"
    }
   },
   "outputs": [
    {
     "data": {
      "text/plain": [
       "0       $124,420,707\n",
       "1                NaN\n",
       "2       $259,011,600\n",
       "3         $2,546,851\n",
       "4       $114,297,071\n",
       "            ...     \n",
       "8186             NaN\n",
       "8187             NaN\n",
       "8188             NaN\n",
       "8189             NaN\n",
       "8190             NaN\n",
       "Name: BoxOffice, Length: 8191, dtype: object"
      ]
     },
     "execution_count": 67,
     "metadata": {},
     "output_type": "execute_result"
    }
   ],
   "source": [
    "new_movies_['BoxOffice']"
   ]
  },
  {
   "cell_type": "code",
   "execution_count": 68,
   "metadata": {
    "ExecuteTime": {
     "end_time": "2019-12-02T17:37:04.684071Z",
     "start_time": "2019-12-02T17:37:04.682008Z"
    }
   },
   "outputs": [],
   "source": [
    "#not_matched"
   ]
  },
  {
   "cell_type": "code",
   "execution_count": 69,
   "metadata": {
    "ExecuteTime": {
     "end_time": "2019-12-02T17:37:04.688403Z",
     "start_time": "2019-12-02T17:37:04.686010Z"
    },
    "scrolled": false
   },
   "outputs": [],
   "source": [
    "# for i in not_matched:\n",
    "#     count = 0\n",
    "#     if i not in new_movies_['Title']:\n",
    "#         print(i)"
   ]
  },
  {
   "cell_type": "code",
   "execution_count": 70,
   "metadata": {
    "ExecuteTime": {
     "end_time": "2019-12-02T17:37:04.707879Z",
     "start_time": "2019-12-02T17:37:04.690047Z"
    }
   },
   "outputs": [
    {
     "data": {
      "text/plain": [
       "67319"
      ]
     },
     "execution_count": 70,
     "metadata": {},
     "output_type": "execute_result"
    }
   ],
   "source": [
    "Movies_.isnull().sum().sum()"
   ]
  },
  {
   "cell_type": "code",
   "execution_count": 71,
   "metadata": {
    "ExecuteTime": {
     "end_time": "2019-12-02T17:37:04.720123Z",
     "start_time": "2019-12-02T17:37:04.709352Z"
    }
   },
   "outputs": [
    {
     "data": {
      "text/plain": [
       "39721"
      ]
     },
     "execution_count": 71,
     "metadata": {},
     "output_type": "execute_result"
    }
   ],
   "source": [
    "new_movies_.isnull().sum().sum()"
   ]
  },
  {
   "cell_type": "code",
   "execution_count": 72,
   "metadata": {
    "ExecuteTime": {
     "end_time": "2019-12-02T17:37:04.725725Z",
     "start_time": "2019-12-02T17:37:04.721739Z"
    }
   },
   "outputs": [
    {
     "data": {
      "text/plain": [
       "(9654, 63)"
      ]
     },
     "execution_count": 72,
     "metadata": {},
     "output_type": "execute_result"
    }
   ],
   "source": [
    "Movies_.shape"
   ]
  },
  {
   "cell_type": "code",
   "execution_count": 73,
   "metadata": {
    "ExecuteTime": {
     "end_time": "2019-12-02T17:37:04.731341Z",
     "start_time": "2019-12-02T17:37:04.727232Z"
    }
   },
   "outputs": [
    {
     "data": {
      "text/plain": [
       "(8191, 24)"
      ]
     },
     "execution_count": 73,
     "metadata": {},
     "output_type": "execute_result"
    }
   ],
   "source": [
    "new_movies_.shape"
   ]
  },
  {
   "cell_type": "code",
   "execution_count": 74,
   "metadata": {
    "ExecuteTime": {
     "end_time": "2019-12-02T17:37:04.768210Z",
     "start_time": "2019-12-02T17:37:04.732930Z"
    }
   },
   "outputs": [],
   "source": [
    "whole_df = pd.merge(left=Movies_,right=new_movies_, how='left', left_on='name', right_on='Title')"
   ]
  },
  {
   "cell_type": "code",
   "execution_count": 75,
   "metadata": {
    "ExecuteTime": {
     "end_time": "2019-12-02T17:37:04.773754Z",
     "start_time": "2019-12-02T17:37:04.769582Z"
    }
   },
   "outputs": [
    {
     "data": {
      "text/plain": [
       "(9844, 87)"
      ]
     },
     "execution_count": 75,
     "metadata": {},
     "output_type": "execute_result"
    }
   ],
   "source": [
    "whole_df.shape"
   ]
  },
  {
   "cell_type": "code",
   "execution_count": 76,
   "metadata": {
    "ExecuteTime": {
     "end_time": "2019-12-02T17:37:04.797205Z",
     "start_time": "2019-12-02T17:37:04.775347Z"
    }
   },
   "outputs": [
    {
     "data": {
      "text/html": [
       "<div>\n",
       "<style scoped>\n",
       "    .dataframe tbody tr th:only-of-type {\n",
       "        vertical-align: middle;\n",
       "    }\n",
       "\n",
       "    .dataframe tbody tr th {\n",
       "        vertical-align: top;\n",
       "    }\n",
       "\n",
       "    .dataframe thead th {\n",
       "        text-align: right;\n",
       "    }\n",
       "</style>\n",
       "<table border=\"1\" class=\"dataframe\">\n",
       "  <thead>\n",
       "    <tr style=\"text-align: right;\">\n",
       "      <th></th>\n",
       "      <th>year</th>\n",
       "      <th>name</th>\n",
       "      <th>Movie_ID</th>\n",
       "      <th>runtime</th>\n",
       "      <th>cast</th>\n",
       "      <th>genre</th>\n",
       "      <th>country_codes</th>\n",
       "      <th>language_codes</th>\n",
       "      <th>certificates</th>\n",
       "      <th>Budget</th>\n",
       "      <th>...</th>\n",
       "      <th>Metascore</th>\n",
       "      <th>imdbRating</th>\n",
       "      <th>imdbVotes</th>\n",
       "      <th>imdbID</th>\n",
       "      <th>Type</th>\n",
       "      <th>DVD</th>\n",
       "      <th>BoxOffice</th>\n",
       "      <th>Production</th>\n",
       "      <th>Website</th>\n",
       "      <th>Response</th>\n",
       "    </tr>\n",
       "  </thead>\n",
       "  <tbody>\n",
       "    <tr>\n",
       "      <td>0</td>\n",
       "      <td>2000</td>\n",
       "      <td>Charlie's Angels</td>\n",
       "      <td>5033998</td>\n",
       "      <td>118.0</td>\n",
       "      <td>['Kristen Stewart', 'Naomi Scott', 'Ella Balin...</td>\n",
       "      <td>['Action', 'Adventure', 'Comedy']</td>\n",
       "      <td>['us']</td>\n",
       "      <td>['en']</td>\n",
       "      <td>PG-13</td>\n",
       "      <td>48000000.0</td>\n",
       "      <td>...</td>\n",
       "      <td>52.0</td>\n",
       "      <td>5.5</td>\n",
       "      <td>166,304</td>\n",
       "      <td>tt0160127</td>\n",
       "      <td>movie</td>\n",
       "      <td>11 Dec 2001</td>\n",
       "      <td>$124,420,707</td>\n",
       "      <td>Columbia Pictures</td>\n",
       "      <td>NaN</td>\n",
       "      <td>True</td>\n",
       "    </tr>\n",
       "    <tr>\n",
       "      <td>1</td>\n",
       "      <td>2000</td>\n",
       "      <td>Gladiator</td>\n",
       "      <td>172495</td>\n",
       "      <td>155.0</td>\n",
       "      <td>['Russell Crowe', 'Joaquin Phoenix', 'Connie N...</td>\n",
       "      <td>['Action', 'Adventure', 'Drama']</td>\n",
       "      <td>['us', 'gb', 'mt', 'ma']</td>\n",
       "      <td>['en']</td>\n",
       "      <td>PG-13</td>\n",
       "      <td>103000000.0</td>\n",
       "      <td>...</td>\n",
       "      <td>67.0</td>\n",
       "      <td>8.5</td>\n",
       "      <td>1,244,066</td>\n",
       "      <td>tt0172495</td>\n",
       "      <td>movie</td>\n",
       "      <td>21 Nov 2000</td>\n",
       "      <td>NaN</td>\n",
       "      <td>Dreamworks Distribution LLC</td>\n",
       "      <td>NaN</td>\n",
       "      <td>True</td>\n",
       "    </tr>\n",
       "    <tr>\n",
       "      <td>2</td>\n",
       "      <td>2000</td>\n",
       "      <td>How the Grinch Stole Christmas</td>\n",
       "      <td>2709692</td>\n",
       "      <td>85.0</td>\n",
       "      <td>['Benedict Cumberbatch', 'Cameron Seely', 'Ras...</td>\n",
       "      <td>['Animation', 'Family', 'Fantasy']</td>\n",
       "      <td>['fr', 'jp', 'us']</td>\n",
       "      <td>['en']</td>\n",
       "      <td>PG</td>\n",
       "      <td>75000000.0</td>\n",
       "      <td>...</td>\n",
       "      <td>46.0</td>\n",
       "      <td>6.1</td>\n",
       "      <td>185,959</td>\n",
       "      <td>tt0170016</td>\n",
       "      <td>movie</td>\n",
       "      <td>20 Nov 2001</td>\n",
       "      <td>$259,011,600</td>\n",
       "      <td>Universal Pictures</td>\n",
       "      <td>NaN</td>\n",
       "      <td>True</td>\n",
       "    </tr>\n",
       "    <tr>\n",
       "      <td>3</td>\n",
       "      <td>2000</td>\n",
       "      <td>Requiem for a Dream</td>\n",
       "      <td>180093</td>\n",
       "      <td>102.0</td>\n",
       "      <td>['Ellen Burstyn', 'Jared Leto', 'Jennifer Conn...</td>\n",
       "      <td>['Drama']</td>\n",
       "      <td>['us']</td>\n",
       "      <td>['en']</td>\n",
       "      <td>Unrated</td>\n",
       "      <td>4500000.0</td>\n",
       "      <td>...</td>\n",
       "      <td>68.0</td>\n",
       "      <td>8.3</td>\n",
       "      <td>717,403</td>\n",
       "      <td>tt0180093</td>\n",
       "      <td>movie</td>\n",
       "      <td>22 May 2001</td>\n",
       "      <td>$2,546,851</td>\n",
       "      <td>Artisan Entertainment</td>\n",
       "      <td>NaN</td>\n",
       "      <td>True</td>\n",
       "    </tr>\n",
       "    <tr>\n",
       "      <td>4</td>\n",
       "      <td>2000</td>\n",
       "      <td>Remember the Titans</td>\n",
       "      <td>210945</td>\n",
       "      <td>113.0</td>\n",
       "      <td>['Denzel Washington', 'Will Patton', 'Wood Har...</td>\n",
       "      <td>['Biography', 'Drama', 'Sport']</td>\n",
       "      <td>['us']</td>\n",
       "      <td>['en']</td>\n",
       "      <td>PG</td>\n",
       "      <td>30000000.0</td>\n",
       "      <td>...</td>\n",
       "      <td>48.0</td>\n",
       "      <td>7.8</td>\n",
       "      <td>186,791</td>\n",
       "      <td>tt0210945</td>\n",
       "      <td>movie</td>\n",
       "      <td>20 Mar 2001</td>\n",
       "      <td>$114,297,071</td>\n",
       "      <td>Walt Disney Pictures</td>\n",
       "      <td>NaN</td>\n",
       "      <td>True</td>\n",
       "    </tr>\n",
       "  </tbody>\n",
       "</table>\n",
       "<p>5 rows × 87 columns</p>\n",
       "</div>"
      ],
      "text/plain": [
       "   year                            name  Movie_ID  runtime  \\\n",
       "0  2000                Charlie's Angels   5033998    118.0   \n",
       "1  2000                       Gladiator    172495    155.0   \n",
       "2  2000  How the Grinch Stole Christmas   2709692     85.0   \n",
       "3  2000             Requiem for a Dream    180093    102.0   \n",
       "4  2000             Remember the Titans    210945    113.0   \n",
       "\n",
       "                                                cast  \\\n",
       "0  ['Kristen Stewart', 'Naomi Scott', 'Ella Balin...   \n",
       "1  ['Russell Crowe', 'Joaquin Phoenix', 'Connie N...   \n",
       "2  ['Benedict Cumberbatch', 'Cameron Seely', 'Ras...   \n",
       "3  ['Ellen Burstyn', 'Jared Leto', 'Jennifer Conn...   \n",
       "4  ['Denzel Washington', 'Will Patton', 'Wood Har...   \n",
       "\n",
       "                                genre             country_codes  \\\n",
       "0   ['Action', 'Adventure', 'Comedy']                    ['us']   \n",
       "1    ['Action', 'Adventure', 'Drama']  ['us', 'gb', 'mt', 'ma']   \n",
       "2  ['Animation', 'Family', 'Fantasy']        ['fr', 'jp', 'us']   \n",
       "3                           ['Drama']                    ['us']   \n",
       "4     ['Biography', 'Drama', 'Sport']                    ['us']   \n",
       "\n",
       "  language_codes certificates       Budget  ... Metascore  imdbRating  \\\n",
       "0         ['en']        PG-13   48000000.0  ...      52.0         5.5   \n",
       "1         ['en']        PG-13  103000000.0  ...      67.0         8.5   \n",
       "2         ['en']           PG   75000000.0  ...      46.0         6.1   \n",
       "3         ['en']      Unrated    4500000.0  ...      68.0         8.3   \n",
       "4         ['en']           PG   30000000.0  ...      48.0         7.8   \n",
       "\n",
       "   imdbVotes     imdbID   Type          DVD     BoxOffice  \\\n",
       "0    166,304  tt0160127  movie  11 Dec 2001  $124,420,707   \n",
       "1  1,244,066  tt0172495  movie  21 Nov 2000           NaN   \n",
       "2    185,959  tt0170016  movie  20 Nov 2001  $259,011,600   \n",
       "3    717,403  tt0180093  movie  22 May 2001    $2,546,851   \n",
       "4    186,791  tt0210945  movie  20 Mar 2001  $114,297,071   \n",
       "\n",
       "                    Production Website Response  \n",
       "0            Columbia Pictures     NaN     True  \n",
       "1  Dreamworks Distribution LLC     NaN     True  \n",
       "2           Universal Pictures     NaN     True  \n",
       "3        Artisan Entertainment     NaN     True  \n",
       "4         Walt Disney Pictures     NaN     True  \n",
       "\n",
       "[5 rows x 87 columns]"
      ]
     },
     "execution_count": 76,
     "metadata": {},
     "output_type": "execute_result"
    }
   ],
   "source": [
    "whole_df.head()"
   ]
  },
  {
   "cell_type": "code",
   "execution_count": 77,
   "metadata": {
    "ExecuteTime": {
     "end_time": "2019-12-02T17:37:04.803017Z",
     "start_time": "2019-12-02T17:37:04.798734Z"
    }
   },
   "outputs": [
    {
     "data": {
      "text/plain": [
       "Index(['year', 'name', 'Movie_ID', 'runtime', 'cast', 'genre', 'country_codes',\n",
       "       'language_codes', 'certificates', 'Budget', 'OWUS', 'CWG', 'rating',\n",
       "       'votes', 'original_air_date', 'title', 'director', 'writer1', 'writer2',\n",
       "       'producer1', 'producer2', 'production_company1', 'production_company2',\n",
       "       'composers', 'editors', 'cinematographers', 'set_decorators',\n",
       "       'assistant_directors', 'visual_effects', 'date', 'Air_location',\n",
       "       'date_Match', 'english', 'multi_lang', 'US', 'Other_countries',\n",
       "       'Family', 'Western', 'Adventure', 'History', 'Film-Noir', 'Documentary',\n",
       "       'Fantasy', 'Sci-Fi', 'War', 'Talk-Show', 'Short', 'Reality-TV',\n",
       "       'Horror', 'Animation', 'Romance', 'Comedy', 'Music', 'Biography',\n",
       "       'Action', 'Sport', 'Mystery', 'Drama', 'Crime', 'News', 'Game-Show',\n",
       "       'Musical', 'Thriller', 'Title', 'Year', 'Rated', 'Released', 'Runtime',\n",
       "       'Genre', 'Director', 'Writer', 'Actors', 'Plot', 'Language', 'Country',\n",
       "       'Awards', 'Ratings', 'Metascore', 'imdbRating', 'imdbVotes', 'imdbID',\n",
       "       'Type', 'DVD', 'BoxOffice', 'Production', 'Website', 'Response'],\n",
       "      dtype='object')"
      ]
     },
     "execution_count": 77,
     "metadata": {},
     "output_type": "execute_result"
    }
   ],
   "source": [
    "whole_df.columns"
   ]
  },
  {
   "cell_type": "markdown",
   "metadata": {},
   "source": [
    "### Comparing Features"
   ]
  },
  {
   "cell_type": "code",
   "execution_count": 78,
   "metadata": {
    "ExecuteTime": {
     "end_time": "2019-12-02T17:37:04.877853Z",
     "start_time": "2019-12-02T17:37:04.804606Z"
    }
   },
   "outputs": [
    {
     "data": {
      "text/html": [
       "<div>\n",
       "<style scoped>\n",
       "    .dataframe tbody tr th:only-of-type {\n",
       "        vertical-align: middle;\n",
       "    }\n",
       "\n",
       "    .dataframe tbody tr th {\n",
       "        vertical-align: top;\n",
       "    }\n",
       "\n",
       "    .dataframe thead th {\n",
       "        text-align: right;\n",
       "    }\n",
       "</style>\n",
       "<table border=\"1\" class=\"dataframe\">\n",
       "  <thead>\n",
       "    <tr style=\"text-align: right;\">\n",
       "      <th></th>\n",
       "      <th>runtime</th>\n",
       "      <th>Runtime</th>\n",
       "    </tr>\n",
       "  </thead>\n",
       "  <tbody>\n",
       "    <tr>\n",
       "      <td>0</td>\n",
       "      <td>118.0</td>\n",
       "      <td>98 min</td>\n",
       "    </tr>\n",
       "    <tr>\n",
       "      <td>1</td>\n",
       "      <td>155.0</td>\n",
       "      <td>155 min</td>\n",
       "    </tr>\n",
       "    <tr>\n",
       "      <td>2</td>\n",
       "      <td>85.0</td>\n",
       "      <td>104 min</td>\n",
       "    </tr>\n",
       "    <tr>\n",
       "      <td>3</td>\n",
       "      <td>102.0</td>\n",
       "      <td>102 min</td>\n",
       "    </tr>\n",
       "    <tr>\n",
       "      <td>4</td>\n",
       "      <td>113.0</td>\n",
       "      <td>113 min</td>\n",
       "    </tr>\n",
       "    <tr>\n",
       "      <td>...</td>\n",
       "      <td>...</td>\n",
       "      <td>...</td>\n",
       "    </tr>\n",
       "    <tr>\n",
       "      <td>95</td>\n",
       "      <td>120.0</td>\n",
       "      <td>120 min</td>\n",
       "    </tr>\n",
       "    <tr>\n",
       "      <td>96</td>\n",
       "      <td>99.0</td>\n",
       "      <td>99 min</td>\n",
       "    </tr>\n",
       "    <tr>\n",
       "      <td>97</td>\n",
       "      <td>186.0</td>\n",
       "      <td>186 min</td>\n",
       "    </tr>\n",
       "    <tr>\n",
       "      <td>98</td>\n",
       "      <td>107.0</td>\n",
       "      <td>107 min</td>\n",
       "    </tr>\n",
       "    <tr>\n",
       "      <td>99</td>\n",
       "      <td>115.0</td>\n",
       "      <td>115 min</td>\n",
       "    </tr>\n",
       "  </tbody>\n",
       "</table>\n",
       "<p>100 rows × 2 columns</p>\n",
       "</div>"
      ],
      "text/plain": [
       "    runtime  Runtime\n",
       "0     118.0   98 min\n",
       "1     155.0  155 min\n",
       "2      85.0  104 min\n",
       "3     102.0  102 min\n",
       "4     113.0  113 min\n",
       "..      ...      ...\n",
       "95    120.0  120 min\n",
       "96     99.0   99 min\n",
       "97    186.0  186 min\n",
       "98    107.0  107 min\n",
       "99    115.0  115 min\n",
       "\n",
       "[100 rows x 2 columns]"
      ]
     },
     "execution_count": 78,
     "metadata": {},
     "output_type": "execute_result"
    }
   ],
   "source": [
    "whole_df[['runtime','Runtime']].head(100)"
   ]
  },
  {
   "cell_type": "code",
   "execution_count": 79,
   "metadata": {
    "ExecuteTime": {
     "end_time": "2019-12-02T17:37:04.889816Z",
     "start_time": "2019-12-02T17:37:04.879349Z"
    }
   },
   "outputs": [
    {
     "data": {
      "text/html": [
       "<div>\n",
       "<style scoped>\n",
       "    .dataframe tbody tr th:only-of-type {\n",
       "        vertical-align: middle;\n",
       "    }\n",
       "\n",
       "    .dataframe tbody tr th {\n",
       "        vertical-align: top;\n",
       "    }\n",
       "\n",
       "    .dataframe thead th {\n",
       "        text-align: right;\n",
       "    }\n",
       "</style>\n",
       "<table border=\"1\" class=\"dataframe\">\n",
       "  <thead>\n",
       "    <tr style=\"text-align: right;\">\n",
       "      <th></th>\n",
       "      <th>cast</th>\n",
       "      <th>Actors</th>\n",
       "    </tr>\n",
       "  </thead>\n",
       "  <tbody>\n",
       "    <tr>\n",
       "      <td>0</td>\n",
       "      <td>['Kristen Stewart', 'Naomi Scott', 'Ella Balin...</td>\n",
       "      <td>Cameron Diaz, Drew Barrymore, Lucy Liu, Bill M...</td>\n",
       "    </tr>\n",
       "    <tr>\n",
       "      <td>1</td>\n",
       "      <td>['Russell Crowe', 'Joaquin Phoenix', 'Connie N...</td>\n",
       "      <td>Russell Crowe, Joaquin Phoenix, Connie Nielsen...</td>\n",
       "    </tr>\n",
       "    <tr>\n",
       "      <td>2</td>\n",
       "      <td>['Benedict Cumberbatch', 'Cameron Seely', 'Ras...</td>\n",
       "      <td>Jim Carrey, Taylor Momsen, Kelley, Jeffrey Tambor</td>\n",
       "    </tr>\n",
       "    <tr>\n",
       "      <td>3</td>\n",
       "      <td>['Ellen Burstyn', 'Jared Leto', 'Jennifer Conn...</td>\n",
       "      <td>Ellen Burstyn, Jared Leto, Jennifer Connelly, ...</td>\n",
       "    </tr>\n",
       "    <tr>\n",
       "      <td>4</td>\n",
       "      <td>['Denzel Washington', 'Will Patton', 'Wood Har...</td>\n",
       "      <td>Denzel Washington, Will Patton, Wood Harris, R...</td>\n",
       "    </tr>\n",
       "    <tr>\n",
       "      <td>...</td>\n",
       "      <td>...</td>\n",
       "      <td>...</td>\n",
       "    </tr>\n",
       "    <tr>\n",
       "      <td>95</td>\n",
       "      <td>['Natalie Portman', 'Ashley Judd', 'Stockard C...</td>\n",
       "      <td>Natalie Portman, Ashley Judd, Stockard Channin...</td>\n",
       "    </tr>\n",
       "    <tr>\n",
       "      <td>96</td>\n",
       "      <td>['Martin Lawrence', 'Nia Long', 'Paul Giamatti...</td>\n",
       "      <td>Martin Lawrence, Nia Long, Paul Giamatti, Jasc...</td>\n",
       "    </tr>\n",
       "    <tr>\n",
       "      <td>97</td>\n",
       "      <td>['Kamal Haasan', 'Shah Rukh Khan', 'Rani Muker...</td>\n",
       "      <td>Kamal Haasan, Shah Rukh Khan, Rani Mukerji, He...</td>\n",
       "    </tr>\n",
       "    <tr>\n",
       "      <td>98</td>\n",
       "      <td>['Michael Douglas', 'Tobey Maguire', 'Frances ...</td>\n",
       "      <td>Michael Douglas, Tobey Maguire, Frances McDorm...</td>\n",
       "    </tr>\n",
       "    <tr>\n",
       "      <td>99</td>\n",
       "      <td>['Jet Li', 'Aaliyah', 'Isaiah Washington', 'Ru...</td>\n",
       "      <td>Jet Li, Aaliyah, Isaiah Washington, Russell Wong</td>\n",
       "    </tr>\n",
       "  </tbody>\n",
       "</table>\n",
       "<p>100 rows × 2 columns</p>\n",
       "</div>"
      ],
      "text/plain": [
       "                                                 cast  \\\n",
       "0   ['Kristen Stewart', 'Naomi Scott', 'Ella Balin...   \n",
       "1   ['Russell Crowe', 'Joaquin Phoenix', 'Connie N...   \n",
       "2   ['Benedict Cumberbatch', 'Cameron Seely', 'Ras...   \n",
       "3   ['Ellen Burstyn', 'Jared Leto', 'Jennifer Conn...   \n",
       "4   ['Denzel Washington', 'Will Patton', 'Wood Har...   \n",
       "..                                                ...   \n",
       "95  ['Natalie Portman', 'Ashley Judd', 'Stockard C...   \n",
       "96  ['Martin Lawrence', 'Nia Long', 'Paul Giamatti...   \n",
       "97  ['Kamal Haasan', 'Shah Rukh Khan', 'Rani Muker...   \n",
       "98  ['Michael Douglas', 'Tobey Maguire', 'Frances ...   \n",
       "99  ['Jet Li', 'Aaliyah', 'Isaiah Washington', 'Ru...   \n",
       "\n",
       "                                               Actors  \n",
       "0   Cameron Diaz, Drew Barrymore, Lucy Liu, Bill M...  \n",
       "1   Russell Crowe, Joaquin Phoenix, Connie Nielsen...  \n",
       "2   Jim Carrey, Taylor Momsen, Kelley, Jeffrey Tambor  \n",
       "3   Ellen Burstyn, Jared Leto, Jennifer Connelly, ...  \n",
       "4   Denzel Washington, Will Patton, Wood Harris, R...  \n",
       "..                                                ...  \n",
       "95  Natalie Portman, Ashley Judd, Stockard Channin...  \n",
       "96  Martin Lawrence, Nia Long, Paul Giamatti, Jasc...  \n",
       "97  Kamal Haasan, Shah Rukh Khan, Rani Mukerji, He...  \n",
       "98  Michael Douglas, Tobey Maguire, Frances McDorm...  \n",
       "99   Jet Li, Aaliyah, Isaiah Washington, Russell Wong  \n",
       "\n",
       "[100 rows x 2 columns]"
      ]
     },
     "execution_count": 79,
     "metadata": {},
     "output_type": "execute_result"
    }
   ],
   "source": [
    "whole_df[['cast','Actors']].head(100)"
   ]
  },
  {
   "cell_type": "code",
   "execution_count": 83,
   "metadata": {
    "ExecuteTime": {
     "end_time": "2019-12-02T17:39:51.121593Z",
     "start_time": "2019-12-02T17:39:51.101772Z"
    }
   },
   "outputs": [
    {
     "data": {
      "text/html": [
       "<div>\n",
       "<style scoped>\n",
       "    .dataframe tbody tr th:only-of-type {\n",
       "        vertical-align: middle;\n",
       "    }\n",
       "\n",
       "    .dataframe tbody tr th {\n",
       "        vertical-align: top;\n",
       "    }\n",
       "\n",
       "    .dataframe thead th {\n",
       "        text-align: right;\n",
       "    }\n",
       "</style>\n",
       "<table border=\"1\" class=\"dataframe\">\n",
       "  <thead>\n",
       "    <tr style=\"text-align: right;\">\n",
       "      <th></th>\n",
       "      <th>Budget</th>\n",
       "      <th>OWUS</th>\n",
       "      <th>CWG</th>\n",
       "      <th>BoxOffice</th>\n",
       "    </tr>\n",
       "  </thead>\n",
       "  <tbody>\n",
       "    <tr>\n",
       "      <td>0</td>\n",
       "      <td>48000000.0</td>\n",
       "      <td>NaN</td>\n",
       "      <td>NaN</td>\n",
       "      <td>$124,420,707</td>\n",
       "    </tr>\n",
       "    <tr>\n",
       "      <td>1</td>\n",
       "      <td>103000000.0</td>\n",
       "      <td>34819017</td>\n",
       "      <td>NaN</td>\n",
       "      <td>NaN</td>\n",
       "    </tr>\n",
       "    <tr>\n",
       "      <td>2</td>\n",
       "      <td>75000000.0</td>\n",
       "      <td>NaN</td>\n",
       "      <td>511565348.0</td>\n",
       "      <td>$259,011,600</td>\n",
       "    </tr>\n",
       "    <tr>\n",
       "      <td>3</td>\n",
       "      <td>4500000.0</td>\n",
       "      <td>64770</td>\n",
       "      <td>7390108.0</td>\n",
       "      <td>$2,546,851</td>\n",
       "    </tr>\n",
       "    <tr>\n",
       "      <td>4</td>\n",
       "      <td>30000000.0</td>\n",
       "      <td>20905831</td>\n",
       "      <td>136706683.0</td>\n",
       "      <td>$114,297,071</td>\n",
       "    </tr>\n",
       "    <tr>\n",
       "      <td>5</td>\n",
       "      <td>7000000.0</td>\n",
       "      <td>4961015</td>\n",
       "      <td>34266564.0</td>\n",
       "      <td>NaN</td>\n",
       "    </tr>\n",
       "    <tr>\n",
       "      <td>6</td>\n",
       "      <td>NaN</td>\n",
       "      <td>NaN</td>\n",
       "      <td>83557872.0</td>\n",
       "      <td>$30,093,107</td>\n",
       "    </tr>\n",
       "    <tr>\n",
       "      <td>7</td>\n",
       "      <td>50000000.0</td>\n",
       "      <td>11039214</td>\n",
       "      <td>5317452.0</td>\n",
       "      <td>$44,004,460</td>\n",
       "    </tr>\n",
       "    <tr>\n",
       "      <td>8</td>\n",
       "      <td>9000000.0</td>\n",
       "      <td>235488</td>\n",
       "      <td>39723096.0</td>\n",
       "      <td>$23,844,220</td>\n",
       "    </tr>\n",
       "    <tr>\n",
       "      <td>9</td>\n",
       "      <td>110000000.0</td>\n",
       "      <td>22413710</td>\n",
       "      <td>215294342.0</td>\n",
       "      <td>$2,317,507</td>\n",
       "    </tr>\n",
       "    <tr>\n",
       "      <td>10</td>\n",
       "      <td>NaN</td>\n",
       "      <td>NaN</td>\n",
       "      <td>NaN</td>\n",
       "      <td>$156,164,829</td>\n",
       "    </tr>\n",
       "    <tr>\n",
       "      <td>11</td>\n",
       "      <td>60000000.0</td>\n",
       "      <td>2314646</td>\n",
       "      <td>14848839.0</td>\n",
       "      <td>$31,716,715</td>\n",
       "    </tr>\n",
       "    <tr>\n",
       "      <td>12</td>\n",
       "      <td>14000000.0</td>\n",
       "      <td>6354586</td>\n",
       "      <td>173046663.0</td>\n",
       "      <td>NaN</td>\n",
       "    </tr>\n",
       "    <tr>\n",
       "      <td>13</td>\n",
       "      <td>NaN</td>\n",
       "      <td>NaN</td>\n",
       "      <td>NaN</td>\n",
       "      <td>NaN</td>\n",
       "    </tr>\n",
       "    <tr>\n",
       "      <td>14</td>\n",
       "      <td>90000000.0</td>\n",
       "      <td>28883406</td>\n",
       "      <td>NaN</td>\n",
       "      <td>NaN</td>\n",
       "    </tr>\n",
       "    <tr>\n",
       "      <td>15</td>\n",
       "      <td>75000000.0</td>\n",
       "      <td>30330771</td>\n",
       "      <td>154500000.0</td>\n",
       "      <td>$95,000,000</td>\n",
       "    </tr>\n",
       "    <tr>\n",
       "      <td>16</td>\n",
       "      <td>127500000.0</td>\n",
       "      <td>38854851</td>\n",
       "      <td>354248063.0</td>\n",
       "      <td>$135,606,304</td>\n",
       "    </tr>\n",
       "    <tr>\n",
       "      <td>17</td>\n",
       "      <td>45000000.0</td>\n",
       "      <td>17319282</td>\n",
       "      <td>113916474.0</td>\n",
       "      <td>NaN</td>\n",
       "    </tr>\n",
       "    <tr>\n",
       "      <td>18</td>\n",
       "      <td>52000000.0</td>\n",
       "      <td>28138465</td>\n",
       "      <td>256271286.0</td>\n",
       "      <td>NaN</td>\n",
       "    </tr>\n",
       "    <tr>\n",
       "      <td>19</td>\n",
       "      <td>5000000.0</td>\n",
       "      <td>NaN</td>\n",
       "      <td>109280263.0</td>\n",
       "      <td>NaN</td>\n",
       "    </tr>\n",
       "    <tr>\n",
       "      <td>20</td>\n",
       "      <td>26000000.0</td>\n",
       "      <td>NaN</td>\n",
       "      <td>75769783.0</td>\n",
       "      <td>$45,150,731</td>\n",
       "    </tr>\n",
       "    <tr>\n",
       "      <td>21</td>\n",
       "      <td>100000000.0</td>\n",
       "      <td>9812302</td>\n",
       "      <td>169327687.0</td>\n",
       "      <td>$87,320,505</td>\n",
       "    </tr>\n",
       "    <tr>\n",
       "      <td>22</td>\n",
       "      <td>25000000.0</td>\n",
       "      <td>NaN</td>\n",
       "      <td>81190583.0</td>\n",
       "      <td>NaN</td>\n",
       "    </tr>\n",
       "    <tr>\n",
       "      <td>23</td>\n",
       "      <td>25000000.0</td>\n",
       "      <td>NaN</td>\n",
       "      <td>81190583.0</td>\n",
       "      <td>NaN</td>\n",
       "    </tr>\n",
       "    <tr>\n",
       "      <td>24</td>\n",
       "      <td>NaN</td>\n",
       "      <td>NaN</td>\n",
       "      <td>NaN</td>\n",
       "      <td>NaN</td>\n",
       "    </tr>\n",
       "    <tr>\n",
       "      <td>25</td>\n",
       "      <td>41300000.0</td>\n",
       "      <td>15915676</td>\n",
       "      <td>106371651.0</td>\n",
       "      <td>$57,262,492</td>\n",
       "    </tr>\n",
       "    <tr>\n",
       "      <td>26</td>\n",
       "      <td>11000000.0</td>\n",
       "      <td>17362105</td>\n",
       "      <td>NaN</td>\n",
       "      <td>$67,905,760</td>\n",
       "    </tr>\n",
       "    <tr>\n",
       "      <td>27</td>\n",
       "      <td>125000000.0</td>\n",
       "      <td>57845297</td>\n",
       "      <td>565400000.0</td>\n",
       "      <td>NaN</td>\n",
       "    </tr>\n",
       "    <tr>\n",
       "      <td>28</td>\n",
       "      <td>90000000.0</td>\n",
       "      <td>25336048</td>\n",
       "      <td>237202299.0</td>\n",
       "      <td>NaN</td>\n",
       "    </tr>\n",
       "    <tr>\n",
       "      <td>29</td>\n",
       "      <td>16000000.0</td>\n",
       "      <td>15484004</td>\n",
       "      <td>119754278.0</td>\n",
       "      <td>NaN</td>\n",
       "    </tr>\n",
       "    <tr>\n",
       "      <td>30</td>\n",
       "      <td>NaN</td>\n",
       "      <td>NaN</td>\n",
       "      <td>13834044.0</td>\n",
       "      <td>NaN</td>\n",
       "    </tr>\n",
       "    <tr>\n",
       "      <td>31</td>\n",
       "      <td>33000000.0</td>\n",
       "      <td>17515050</td>\n",
       "      <td>104155843.0</td>\n",
       "      <td>NaN</td>\n",
       "    </tr>\n",
       "    <tr>\n",
       "      <td>32</td>\n",
       "      <td>23000000.0</td>\n",
       "      <td>10015822</td>\n",
       "      <td>112880294.0</td>\n",
       "      <td>NaN</td>\n",
       "    </tr>\n",
       "    <tr>\n",
       "      <td>33</td>\n",
       "      <td>50000000.0</td>\n",
       "      <td>15277921</td>\n",
       "      <td>144056873.0</td>\n",
       "      <td>NaN</td>\n",
       "    </tr>\n",
       "    <tr>\n",
       "      <td>34</td>\n",
       "      <td>95000000.0</td>\n",
       "      <td>26414386</td>\n",
       "      <td>118000000.0</td>\n",
       "      <td>$72,055,301</td>\n",
       "    </tr>\n",
       "    <tr>\n",
       "      <td>35</td>\n",
       "      <td>NaN</td>\n",
       "      <td>NaN</td>\n",
       "      <td>NaN</td>\n",
       "      <td>NaN</td>\n",
       "    </tr>\n",
       "    <tr>\n",
       "      <td>36</td>\n",
       "      <td>48000000.0</td>\n",
       "      <td>15517549</td>\n",
       "      <td>207515725.0</td>\n",
       "      <td>$123,836,420</td>\n",
       "    </tr>\n",
       "    <tr>\n",
       "      <td>37</td>\n",
       "      <td>75000000.0</td>\n",
       "      <td>15507845</td>\n",
       "      <td>215663859.0</td>\n",
       "      <td>$67,771,442</td>\n",
       "    </tr>\n",
       "    <tr>\n",
       "      <td>38</td>\n",
       "      <td>17000000.0</td>\n",
       "      <td>NaN</td>\n",
       "      <td>213525736.0</td>\n",
       "      <td>NaN</td>\n",
       "    </tr>\n",
       "    <tr>\n",
       "      <td>39</td>\n",
       "      <td>70000000.0</td>\n",
       "      <td>33614543</td>\n",
       "      <td>191300000.0</td>\n",
       "      <td>$181,483,882</td>\n",
       "    </tr>\n",
       "    <tr>\n",
       "      <td>40</td>\n",
       "      <td>100000000.0</td>\n",
       "      <td>29702959</td>\n",
       "      <td>291420351.0</td>\n",
       "      <td>$155,018,556</td>\n",
       "    </tr>\n",
       "    <tr>\n",
       "      <td>41</td>\n",
       "      <td>13500000.0</td>\n",
       "      <td>NaN</td>\n",
       "      <td>NaN</td>\n",
       "      <td>$4,284,664</td>\n",
       "    </tr>\n",
       "    <tr>\n",
       "      <td>42</td>\n",
       "      <td>23000000.0</td>\n",
       "      <td>14015741</td>\n",
       "      <td>NaN</td>\n",
       "      <td>NaN</td>\n",
       "    </tr>\n",
       "    <tr>\n",
       "      <td>43</td>\n",
       "      <td>4500000.0</td>\n",
       "      <td>NaN</td>\n",
       "      <td>NaN</td>\n",
       "      <td>NaN</td>\n",
       "    </tr>\n",
       "    <tr>\n",
       "      <td>44</td>\n",
       "      <td>12800000.0</td>\n",
       "      <td>NaN</td>\n",
       "      <td>NaN</td>\n",
       "      <td>$2,839,256</td>\n",
       "    </tr>\n",
       "    <tr>\n",
       "      <td>45</td>\n",
       "      <td>73000000.0</td>\n",
       "      <td>11548898</td>\n",
       "      <td>8253978.0</td>\n",
       "      <td>NaN</td>\n",
       "    </tr>\n",
       "    <tr>\n",
       "      <td>46</td>\n",
       "      <td>51000000.0</td>\n",
       "      <td>24209385</td>\n",
       "      <td>149270999.0</td>\n",
       "      <td>$560,525</td>\n",
       "    </tr>\n",
       "    <tr>\n",
       "      <td>47</td>\n",
       "      <td>80000000.0</td>\n",
       "      <td>11516712</td>\n",
       "      <td>NaN</td>\n",
       "      <td>$30,366,277</td>\n",
       "    </tr>\n",
       "    <tr>\n",
       "      <td>48</td>\n",
       "      <td>48000000.0</td>\n",
       "      <td>13106526</td>\n",
       "      <td>NaN</td>\n",
       "      <td>NaN</td>\n",
       "    </tr>\n",
       "    <tr>\n",
       "      <td>49</td>\n",
       "      <td>30000000.0</td>\n",
       "      <td>8901419</td>\n",
       "      <td>NaN</td>\n",
       "      <td>$70,334,258</td>\n",
       "    </tr>\n",
       "  </tbody>\n",
       "</table>\n",
       "</div>"
      ],
      "text/plain": [
       "         Budget      OWUS          CWG     BoxOffice\n",
       "0    48000000.0       NaN          NaN  $124,420,707\n",
       "1   103000000.0  34819017          NaN           NaN\n",
       "2    75000000.0       NaN  511565348.0  $259,011,600\n",
       "3     4500000.0     64770    7390108.0    $2,546,851\n",
       "4    30000000.0  20905831  136706683.0  $114,297,071\n",
       "5     7000000.0   4961015   34266564.0           NaN\n",
       "6           NaN       NaN   83557872.0   $30,093,107\n",
       "7    50000000.0  11039214    5317452.0   $44,004,460\n",
       "8     9000000.0    235488   39723096.0   $23,844,220\n",
       "9   110000000.0  22413710  215294342.0    $2,317,507\n",
       "10          NaN       NaN          NaN  $156,164,829\n",
       "11   60000000.0   2314646   14848839.0   $31,716,715\n",
       "12   14000000.0   6354586  173046663.0           NaN\n",
       "13          NaN       NaN          NaN           NaN\n",
       "14   90000000.0  28883406          NaN           NaN\n",
       "15   75000000.0  30330771  154500000.0   $95,000,000\n",
       "16  127500000.0  38854851  354248063.0  $135,606,304\n",
       "17   45000000.0  17319282  113916474.0           NaN\n",
       "18   52000000.0  28138465  256271286.0           NaN\n",
       "19    5000000.0       NaN  109280263.0           NaN\n",
       "20   26000000.0       NaN   75769783.0   $45,150,731\n",
       "21  100000000.0   9812302  169327687.0   $87,320,505\n",
       "22   25000000.0       NaN   81190583.0           NaN\n",
       "23   25000000.0       NaN   81190583.0           NaN\n",
       "24          NaN       NaN          NaN           NaN\n",
       "25   41300000.0  15915676  106371651.0   $57,262,492\n",
       "26   11000000.0  17362105          NaN   $67,905,760\n",
       "27  125000000.0  57845297  565400000.0           NaN\n",
       "28   90000000.0  25336048  237202299.0           NaN\n",
       "29   16000000.0  15484004  119754278.0           NaN\n",
       "30          NaN       NaN   13834044.0           NaN\n",
       "31   33000000.0  17515050  104155843.0           NaN\n",
       "32   23000000.0  10015822  112880294.0           NaN\n",
       "33   50000000.0  15277921  144056873.0           NaN\n",
       "34   95000000.0  26414386  118000000.0   $72,055,301\n",
       "35          NaN       NaN          NaN           NaN\n",
       "36   48000000.0  15517549  207515725.0  $123,836,420\n",
       "37   75000000.0  15507845  215663859.0   $67,771,442\n",
       "38   17000000.0       NaN  213525736.0           NaN\n",
       "39   70000000.0  33614543  191300000.0  $181,483,882\n",
       "40  100000000.0  29702959  291420351.0  $155,018,556\n",
       "41   13500000.0       NaN          NaN    $4,284,664\n",
       "42   23000000.0  14015741          NaN           NaN\n",
       "43    4500000.0       NaN          NaN           NaN\n",
       "44   12800000.0       NaN          NaN    $2,839,256\n",
       "45   73000000.0  11548898    8253978.0           NaN\n",
       "46   51000000.0  24209385  149270999.0      $560,525\n",
       "47   80000000.0  11516712          NaN   $30,366,277\n",
       "48   48000000.0  13106526          NaN           NaN\n",
       "49   30000000.0   8901419          NaN   $70,334,258"
      ]
     },
     "execution_count": 83,
     "metadata": {},
     "output_type": "execute_result"
    }
   ],
   "source": [
    "bud = whole_df[['Budget','OWUS','CWG','BoxOffice']]\n",
    "bud.head(50)\n",
    "#bud.to_csv('budget.csv',index=True,header=True)"
   ]
  },
  {
   "cell_type": "code",
   "execution_count": 81,
   "metadata": {
    "ExecuteTime": {
     "end_time": "2019-12-02T17:37:05.608890Z",
     "start_time": "2019-12-02T17:37:04.933453Z"
    }
   },
   "outputs": [],
   "source": [
    "whole_df.to_csv('test.csv',index=True,header=True)"
   ]
  },
  {
   "cell_type": "code",
   "execution_count": 82,
   "metadata": {
    "ExecuteTime": {
     "end_time": "2019-12-02T17:37:05.614600Z",
     "start_time": "2019-12-02T17:37:05.610302Z"
    }
   },
   "outputs": [
    {
     "data": {
      "text/plain": [
       "'/Users/bader/Dropbox/DSI_GA_Capstone/Code/Bader'"
      ]
     },
     "execution_count": 82,
     "metadata": {},
     "output_type": "execute_result"
    }
   ],
   "source": [
    "pwd"
   ]
  }
 ],
 "metadata": {
  "kernelspec": {
   "display_name": "Python 3",
   "language": "python",
   "name": "python3"
  },
  "language_info": {
   "codemirror_mode": {
    "name": "ipython",
    "version": 3
   },
   "file_extension": ".py",
   "mimetype": "text/x-python",
   "name": "python",
   "nbconvert_exporter": "python",
   "pygments_lexer": "ipython3",
   "version": "3.7.4"
  }
 },
 "nbformat": 4,
 "nbformat_minor": 2
}
