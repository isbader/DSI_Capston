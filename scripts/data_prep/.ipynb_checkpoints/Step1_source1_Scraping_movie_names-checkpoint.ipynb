{
 "cells": [
  {
   "cell_type": "markdown",
   "metadata": {},
   "source": [
    "### To get the movies sorted by the popularity in a specific year we WebScraped the movie names from the IMDB website with the popularity filter applied. The output file should contain the movie name and the year released."
   ]
  },
  {
   "cell_type": "code",
   "execution_count": 1,
   "metadata": {
    "ExecuteTime": {
     "end_time": "2019-12-15T07:04:47.051778Z",
     "start_time": "2019-12-15T07:04:44.958762Z"
    }
   },
   "outputs": [],
   "source": [
    "import requests\n",
    "import random\n",
    "import re\n",
    "import pandas as pd\n",
    "from bs4 import BeautifulSoup"
   ]
  },
  {
   "cell_type": "code",
   "execution_count": 2,
   "metadata": {
    "ExecuteTime": {
     "end_time": "2019-12-15T07:04:55.539516Z",
     "start_time": "2019-12-15T07:04:53.759841Z"
    }
   },
   "outputs": [
    {
     "name": "stdout",
     "output_type": "stream",
     "text": [
      "https://www.imdb.com/search/title/?title_type=feature&year=2017-01-01,2017-12-31&start=0&ref_=adv_nxt\n",
      "200\n"
     ]
    }
   ],
   "source": [
    "#Checking the url and scraping method (minuplate the date from the URL)\n",
    "n=[]\n",
    "link = 'https://www.imdb.com/search/title/?title_type=feature&year=2017-01-01,2017-12-31&start=0&ref_=adv_nxt'\n",
    "print(link)\n",
    "response = requests.get(link)\n",
    "print(response.status_code)\n",
    "soup = BeautifulSoup(response.text, 'html.parser')  \n",
    "movieName = soup.find_all('h3', class_ = 'lister-item-header')\n",
    "for p in movieName:\n",
    "    n.append(p.find('a').text)\n"
   ]
  },
  {
   "cell_type": "code",
   "execution_count": 3,
   "metadata": {
    "ExecuteTime": {
     "end_time": "2019-11-29T02:34:23.227006Z",
     "start_time": "2019-11-29T02:34:23.222493Z"
    }
   },
   "outputs": [
    {
     "data": {
      "text/plain": [
       "['Star Wars: Episode VIII - The Last Jedi',\n",
       " 'Jumanji: Welcome to the Jungle',\n",
       " 'Thor: Ragnarok',\n",
       " 'It',\n",
       " 'Blade Runner 2049',\n",
       " 'The Greatest Showman',\n",
       " 'Shot Caller',\n",
       " 'Call Me by Your Name',\n",
       " 'A Christmas Prince',\n",
       " 'Guardians of the Galaxy Vol. 2',\n",
       " 'A Bad Moms Christmas',\n",
       " 'King Arthur: Legend of the Sword',\n",
       " 'Justice League',\n",
       " 'Get Out',\n",
       " 'Logan',\n",
       " 'Anna and the Apocalypse',\n",
       " 'The Shape of Water',\n",
       " 'Baby Driver',\n",
       " 'Coco',\n",
       " 'Murder on the Orient Express',\n",
       " 'Beauty and the Beast',\n",
       " 'Kingsman: The Golden Circle',\n",
       " 'Dunkirk',\n",
       " 'Spider-Man: Homecoming',\n",
       " 'The Post',\n",
       " 'Baywatch',\n",
       " 'Alien: Covenant',\n",
       " 'Wonder',\n",
       " 'Three Billboards Outside Ebbing, Missouri',\n",
       " 'You Were Never Really Here',\n",
       " 'Lady Bird',\n",
       " 'Wonder Woman',\n",
       " 'Good Time',\n",
       " 'John Wick: Chapter 2',\n",
       " 'American Made',\n",
       " 'All the Money in the World',\n",
       " 'The Babysitter',\n",
       " 'Pirates of the Caribbean: Dead Men Tell No Tales',\n",
       " 'I, Tonya',\n",
       " 'CHIPS',\n",
       " 'Valerian and the City of a Thousand Planets',\n",
       " \"Molly's Game\",\n",
       " 'Pitch Perfect 3',\n",
       " 'Transformers: The Last Knight',\n",
       " 'Mother!',\n",
       " 'Christmas in the Heartland',\n",
       " 'Sweet Virginia',\n",
       " 'The Current War',\n",
       " 'Downsizing',\n",
       " 'Fifty Shades Darker']"
      ]
     },
     "execution_count": 3,
     "metadata": {},
     "output_type": "execute_result"
    }
   ],
   "source": [
    "n"
   ]
  },
  {
   "cell_type": "code",
   "execution_count": 3,
   "metadata": {
    "ExecuteTime": {
     "end_time": "2019-12-15T07:05:01.072418Z",
     "start_time": "2019-12-15T07:05:01.066970Z"
    }
   },
   "outputs": [],
   "source": [
    "# A function to get the movie names and append them to a list\n",
    "def getname(soup):\n",
    "    n=[]\n",
    "    movieName = soup.find_all('h3', class_ = 'lister-item-header')\n",
    "    for p in movieName:\n",
    "        n.append(p.find('a').text)\n",
    "    return n\n",
    "\n"
   ]
  },
  {
   "cell_type": "code",
   "execution_count": 4,
   "metadata": {
    "ExecuteTime": {
     "end_time": "2019-12-15T07:05:01.651770Z",
     "start_time": "2019-12-15T07:05:01.646228Z"
    }
   },
   "outputs": [],
   "source": [
    "def getrandom(soup):\n",
    "    n=[]\n",
    "    movieName = soup.find_all('h3', class_ = 'lister-item-header')\n",
    "    Mlength = len(movieName)\n",
    "    ranindx = random.randrange(Mlength)\n",
    "    n.append(movieName[ranindx].find('a').text)\n",
    "    return n"
   ]
  },
  {
   "cell_type": "code",
   "execution_count": 5,
   "metadata": {
    "ExecuteTime": {
     "end_time": "2019-12-15T07:08:35.864252Z",
     "start_time": "2019-12-15T07:05:59.773474Z"
    }
   },
   "outputs": [
    {
     "name": "stdout",
     "output_type": "stream",
     "text": [
      "3903\n",
      "https://www.imdb.com/search/title/?title_type=feature&year=2000-01-01,2000-12-31&start=250&ref_=adv_nxt\n",
      "200\n",
      "https://www.imdb.com/search/title/?title_type=feature&year=2000-01-01,2000-12-31&start=275&ref_=adv_nxt\n",
      "200\n",
      "https://www.imdb.com/search/title/?title_type=feature&year=2000-01-01,2000-12-31&start=300&ref_=adv_nxt\n",
      "200\n",
      "https://www.imdb.com/search/title/?title_type=feature&year=2000-01-01,2000-12-31&start=325&ref_=adv_nxt\n",
      "200\n",
      "https://www.imdb.com/search/title/?title_type=feature&year=2000-01-01,2000-12-31&start=350&ref_=adv_nxt\n",
      "200\n",
      "https://www.imdb.com/search/title/?title_type=feature&year=2000-01-01,2000-12-31&start=375&ref_=adv_nxt\n",
      "200\n",
      "https://www.imdb.com/search/title/?title_type=feature&year=2000-01-01,2000-12-31&start=400&ref_=adv_nxt\n",
      "200\n",
      "https://www.imdb.com/search/title/?title_type=feature&year=2000-01-01,2000-12-31&start=425&ref_=adv_nxt\n",
      "200\n",
      "https://www.imdb.com/search/title/?title_type=feature&year=2000-01-01,2000-12-31&start=450&ref_=adv_nxt\n",
      "200\n",
      "https://www.imdb.com/search/title/?title_type=feature&year=2000-01-01,2000-12-31&start=475&ref_=adv_nxt\n",
      "200\n",
      "4138\n",
      "https://www.imdb.com/search/title/?title_type=feature&year=2001-01-01,2001-12-31&start=250&ref_=adv_nxt\n",
      "200\n",
      "https://www.imdb.com/search/title/?title_type=feature&year=2001-01-01,2001-12-31&start=275&ref_=adv_nxt\n",
      "200\n",
      "https://www.imdb.com/search/title/?title_type=feature&year=2001-01-01,2001-12-31&start=300&ref_=adv_nxt\n",
      "200\n",
      "https://www.imdb.com/search/title/?title_type=feature&year=2001-01-01,2001-12-31&start=325&ref_=adv_nxt\n",
      "200\n",
      "https://www.imdb.com/search/title/?title_type=feature&year=2001-01-01,2001-12-31&start=350&ref_=adv_nxt\n",
      "200\n",
      "https://www.imdb.com/search/title/?title_type=feature&year=2001-01-01,2001-12-31&start=375&ref_=adv_nxt\n",
      "200\n",
      "https://www.imdb.com/search/title/?title_type=feature&year=2001-01-01,2001-12-31&start=400&ref_=adv_nxt\n",
      "200\n",
      "https://www.imdb.com/search/title/?title_type=feature&year=2001-01-01,2001-12-31&start=425&ref_=adv_nxt\n",
      "200\n",
      "https://www.imdb.com/search/title/?title_type=feature&year=2001-01-01,2001-12-31&start=450&ref_=adv_nxt\n",
      "200\n",
      "https://www.imdb.com/search/title/?title_type=feature&year=2001-01-01,2001-12-31&start=475&ref_=adv_nxt\n",
      "200\n",
      "4231\n",
      "https://www.imdb.com/search/title/?title_type=feature&year=2002-01-01,2002-12-31&start=250&ref_=adv_nxt\n",
      "200\n",
      "https://www.imdb.com/search/title/?title_type=feature&year=2002-01-01,2002-12-31&start=275&ref_=adv_nxt\n",
      "200\n",
      "https://www.imdb.com/search/title/?title_type=feature&year=2002-01-01,2002-12-31&start=300&ref_=adv_nxt\n",
      "200\n",
      "https://www.imdb.com/search/title/?title_type=feature&year=2002-01-01,2002-12-31&start=325&ref_=adv_nxt\n",
      "200\n",
      "https://www.imdb.com/search/title/?title_type=feature&year=2002-01-01,2002-12-31&start=350&ref_=adv_nxt\n",
      "200\n",
      "https://www.imdb.com/search/title/?title_type=feature&year=2002-01-01,2002-12-31&start=375&ref_=adv_nxt\n",
      "200\n",
      "https://www.imdb.com/search/title/?title_type=feature&year=2002-01-01,2002-12-31&start=400&ref_=adv_nxt\n",
      "200\n",
      "https://www.imdb.com/search/title/?title_type=feature&year=2002-01-01,2002-12-31&start=425&ref_=adv_nxt\n",
      "200\n",
      "https://www.imdb.com/search/title/?title_type=feature&year=2002-01-01,2002-12-31&start=450&ref_=adv_nxt\n",
      "200\n",
      "https://www.imdb.com/search/title/?title_type=feature&year=2002-01-01,2002-12-31&start=475&ref_=adv_nxt\n",
      "200\n",
      "4112\n",
      "https://www.imdb.com/search/title/?title_type=feature&year=2003-01-01,2003-12-31&start=250&ref_=adv_nxt\n",
      "200\n",
      "https://www.imdb.com/search/title/?title_type=feature&year=2003-01-01,2003-12-31&start=275&ref_=adv_nxt\n",
      "200\n",
      "https://www.imdb.com/search/title/?title_type=feature&year=2003-01-01,2003-12-31&start=300&ref_=adv_nxt\n",
      "200\n",
      "https://www.imdb.com/search/title/?title_type=feature&year=2003-01-01,2003-12-31&start=325&ref_=adv_nxt\n",
      "200\n",
      "https://www.imdb.com/search/title/?title_type=feature&year=2003-01-01,2003-12-31&start=350&ref_=adv_nxt\n",
      "200\n",
      "https://www.imdb.com/search/title/?title_type=feature&year=2003-01-01,2003-12-31&start=375&ref_=adv_nxt\n",
      "200\n",
      "https://www.imdb.com/search/title/?title_type=feature&year=2003-01-01,2003-12-31&start=400&ref_=adv_nxt\n",
      "200\n",
      "https://www.imdb.com/search/title/?title_type=feature&year=2003-01-01,2003-12-31&start=425&ref_=adv_nxt\n",
      "200\n",
      "https://www.imdb.com/search/title/?title_type=feature&year=2003-01-01,2003-12-31&start=450&ref_=adv_nxt\n",
      "200\n",
      "https://www.imdb.com/search/title/?title_type=feature&year=2003-01-01,2003-12-31&start=475&ref_=adv_nxt\n",
      "200\n",
      "4391\n",
      "https://www.imdb.com/search/title/?title_type=feature&year=2004-01-01,2004-12-31&start=250&ref_=adv_nxt\n",
      "200\n",
      "https://www.imdb.com/search/title/?title_type=feature&year=2004-01-01,2004-12-31&start=275&ref_=adv_nxt\n",
      "200\n",
      "https://www.imdb.com/search/title/?title_type=feature&year=2004-01-01,2004-12-31&start=300&ref_=adv_nxt\n",
      "200\n",
      "https://www.imdb.com/search/title/?title_type=feature&year=2004-01-01,2004-12-31&start=325&ref_=adv_nxt\n",
      "200\n",
      "https://www.imdb.com/search/title/?title_type=feature&year=2004-01-01,2004-12-31&start=350&ref_=adv_nxt\n",
      "200\n",
      "https://www.imdb.com/search/title/?title_type=feature&year=2004-01-01,2004-12-31&start=375&ref_=adv_nxt\n",
      "200\n",
      "https://www.imdb.com/search/title/?title_type=feature&year=2004-01-01,2004-12-31&start=400&ref_=adv_nxt\n",
      "200\n",
      "https://www.imdb.com/search/title/?title_type=feature&year=2004-01-01,2004-12-31&start=425&ref_=adv_nxt\n",
      "200\n",
      "https://www.imdb.com/search/title/?title_type=feature&year=2004-01-01,2004-12-31&start=450&ref_=adv_nxt\n",
      "200\n",
      "https://www.imdb.com/search/title/?title_type=feature&year=2004-01-01,2004-12-31&start=475&ref_=adv_nxt\n",
      "200\n",
      "4936\n",
      "https://www.imdb.com/search/title/?title_type=feature&year=2005-01-01,2005-12-31&start=250&ref_=adv_nxt\n",
      "200\n",
      "https://www.imdb.com/search/title/?title_type=feature&year=2005-01-01,2005-12-31&start=275&ref_=adv_nxt\n",
      "200\n",
      "https://www.imdb.com/search/title/?title_type=feature&year=2005-01-01,2005-12-31&start=300&ref_=adv_nxt\n",
      "200\n",
      "https://www.imdb.com/search/title/?title_type=feature&year=2005-01-01,2005-12-31&start=325&ref_=adv_nxt\n",
      "200\n",
      "https://www.imdb.com/search/title/?title_type=feature&year=2005-01-01,2005-12-31&start=350&ref_=adv_nxt\n",
      "200\n",
      "https://www.imdb.com/search/title/?title_type=feature&year=2005-01-01,2005-12-31&start=375&ref_=adv_nxt\n",
      "200\n",
      "https://www.imdb.com/search/title/?title_type=feature&year=2005-01-01,2005-12-31&start=400&ref_=adv_nxt\n",
      "200\n",
      "https://www.imdb.com/search/title/?title_type=feature&year=2005-01-01,2005-12-31&start=425&ref_=adv_nxt\n",
      "200\n",
      "https://www.imdb.com/search/title/?title_type=feature&year=2005-01-01,2005-12-31&start=450&ref_=adv_nxt\n",
      "200\n",
      "https://www.imdb.com/search/title/?title_type=feature&year=2005-01-01,2005-12-31&start=475&ref_=adv_nxt\n",
      "200\n",
      "5282\n",
      "https://www.imdb.com/search/title/?title_type=feature&year=2006-01-01,2006-12-31&start=250&ref_=adv_nxt\n",
      "200\n",
      "https://www.imdb.com/search/title/?title_type=feature&year=2006-01-01,2006-12-31&start=275&ref_=adv_nxt\n",
      "200\n",
      "https://www.imdb.com/search/title/?title_type=feature&year=2006-01-01,2006-12-31&start=300&ref_=adv_nxt\n",
      "200\n",
      "https://www.imdb.com/search/title/?title_type=feature&year=2006-01-01,2006-12-31&start=325&ref_=adv_nxt\n",
      "200\n",
      "https://www.imdb.com/search/title/?title_type=feature&year=2006-01-01,2006-12-31&start=350&ref_=adv_nxt\n",
      "200\n",
      "https://www.imdb.com/search/title/?title_type=feature&year=2006-01-01,2006-12-31&start=375&ref_=adv_nxt\n",
      "200\n",
      "https://www.imdb.com/search/title/?title_type=feature&year=2006-01-01,2006-12-31&start=400&ref_=adv_nxt\n",
      "200\n",
      "https://www.imdb.com/search/title/?title_type=feature&year=2006-01-01,2006-12-31&start=425&ref_=adv_nxt\n",
      "200\n",
      "https://www.imdb.com/search/title/?title_type=feature&year=2006-01-01,2006-12-31&start=450&ref_=adv_nxt\n",
      "200\n",
      "https://www.imdb.com/search/title/?title_type=feature&year=2006-01-01,2006-12-31&start=475&ref_=adv_nxt\n",
      "200\n",
      "5642\n",
      "https://www.imdb.com/search/title/?title_type=feature&year=2007-01-01,2007-12-31&start=250&ref_=adv_nxt\n",
      "200\n",
      "https://www.imdb.com/search/title/?title_type=feature&year=2007-01-01,2007-12-31&start=275&ref_=adv_nxt\n",
      "200\n",
      "https://www.imdb.com/search/title/?title_type=feature&year=2007-01-01,2007-12-31&start=300&ref_=adv_nxt\n",
      "200\n",
      "https://www.imdb.com/search/title/?title_type=feature&year=2007-01-01,2007-12-31&start=325&ref_=adv_nxt\n",
      "200\n",
      "https://www.imdb.com/search/title/?title_type=feature&year=2007-01-01,2007-12-31&start=350&ref_=adv_nxt\n",
      "200\n",
      "https://www.imdb.com/search/title/?title_type=feature&year=2007-01-01,2007-12-31&start=375&ref_=adv_nxt\n"
     ]
    },
    {
     "name": "stdout",
     "output_type": "stream",
     "text": [
      "200\n",
      "https://www.imdb.com/search/title/?title_type=feature&year=2007-01-01,2007-12-31&start=400&ref_=adv_nxt\n",
      "200\n",
      "https://www.imdb.com/search/title/?title_type=feature&year=2007-01-01,2007-12-31&start=425&ref_=adv_nxt\n",
      "200\n",
      "https://www.imdb.com/search/title/?title_type=feature&year=2007-01-01,2007-12-31&start=450&ref_=adv_nxt\n",
      "200\n",
      "https://www.imdb.com/search/title/?title_type=feature&year=2007-01-01,2007-12-31&start=475&ref_=adv_nxt\n",
      "200\n",
      "6369\n",
      "https://www.imdb.com/search/title/?title_type=feature&year=2008-01-01,2008-12-31&start=250&ref_=adv_nxt\n",
      "200\n",
      "https://www.imdb.com/search/title/?title_type=feature&year=2008-01-01,2008-12-31&start=275&ref_=adv_nxt\n",
      "200\n",
      "https://www.imdb.com/search/title/?title_type=feature&year=2008-01-01,2008-12-31&start=300&ref_=adv_nxt\n",
      "200\n",
      "https://www.imdb.com/search/title/?title_type=feature&year=2008-01-01,2008-12-31&start=325&ref_=adv_nxt\n",
      "200\n",
      "https://www.imdb.com/search/title/?title_type=feature&year=2008-01-01,2008-12-31&start=350&ref_=adv_nxt\n",
      "200\n",
      "https://www.imdb.com/search/title/?title_type=feature&year=2008-01-01,2008-12-31&start=375&ref_=adv_nxt\n",
      "200\n",
      "https://www.imdb.com/search/title/?title_type=feature&year=2008-01-01,2008-12-31&start=400&ref_=adv_nxt\n",
      "200\n",
      "https://www.imdb.com/search/title/?title_type=feature&year=2008-01-01,2008-12-31&start=425&ref_=adv_nxt\n",
      "200\n",
      "https://www.imdb.com/search/title/?title_type=feature&year=2008-01-01,2008-12-31&start=450&ref_=adv_nxt\n",
      "200\n",
      "https://www.imdb.com/search/title/?title_type=feature&year=2008-01-01,2008-12-31&start=475&ref_=adv_nxt\n",
      "200\n"
     ]
    }
   ],
   "source": [
    "# The first loop will go through the pages using the years (input to the URL)  \n",
    "# The second loop will append the movies (Popularity sequence)\n",
    "\n",
    "years =[2000,2001,2002,2003,2004,2005,2006,2007,2008]\n",
    "#years =[2017]\n",
    "\n",
    "names_list = []\n",
    "MY=[]\n",
    "\n",
    "for y in years:\n",
    "    testlink = 'https://www.imdb.com/search/title/?title_type=feature&year='+str(y)+'-01-01,'+str(y)+'-12-31&start=0&ref_=adv_nxt'\n",
    "    testresponse = requests.get(testlink)\n",
    "    test_soup = BeautifulSoup(testresponse.text, 'html.parser') \n",
    "    num_list = test_soup.find('div', class_ = 'desc').find('span')\n",
    "    num = num_list.text.split(\" \")[2]\n",
    "    movnum = int(num.replace(\",\",\"\"))\n",
    "    print(movnum)\n",
    "    for x in range (250,500,25):\n",
    "        link = 'https://www.imdb.com/search/title/?title_type=feature&year='+str(y)+'-01-01,'+str(y)+'-12-31&start='+str(x)+'&ref_=adv_nxt'\n",
    "        print(link)\n",
    "        response = requests.get(link)\n",
    "        print(response.status_code)\n",
    "        soup = BeautifulSoup(response.text, 'html.parser') \n",
    "        if(not(x>0 and soup == test_soup)):\n",
    "            Nlist = getname(soup)\n",
    "            MY = MY + ([y] * len(Nlist))\n",
    "            names_list = names_list + Nlist\n",
    "\n",
    "            \n",
    "\n",
    "#     for x in range (250,movnum,25):\n",
    "#         link = 'https://www.imdb.com/search/title/?title_type=feature&year='+str(y)+'-01-01,'+str(y)+'-12-31&start='+str(x)+'&ref_=adv_nxt'\n",
    "#         print(link)\n",
    "#         response = requests.get(link)\n",
    "#         print(response.status_code)\n",
    "#         soup = BeautifulSoup(response.text, 'html.parser') \n",
    "#         if(not(x>0 and soup == test_soup)):\n",
    "#             Nlist = getrandom(soup)\n",
    "#             MY = MY + ([y] * len(Nlist))\n",
    "#             names_list = names_list + Nlist    \n"
   ]
  },
  {
   "cell_type": "code",
   "execution_count": 6,
   "metadata": {
    "ExecuteTime": {
     "end_time": "2019-12-15T07:18:06.781312Z",
     "start_time": "2019-12-15T07:18:06.766610Z"
    }
   },
   "outputs": [],
   "source": [
    "# create data frame\n",
    "names_2016_2017 = pd.DataFrame({'year': MY,'name': names_list})"
   ]
  },
  {
   "cell_type": "code",
   "execution_count": 7,
   "metadata": {
    "ExecuteTime": {
     "end_time": "2019-12-15T07:18:07.485673Z",
     "start_time": "2019-12-15T07:18:07.473104Z"
    }
   },
   "outputs": [
    {
     "data": {
      "text/plain": [
       "(4500, 2)"
      ]
     },
     "execution_count": 7,
     "metadata": {},
     "output_type": "execute_result"
    }
   ],
   "source": [
    "names_2016_2017.shape"
   ]
  },
  {
   "cell_type": "code",
   "execution_count": 8,
   "metadata": {
    "ExecuteTime": {
     "end_time": "2019-12-15T07:18:18.372619Z",
     "start_time": "2019-12-15T07:18:18.353460Z"
    }
   },
   "outputs": [
    {
     "data": {
      "text/plain": [
       "2007    500\n",
       "2003    500\n",
       "2006    500\n",
       "2002    500\n",
       "2005    500\n",
       "2001    500\n",
       "2008    500\n",
       "2004    500\n",
       "2000    500\n",
       "Name: year, dtype: int64"
      ]
     },
     "execution_count": 8,
     "metadata": {},
     "output_type": "execute_result"
    }
   ],
   "source": [
    "names_2016_2017['year'].value_counts()"
   ]
  },
  {
   "cell_type": "code",
   "execution_count": 9,
   "metadata": {
    "ExecuteTime": {
     "end_time": "2019-12-15T07:18:35.356375Z",
     "start_time": "2019-12-15T07:18:35.340864Z"
    }
   },
   "outputs": [
    {
     "data": {
      "text/html": [
       "<div>\n",
       "<style scoped>\n",
       "    .dataframe tbody tr th:only-of-type {\n",
       "        vertical-align: middle;\n",
       "    }\n",
       "\n",
       "    .dataframe tbody tr th {\n",
       "        vertical-align: top;\n",
       "    }\n",
       "\n",
       "    .dataframe thead th {\n",
       "        text-align: right;\n",
       "    }\n",
       "</style>\n",
       "<table border=\"1\" class=\"dataframe\">\n",
       "  <thead>\n",
       "    <tr style=\"text-align: right;\">\n",
       "      <th></th>\n",
       "      <th>year</th>\n",
       "      <th>name</th>\n",
       "    </tr>\n",
       "  </thead>\n",
       "  <tbody>\n",
       "    <tr>\n",
       "      <td>0</td>\n",
       "      <td>2000</td>\n",
       "      <td>George Washington</td>\n",
       "    </tr>\n",
       "    <tr>\n",
       "      <td>1</td>\n",
       "      <td>2000</td>\n",
       "      <td>Lockdown</td>\n",
       "    </tr>\n",
       "    <tr>\n",
       "      <td>2</td>\n",
       "      <td>2000</td>\n",
       "      <td>Versus</td>\n",
       "    </tr>\n",
       "    <tr>\n",
       "      <td>3</td>\n",
       "      <td>2000</td>\n",
       "      <td>Love's Labour's Lost</td>\n",
       "    </tr>\n",
       "    <tr>\n",
       "      <td>4</td>\n",
       "      <td>2000</td>\n",
       "      <td>Across the Line</td>\n",
       "    </tr>\n",
       "  </tbody>\n",
       "</table>\n",
       "</div>"
      ],
      "text/plain": [
       "   year                  name\n",
       "0  2000     George Washington\n",
       "1  2000              Lockdown\n",
       "2  2000                Versus\n",
       "3  2000  Love's Labour's Lost\n",
       "4  2000       Across the Line"
      ]
     },
     "execution_count": 9,
     "metadata": {},
     "output_type": "execute_result"
    }
   ],
   "source": [
    "names_2016_2017.head()"
   ]
  },
  {
   "cell_type": "code",
   "execution_count": 10,
   "metadata": {
    "ExecuteTime": {
     "end_time": "2019-12-15T07:23:10.493316Z",
     "start_time": "2019-12-15T07:23:10.469287Z"
    }
   },
   "outputs": [],
   "source": [
    "export_csv = names_2016_2017.to_csv(r'names_second_batch.csv', index = None, header=True) "
   ]
  }
 ],
 "metadata": {
  "kernelspec": {
   "display_name": "Python 3",
   "language": "python",
   "name": "python3"
  },
  "language_info": {
   "codemirror_mode": {
    "name": "ipython",
    "version": 3
   },
   "file_extension": ".py",
   "mimetype": "text/x-python",
   "name": "python",
   "nbconvert_exporter": "python",
   "pygments_lexer": "ipython3",
   "version": "3.7.4"
  }
 },
 "nbformat": 4,
 "nbformat_minor": 2
}
